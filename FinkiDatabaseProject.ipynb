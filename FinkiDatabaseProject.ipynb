{
 "metadata": {
  "kernelspec": {
   "name": "SQL",
   "display_name": "SQL",
   "language": "sql"
  },
  "language_info": {
   "name": "sql",
   "version": ""
  }
 },
 "nbformat_minor": 2,
 "nbformat": 4,
 "cells": [
  {
   "cell_type": "markdown",
   "source": [
    "# **1\\. CREATING INITIAL TABLES**"
   ],
   "metadata": {
    "language": "sql",
    "azdata_cell_guid": "5a971f15-67f7-400d-90f9-8d315788b32f"
   },
   "attachments": {}
  },
  {
   "cell_type": "code",
   "source": [
    "DROP TABLE CourseProfessors, MandatoryCourseStudies, Courses, Studies, Professors\n",
    "\n",
    "CREATE TABLE Professors(\n",
    "    profCode INT PRIMARY KEY,\n",
    "    firstName NVARCHAR(50) COLLATE Cyrillic_General_CI_AS, \n",
    "    lastName NVARCHAR(50) COLLATE Cyrillic_General_CI_AS,\n",
    "    email NVARCHAR(50),\n",
    "    numberOfCourses INT\n",
    ");\n",
    "\n",
    "CREATE TABLE Studies(\n",
    "    studiesCode INT PRIMARY KEY,\n",
    "    name NVARCHAR(70) COLLATE Cyrillic_General_CI_AS,\n",
    "    yearsToComplete NVARCHAR(15),\n",
    ");\n",
    "\n",
    "CREATE TABLE Courses(\n",
    "    coursesCode NVARCHAR(10) PRIMARY KEY,\n",
    "    name NVARCHAR(70) COLLATE Cyrillic_General_CI_AS,\n",
    ");\n",
    "\n",
    "CREATE TABLE MandatoryCourseStudies(\n",
    "    studiesCode INT,\n",
    "    coursesCode NVARCHAR(10),\n",
    "    semester INT,\n",
    "    CONSTRAINT CourseStudies_PK PRIMARY KEY(coursesCode, studiesCode),\n",
    "    CONSTRAINT SCourseCode_FK FOREIGN KEY (coursesCode) REFERENCES Courses(coursesCode),\n",
    "    CONSTRAINT SStudiesCode_FK FOREIGN KEY (studiesCode) REFERENCES Studies(studiesCode),\n",
    ")\n",
    "\n",
    "CREATE TABLE CourseProfessors(\n",
    "    coursesCode NVARCHAR(10),\n",
    "    profCode INT,\n",
    "    CONSTRAINT CourseProfessors_PK PRIMARY KEY(coursesCode, profCode),\n",
    "    CONSTRAINT PCourseCode_FK FOREIGN KEY (coursesCode) REFERENCES Courses(coursesCode),\n",
    "    CONSTRAINT PStudiesCode_FK FOREIGN KEY (profCode) REFERENCES Professors(profCode),\n",
    ")"
   ],
   "metadata": {
    "language": "sql",
    "azdata_cell_guid": "e0a2c289-45a3-4391-a771-9451d0c64ced"
   },
   "outputs": [
    {
     "output_type": "display_data",
     "data": {
      "text/html": "Commands completed successfully."
     },
     "metadata": {}
    },
    {
     "output_type": "display_data",
     "data": {
      "text/html": "Total execution time: 00:00:00.044"
     },
     "metadata": {}
    }
   ],
   "execution_count": 75
  },
  {
   "cell_type": "markdown",
   "source": [
    "# **2\\. POPULATING THE TABLES**"
   ],
   "metadata": {
    "language": "sql",
    "azdata_cell_guid": "1dda3ff8-6dc2-467a-9860-c09430b270f7"
   },
   "attachments": {}
  },
  {
   "cell_type": "code",
   "source": [
    "INSERT INTO Professors(profCode, firstName, lastName, email) VALUES (1, N'Марјан', N'Гушев', 'marjan.gushev@finki.ukim.mk');\n",
    "INSERT INTO Professors(profCode, firstName, lastName, email) VALUES (2, N'Катерина', N'Здравкова', 'katerina.zdravkova@finki.ukim.mk');\n",
    "INSERT INTO Professors(profCode, firstName, lastName, email) VALUES (3, N'Сузана', N'Лошковска', 'suzana.loshkovska@finki.ukim.mk');\n",
    "INSERT INTO Professors(profCode, firstName, lastName, email) VALUES (4, N'Коста', N'Митрески', 'kosta.mitreski@finki.ukim.mk');\n",
    "INSERT INTO Professors(profCode, firstName, lastName, email) VALUES (5, N'Верица', N'Бакева', 'verica.bakeva@finki.ukim.mk');\n",
    "INSERT INTO Professors(profCode, firstName, lastName, email) VALUES (6, N'Владимир', N'Трајковиќ', 'vladimir.trajkovik@finki.ukim.mk');\n",
    "INSERT INTO Professors(profCode, firstName, lastName, email) VALUES (7, N'Ана', N'Мадевска Богданова', 'ana.madevska@finki.ukim.mk');\n",
    "INSERT INTO Professors(profCode, firstName, lastName, email) VALUES (8, N'Дејан', N'Ѓорѓевиќ', 'dejan.gjorgjevikj@finki.ukim.mk');\n",
    "INSERT INTO Professors(profCode, firstName, lastName, email) VALUES (9, N'Димитар', N'Трајанов', 'dimitar.trajanov@finki.ukim.mk');\n",
    "INSERT INTO Professors(profCode, firstName, lastName, email) VALUES (10, N'Андреа', N'Кулаков', 'andrea.kulakov@finki.ukim.mk');\n",
    "INSERT INTO Professors(profCode, firstName, lastName, email) VALUES (11, N'Љупчо', N'Антовски', 'ljupcho.antovski@finki.ukim.mk');\n",
    "INSERT INTO Professors(profCode, firstName, lastName, email) VALUES (12, N'Марија', N'Михова', 'marija.mihova@finki.ukim.mk');\n",
    "INSERT INTO Professors(profCode, firstName, lastName, email) VALUES (13, N'Слободан', N'Калајџиски', 'slobodan.kalajdziski@finki.ukim.mk');\n",
    "INSERT INTO Professors(profCode, firstName, lastName, email) VALUES (14, N'Невена', N'Ацковска', 'nevena.ackovska@finki.ukim.mk');\n",
    "INSERT INTO Professors(profCode, firstName, lastName, email) VALUES (15, N'Горан', N'Велинов', 'goran.velinov@finki.ukim.mk');\n",
    "INSERT INTO Professors(profCode, firstName, lastName, email) VALUES (16, N'Анастас', N'Мишев', 'anastas.mishev@finki.ukim.mk');\n",
    "INSERT INTO Professors(profCode, firstName, lastName, email) VALUES (17, N'Соња', N'Филипоска', 'sonja.filiposka@finki.ukim.mk');\n",
    "INSERT INTO Professors(profCode, firstName, lastName, email) VALUES (18, N'Иван', N'Чорбев', 'ivan.chorbev@finki.ukim.mk');\n",
    "INSERT INTO Professors(profCode, firstName, lastName, email) VALUES (19, N'Ласко', N'Баснарков', 'lasko.basnarkov@finki.ukim.mk');\n",
    "INSERT INTO Professors(profCode, firstName, lastName, email) VALUES (20, N'Боро', N'Јакимовски', 'boro.jakimovski@finki.ukim.mk');\n",
    "INSERT INTO Professors(profCode, firstName, lastName, email) VALUES (21, N'Весна', N'Димитрова', 'vesna.dimitrova@finki.ukim.mk');\n",
    "INSERT INTO Professors(profCode, firstName, lastName, email) VALUES (22, N'Гоце', N'Арменски', 'goce.armenski@finki.ukim.mk');\n",
    "INSERT INTO Professors(profCode, firstName, lastName, email) VALUES (23, N'Соња', N'Гиевска', 'sonja.gievska@finki.ukim.mk');\n",
    "INSERT INTO Professors(profCode, firstName, lastName, email) VALUES (24, N'Дејан', N'Спасов', 'dejan.spasov@finki.ukim.mk');\n",
    "INSERT INTO Professors(profCode, firstName, lastName, email) VALUES (25, N'Ивица', N'Димитровски', 'ivica.dimitrovski@finki.ukim.mk');\n",
    "INSERT INTO Professors(profCode, firstName, lastName, email) VALUES (26, N'Игор', N'Мишковски', 'igor.mishkovski@finki.ukim.mk');\n",
    "INSERT INTO Professors(profCode, firstName, lastName, email) VALUES (27, N'Ѓорѓи', N'Маџаров', 'gjorgji.madjarov@finki.ukim.mk');\n",
    "INSERT INTO Professors(profCode, firstName, lastName, email) VALUES (28, N'Смилка', N'Јанеска-Саркањац', 'smilka.janeska.sarkanjac@finki.ukim.mk');\n",
    "INSERT INTO Professors(profCode, firstName, lastName, email) VALUES (29, N'Вангел', N'Ајановски', 'vangel.ajanovski@finki.ukim.mk');\n",
    "INSERT INTO Professors(profCode, firstName, lastName, email) VALUES (30, N'Весна', N'Димитриевска Ристовска', 'vesna.dimitrievska.ristovska@finki.ukim.mk');\n",
    "INSERT INTO Professors(profCode, firstName, lastName, email) VALUES (31, N'Миле', N'Јованов', 'mile.jovanov@finki.ukim.mk');\n",
    "INSERT INTO Professors(profCode, firstName, lastName, email) VALUES (32, N'Билјана', N'Стојкоска', 'biljana.stojkoska@finki.ukim.mk');\n",
    "INSERT INTO Professors(profCode, firstName, lastName, email) VALUES (33, N'Кире', N'Триводалиев', 'kire.trivodaliev@finki.ukim.mk');\n",
    "INSERT INTO Professors(profCode, firstName, lastName, email) VALUES (34, N'Сашо', N'Граматиков', 'sasho.gramatikov@finki.ukim.mk');\n",
    "INSERT INTO Professors(profCode, firstName, lastName, email) VALUES (35, N'Мирослав', N'Мирчев', 'miroslav.mirchev@finki.ukim.mk');\n",
    "INSERT INTO Professors(profCode, firstName, lastName, email) VALUES (36, N'Георгина', N'Мирчева', 'georgina.mircheva@finki.ukim.mk');\n",
    "INSERT INTO Professors(profCode, firstName, lastName, email) VALUES (37, N'Магдалена', N'Костоска', 'magdalena.kostoska@finki.ukim.mk');\n",
    "INSERT INTO Professors(profCode, firstName, lastName, email) VALUES (38, N'Александра', N'Поповска Митровиќ', 'aleksandra.popovska.mitrovikj@finki.ukim.mk');\n",
    "INSERT INTO Professors(profCode, firstName, lastName, email) VALUES (39, N'Наташа', N'Илиевска', 'natasha.ilievska@finki.ukim.mk');\n",
    "INSERT INTO Professors(profCode, firstName, lastName, email) VALUES (40, N'Билјана', N'Тојтовска', 'biljana.tojtovska@finki.ukim.mk');\n",
    "INSERT INTO Professors(profCode, firstName, lastName, email) VALUES (41, N'Милош', N'Јовановиќ', 'milos.jovanovik@finki.ukim.mk');\n",
    "INSERT INTO Professors(profCode, firstName, lastName, email) VALUES (42, N'Андреја', N'Наумоски', 'andreja.naumoski@finki.ukim.mk');\n",
    "INSERT INTO Professors(profCode, firstName, lastName, email) VALUES (43, N'Панче', N'Рибарски', 'pance.ribarski@finki.ukim.mk');\n",
    "INSERT INTO Professors(profCode, firstName, lastName, email) VALUES (44, N'Христина', N'Михајлоска', 'hristina.mihajloska@finki.ukim.mk');\n",
    "INSERT INTO Professors(profCode, firstName, lastName, email) VALUES (45, N'Иван', N'Китановски', 'ivan.kitanovski@finki.ukim.mk');\n",
    "INSERT INTO Professors(profCode, firstName, lastName, email) VALUES (46, N'Ефтим', N'Здравевски', 'eftim.zdravevski@finki.ukim.mk');\n",
    "INSERT INTO Professors(profCode, firstName, lastName, email) VALUES (47, N'Петре', N'Ламески', 'petre.lameski@finki.ukim.mk');\n",
    "INSERT INTO Professors(profCode, firstName, lastName, email) VALUES (48, N'Катарина', N'Тројачанец Динева', 'katarina.trojacanec@finki.ukim.mk');\n",
    "INSERT INTO Professors(profCode, firstName, lastName, email) VALUES (49, N'Владимир', N'Здравески', 'vladimir.zdraveski@finki.ukim.mk');\n",
    "INSERT INTO Professors(profCode, firstName, lastName, email) VALUES (50, N'Бојана', N'Котеска', 'bojana.koteska@finki.ukim.mk');\n",
    "INSERT INTO Professors(profCode, firstName, lastName, email) VALUES (51, N'Моника', N'Симјаноска', 'monika.simjanoska@finki.ukim.mk');\n",
    "INSERT INTO Professors(profCode, firstName, lastName, email) VALUES (52, N'Методија', N'Јанчески', 'metodija.jancheski@finki.ukim.mk');\n",
    "INSERT INTO Professors(profCode, firstName, lastName, email) VALUES (53, N'Ристе', N'Стојанов', 'riste.stojanov@finki.ukim.mk');\n",
    "INSERT INTO Professors(profCode, firstName, lastName, email) VALUES (54, N'Александра', N'Дединец', 'aleksandra.dedinec@finki.ukim.mk');\n",
    "INSERT INTO Professors(profCode, firstName, lastName, email) VALUES (55, N'Емил', N'Станков', 'emil.stankov@finki.ukim.mk');\n",
    "INSERT INTO Professors(profCode, firstName, lastName, email) VALUES (56, N'Борис', N'Станоев', 'boris.stanoev@finki.ukim.mk');\n",
    "INSERT INTO Professors(profCode, firstName, lastName, email) VALUES (57, N'Бобан', N'Јоксимоски', 'boban.joksimoski@finki.ukim.mk');\n",
    "INSERT INTO Professors(profCode, firstName, lastName, email) VALUES (58, N'Илинка', N'Иваноска', 'ilinka.ivanoska@finki.ukim.mk');\n",
    "INSERT INTO Professors(profCode, firstName, lastName, email) VALUES (59, N'Бојан', N'Илијоски', 'bojan.ilijoski@finki.ukim.mk');\n",
    "INSERT INTO Professors(profCode, firstName, lastName, email) VALUES (60, N'Костадин', N'Мишев', 'kostadin.mishev@finki.ukim.mk');\n",
    "INSERT INTO Professors(profCode, firstName, lastName, email) VALUES (61, N'Александар', N'Тенев', 'aleksandar.tenev@finki.ukim.mk');\n",
    "INSERT INTO Professors(profCode, firstName, lastName, email) VALUES (62, N'Александар', N'Стојменски', 'aleksandar.stojmenski@finki.ukim.mk');\n",
    "INSERT INTO Professors(profCode, firstName, lastName, email) VALUES (63, N'Ненад', N'Анчев', 'nenad.anchev@finki.ukim.mk');\n",
    "INSERT INTO Professors(profCode, firstName, lastName, email) VALUES (64, N'Војдан', N'Ќорвезироски', 'vojdan.kjorveziroski@finki.ukim.mk');\n",
    "INSERT INTO Professors(profCode, firstName, lastName, email) VALUES (65, N'Мартина', N'Тошевска', 'martina.toshevska@finki.ukim.mk');\n",
    "INSERT INTO Professors(profCode, firstName, lastName, email) VALUES (66, N'Влатко', N'Спасев', 'vlatko.spasev@finki.ukim.mk');\n",
    "INSERT INTO Professors(profCode, firstName, lastName, email) VALUES (67, N'Петар', N'Секулоски', 'petar.sekuloski@finki.ukim.mk');\n",
    "INSERT INTO Professors(profCode, firstName, lastName, email) VALUES (68, N'Стефан', N'Андонов', 'stefan.andonov@finki.ukim.mk');\n",
    "INSERT INTO Professors(profCode, firstName, lastName, email) VALUES (69, N'Кирил', N'Ќироски', 'kiril.kjiroski@finki.ukim.mk');\n",
    "INSERT INTO Professors(profCode, firstName, lastName, email) VALUES (70, N'Ана', N'Тодоровска', 'ana.todorovska@finki.ukim.mk');\n",
    "INSERT INTO Professors(profCode, firstName, lastName, email) VALUES (71, N'Јована', N'Добрева', 'jovana.dobreva@finki.ukim.mk');\n",
    "INSERT INTO Professors(profCode, firstName, lastName, email) VALUES (72, N'Јана', N'Кузманова', 'jana.kuzmanova@finki.ukim.mk');\n",
    "INSERT INTO Professors(profCode, firstName, lastName, email) VALUES (73, N'Димитар', N'Китановски', 'dimitar.kitanovski@finki.ukim.mk');\n",
    "INSERT INTO Professors(profCode, firstName, lastName, email) VALUES (74, N'Томе', N'Ефтимов', 'tome.eftimov@finki.ukim.mk');\n",
    "INSERT INTO Professors(profCode, firstName, lastName, email) VALUES (75, N'Андреј', N'Ристески', 'andrej.risteski@finki.ukim.mk');\n",
    "INSERT INTO Professors(profCode, firstName, lastName, email) VALUES (76, N'Славе', N'Темков', 'slave.temkov@finki.ukim.mk');\n",
    "INSERT INTO Professors(profCode, firstName, lastName, email) VALUES (77, N'Милена', N'Трајаноска', 'milena.trajanoska@finki.ukim.mk');\n",
    "INSERT INTO Professors(profCode, firstName, lastName, email) VALUES (78, N'Живко', N'Атанаскоски', 'zhivko.atanaskoski@finki.ukim.mk');\n",
    "INSERT INTO Professors(profCode, firstName, lastName, email) VALUES (79, N'Димитар', N'Милески', 'dimitar.mileski@finki.ukim.mk');\n",
    "INSERT INTO Professors(profCode, firstName, lastName, email) VALUES (80, N'Зорица', N'Карапанчева', 'zorica.karapancheva@finki.ukim.mk');\n",
    "INSERT INTO Professors(profCode, firstName, lastName, email) VALUES (81, N'Марија', N'Танеска', 'marija.taneska@finki.ukim.mk');\n",
    "INSERT INTO Professors(profCode, firstName, lastName, email) VALUES (82, N'Мила', N'Додевска', 'mila.dodevska@finki.ukim.mk');\n",
    "INSERT INTO Professors(profCode, firstName, lastName, email) VALUES (83, N'Ана', N'Атанасова', 'ana.atanasova@finki.ukim.mk');\n",
    "INSERT INTO Professors(profCode, firstName, lastName, email) VALUES (84, N'Александар', N'Петрушев', 'aleksandar.petrushev@finki.ukim.mk');\n",
    "INSERT INTO Professors(profCode, firstName, lastName, email) VALUES (85, N'Мартин', N'Динев', 'martin.dinev@finki.ukim.mk');\n",
    "INSERT INTO Professors(profCode, firstName, lastName, email) VALUES (86, N'Владислав', N'Бидиков', 'vladislav.bidikov@finki.ukim.mk');"
   ],
   "metadata": {
    "language": "sql",
    "azdata_cell_guid": "651fd33c-a436-45a8-b428-dbcca357a89d",
    "tags": []
   },
   "outputs": [
    {
     "output_type": "display_data",
     "data": {
      "text/html": "(1 row affected)"
     },
     "metadata": {}
    },
    {
     "output_type": "display_data",
     "data": {
      "text/html": "(1 row affected)"
     },
     "metadata": {}
    },
    {
     "output_type": "display_data",
     "data": {
      "text/html": "(1 row affected)"
     },
     "metadata": {}
    },
    {
     "output_type": "display_data",
     "data": {
      "text/html": "(1 row affected)"
     },
     "metadata": {}
    },
    {
     "output_type": "display_data",
     "data": {
      "text/html": "(1 row affected)"
     },
     "metadata": {}
    },
    {
     "output_type": "display_data",
     "data": {
      "text/html": "(1 row affected)"
     },
     "metadata": {}
    },
    {
     "output_type": "display_data",
     "data": {
      "text/html": "(1 row affected)"
     },
     "metadata": {}
    },
    {
     "output_type": "display_data",
     "data": {
      "text/html": "(1 row affected)"
     },
     "metadata": {}
    },
    {
     "output_type": "display_data",
     "data": {
      "text/html": "(1 row affected)"
     },
     "metadata": {}
    },
    {
     "output_type": "display_data",
     "data": {
      "text/html": "(1 row affected)"
     },
     "metadata": {}
    },
    {
     "output_type": "display_data",
     "data": {
      "text/html": "(1 row affected)"
     },
     "metadata": {}
    },
    {
     "output_type": "display_data",
     "data": {
      "text/html": "(1 row affected)"
     },
     "metadata": {}
    },
    {
     "output_type": "display_data",
     "data": {
      "text/html": "(1 row affected)"
     },
     "metadata": {}
    },
    {
     "output_type": "display_data",
     "data": {
      "text/html": "(1 row affected)"
     },
     "metadata": {}
    },
    {
     "output_type": "display_data",
     "data": {
      "text/html": "(1 row affected)"
     },
     "metadata": {}
    },
    {
     "output_type": "display_data",
     "data": {
      "text/html": "(1 row affected)"
     },
     "metadata": {}
    },
    {
     "output_type": "display_data",
     "data": {
      "text/html": "(1 row affected)"
     },
     "metadata": {}
    },
    {
     "output_type": "display_data",
     "data": {
      "text/html": "(1 row affected)"
     },
     "metadata": {}
    },
    {
     "output_type": "display_data",
     "data": {
      "text/html": "(1 row affected)"
     },
     "metadata": {}
    },
    {
     "output_type": "display_data",
     "data": {
      "text/html": "(1 row affected)"
     },
     "metadata": {}
    },
    {
     "output_type": "display_data",
     "data": {
      "text/html": "(1 row affected)"
     },
     "metadata": {}
    },
    {
     "output_type": "display_data",
     "data": {
      "text/html": "(1 row affected)"
     },
     "metadata": {}
    },
    {
     "output_type": "display_data",
     "data": {
      "text/html": "(1 row affected)"
     },
     "metadata": {}
    },
    {
     "output_type": "display_data",
     "data": {
      "text/html": "(1 row affected)"
     },
     "metadata": {}
    },
    {
     "output_type": "display_data",
     "data": {
      "text/html": "(1 row affected)"
     },
     "metadata": {}
    },
    {
     "output_type": "display_data",
     "data": {
      "text/html": "(1 row affected)"
     },
     "metadata": {}
    },
    {
     "output_type": "display_data",
     "data": {
      "text/html": "(1 row affected)"
     },
     "metadata": {}
    },
    {
     "output_type": "display_data",
     "data": {
      "text/html": "(1 row affected)"
     },
     "metadata": {}
    },
    {
     "output_type": "display_data",
     "data": {
      "text/html": "(1 row affected)"
     },
     "metadata": {}
    },
    {
     "output_type": "display_data",
     "data": {
      "text/html": "(1 row affected)"
     },
     "metadata": {}
    },
    {
     "output_type": "display_data",
     "data": {
      "text/html": "(1 row affected)"
     },
     "metadata": {}
    },
    {
     "output_type": "display_data",
     "data": {
      "text/html": "(1 row affected)"
     },
     "metadata": {}
    },
    {
     "output_type": "display_data",
     "data": {
      "text/html": "(1 row affected)"
     },
     "metadata": {}
    },
    {
     "output_type": "display_data",
     "data": {
      "text/html": "(1 row affected)"
     },
     "metadata": {}
    },
    {
     "output_type": "display_data",
     "data": {
      "text/html": "(1 row affected)"
     },
     "metadata": {}
    },
    {
     "output_type": "display_data",
     "data": {
      "text/html": "(1 row affected)"
     },
     "metadata": {}
    },
    {
     "output_type": "display_data",
     "data": {
      "text/html": "(1 row affected)"
     },
     "metadata": {}
    },
    {
     "output_type": "display_data",
     "data": {
      "text/html": "(1 row affected)"
     },
     "metadata": {}
    },
    {
     "output_type": "display_data",
     "data": {
      "text/html": "(1 row affected)"
     },
     "metadata": {}
    },
    {
     "output_type": "display_data",
     "data": {
      "text/html": "(1 row affected)"
     },
     "metadata": {}
    },
    {
     "output_type": "display_data",
     "data": {
      "text/html": "(1 row affected)"
     },
     "metadata": {}
    },
    {
     "output_type": "display_data",
     "data": {
      "text/html": "(1 row affected)"
     },
     "metadata": {}
    },
    {
     "output_type": "display_data",
     "data": {
      "text/html": "(1 row affected)"
     },
     "metadata": {}
    },
    {
     "output_type": "display_data",
     "data": {
      "text/html": "(1 row affected)"
     },
     "metadata": {}
    },
    {
     "output_type": "display_data",
     "data": {
      "text/html": "(1 row affected)"
     },
     "metadata": {}
    },
    {
     "output_type": "display_data",
     "data": {
      "text/html": "(1 row affected)"
     },
     "metadata": {}
    },
    {
     "output_type": "display_data",
     "data": {
      "text/html": "(1 row affected)"
     },
     "metadata": {}
    },
    {
     "output_type": "display_data",
     "data": {
      "text/html": "(1 row affected)"
     },
     "metadata": {}
    },
    {
     "output_type": "display_data",
     "data": {
      "text/html": "(1 row affected)"
     },
     "metadata": {}
    },
    {
     "output_type": "display_data",
     "data": {
      "text/html": "(1 row affected)"
     },
     "metadata": {}
    },
    {
     "output_type": "display_data",
     "data": {
      "text/html": "(1 row affected)"
     },
     "metadata": {}
    },
    {
     "output_type": "display_data",
     "data": {
      "text/html": "(1 row affected)"
     },
     "metadata": {}
    },
    {
     "output_type": "display_data",
     "data": {
      "text/html": "(1 row affected)"
     },
     "metadata": {}
    },
    {
     "output_type": "display_data",
     "data": {
      "text/html": "(1 row affected)"
     },
     "metadata": {}
    },
    {
     "output_type": "display_data",
     "data": {
      "text/html": "(1 row affected)"
     },
     "metadata": {}
    },
    {
     "output_type": "display_data",
     "data": {
      "text/html": "(1 row affected)"
     },
     "metadata": {}
    },
    {
     "output_type": "display_data",
     "data": {
      "text/html": "(1 row affected)"
     },
     "metadata": {}
    },
    {
     "output_type": "display_data",
     "data": {
      "text/html": "(1 row affected)"
     },
     "metadata": {}
    },
    {
     "output_type": "display_data",
     "data": {
      "text/html": "(1 row affected)"
     },
     "metadata": {}
    },
    {
     "output_type": "display_data",
     "data": {
      "text/html": "(1 row affected)"
     },
     "metadata": {}
    },
    {
     "output_type": "display_data",
     "data": {
      "text/html": "(1 row affected)"
     },
     "metadata": {}
    },
    {
     "output_type": "display_data",
     "data": {
      "text/html": "(1 row affected)"
     },
     "metadata": {}
    },
    {
     "output_type": "display_data",
     "data": {
      "text/html": "(1 row affected)"
     },
     "metadata": {}
    },
    {
     "output_type": "display_data",
     "data": {
      "text/html": "(1 row affected)"
     },
     "metadata": {}
    },
    {
     "output_type": "display_data",
     "data": {
      "text/html": "(1 row affected)"
     },
     "metadata": {}
    },
    {
     "output_type": "display_data",
     "data": {
      "text/html": "(1 row affected)"
     },
     "metadata": {}
    },
    {
     "output_type": "display_data",
     "data": {
      "text/html": "(1 row affected)"
     },
     "metadata": {}
    },
    {
     "output_type": "display_data",
     "data": {
      "text/html": "(1 row affected)"
     },
     "metadata": {}
    },
    {
     "output_type": "display_data",
     "data": {
      "text/html": "(1 row affected)"
     },
     "metadata": {}
    },
    {
     "output_type": "display_data",
     "data": {
      "text/html": "(1 row affected)"
     },
     "metadata": {}
    },
    {
     "output_type": "display_data",
     "data": {
      "text/html": "(1 row affected)"
     },
     "metadata": {}
    },
    {
     "output_type": "display_data",
     "data": {
      "text/html": "(1 row affected)"
     },
     "metadata": {}
    },
    {
     "output_type": "display_data",
     "data": {
      "text/html": "(1 row affected)"
     },
     "metadata": {}
    },
    {
     "output_type": "display_data",
     "data": {
      "text/html": "(1 row affected)"
     },
     "metadata": {}
    },
    {
     "output_type": "display_data",
     "data": {
      "text/html": "(1 row affected)"
     },
     "metadata": {}
    },
    {
     "output_type": "display_data",
     "data": {
      "text/html": "(1 row affected)"
     },
     "metadata": {}
    },
    {
     "output_type": "display_data",
     "data": {
      "text/html": "(1 row affected)"
     },
     "metadata": {}
    },
    {
     "output_type": "display_data",
     "data": {
      "text/html": "(1 row affected)"
     },
     "metadata": {}
    },
    {
     "output_type": "display_data",
     "data": {
      "text/html": "(1 row affected)"
     },
     "metadata": {}
    },
    {
     "output_type": "display_data",
     "data": {
      "text/html": "(1 row affected)"
     },
     "metadata": {}
    },
    {
     "output_type": "display_data",
     "data": {
      "text/html": "(1 row affected)"
     },
     "metadata": {}
    },
    {
     "output_type": "display_data",
     "data": {
      "text/html": "(1 row affected)"
     },
     "metadata": {}
    },
    {
     "output_type": "display_data",
     "data": {
      "text/html": "(1 row affected)"
     },
     "metadata": {}
    },
    {
     "output_type": "display_data",
     "data": {
      "text/html": "(1 row affected)"
     },
     "metadata": {}
    },
    {
     "output_type": "display_data",
     "data": {
      "text/html": "(1 row affected)"
     },
     "metadata": {}
    },
    {
     "output_type": "display_data",
     "data": {
      "text/html": "(1 row affected)"
     },
     "metadata": {}
    },
    {
     "output_type": "display_data",
     "data": {
      "text/html": "Total execution time: 00:00:00.099"
     },
     "metadata": {}
    }
   ],
   "execution_count": 76
  },
  {
   "cell_type": "code",
   "source": [
    "INSERT INTO Studies(studiesCode, name, yearsToComplete) VALUES (0, N'Интернет, мрежи и безбедност', '3');\n",
    "INSERT INTO Studies(studiesCode, name, yearsToComplete) VALUES (1, N'Интернет, мрежи и безбедност', '4');\n",
    "INSERT INTO Studies(studiesCode, name, yearsToComplete) VALUES (2, N'Компјутерска едукација', '4');\n",
    "INSERT INTO Studies(studiesCode, name, yearsToComplete) VALUES (3, N'Компјутерски науки', '3');\n",
    "INSERT INTO Studies(studiesCode, name, yearsToComplete) VALUES (4, N'Компјутерски науки', '4');\n",
    "INSERT INTO Studies(studiesCode, name, yearsToComplete) VALUES (5, N'Компјутерско инженерство', '3');\n",
    "INSERT INTO Studies(studiesCode, name, yearsToComplete) VALUES (6, N'Компјутерско инженерство', '4');\n",
    "INSERT INTO Studies(studiesCode, name, yearsToComplete) VALUES (7, N'Примена на информациски технологии', '3');\n",
    "INSERT INTO Studies(studiesCode, name, yearsToComplete) VALUES (8, N'Примена на информациски технологии', '4');\n",
    "INSERT INTO Studies(studiesCode, name, yearsToComplete) VALUES (9, N'Софтверско инженерство и информациски технологии', '3');\n",
    "INSERT INTO Studies(studiesCode, name, yearsToComplete) VALUES (10, N'Софтверско инженерство и информациски технологии', '4');\n",
    "INSERT INTO Studies(studiesCode, name, yearsToComplete) VALUES (11, 'Software engineering and information systems', '3');\n",
    "INSERT INTO Studies(studiesCode, name, yearsToComplete) VALUES (12, 'Software engineering and information systems', '4');"
   ],
   "metadata": {
    "language": "sql",
    "azdata_cell_guid": "04e71bca-0042-40dd-b4c9-48463360f833",
    "tags": []
   },
   "outputs": [
    {
     "output_type": "display_data",
     "data": {
      "text/html": "(1 row affected)"
     },
     "metadata": {}
    },
    {
     "output_type": "display_data",
     "data": {
      "text/html": "(1 row affected)"
     },
     "metadata": {}
    },
    {
     "output_type": "display_data",
     "data": {
      "text/html": "(1 row affected)"
     },
     "metadata": {}
    },
    {
     "output_type": "display_data",
     "data": {
      "text/html": "(1 row affected)"
     },
     "metadata": {}
    },
    {
     "output_type": "display_data",
     "data": {
      "text/html": "(1 row affected)"
     },
     "metadata": {}
    },
    {
     "output_type": "display_data",
     "data": {
      "text/html": "(1 row affected)"
     },
     "metadata": {}
    },
    {
     "output_type": "display_data",
     "data": {
      "text/html": "(1 row affected)"
     },
     "metadata": {}
    },
    {
     "output_type": "display_data",
     "data": {
      "text/html": "(1 row affected)"
     },
     "metadata": {}
    },
    {
     "output_type": "display_data",
     "data": {
      "text/html": "(1 row affected)"
     },
     "metadata": {}
    },
    {
     "output_type": "display_data",
     "data": {
      "text/html": "(1 row affected)"
     },
     "metadata": {}
    },
    {
     "output_type": "display_data",
     "data": {
      "text/html": "(1 row affected)"
     },
     "metadata": {}
    },
    {
     "output_type": "display_data",
     "data": {
      "text/html": "(1 row affected)"
     },
     "metadata": {}
    },
    {
     "output_type": "display_data",
     "data": {
      "text/html": "(1 row affected)"
     },
     "metadata": {}
    },
    {
     "output_type": "display_data",
     "data": {
      "text/html": "Total execution time: 00:00:00.047"
     },
     "metadata": {}
    }
   ],
   "execution_count": 77
  },
  {
   "cell_type": "code",
   "source": [
    "INSERT INTO Courses(coursesCode, name) VALUES ('F18L1W005', N'Бизнис и менаџмент');\n",
    "INSERT INTO Courses(coursesCode, name) VALUES ('F18L1W007', N'Вовед во компјутерските науки');\n",
    "INSERT INTO Courses(coursesCode, name) VALUES ('F18L1S013', N'Калкулус');\n",
    "INSERT INTO Courses(coursesCode, name) VALUES ('F18L1W018', N'Професионални вештини');\n",
    "INSERT INTO Courses(coursesCode, name) VALUES ('F18L1W020', N'Структурно програмирање');\n",
    "INSERT INTO Courses(coursesCode, name) VALUES ('F18L1S003', N'Архитектура и организација на компјутери');\n",
    "INSERT INTO Courses(coursesCode, name) VALUES ('F18L1W011', N'Дискретна математика');\n",
    "INSERT INTO Courses(coursesCode, name) VALUES ('F18L1S015', N'Објектно ориентирана анализа и дизајн');\n",
    "INSERT INTO Courses(coursesCode, name) VALUES ('F18L1S016', N'Објектно-ориентирано програмирање');\n",
    "INSERT INTO Courses(coursesCode, name) VALUES ('0', N'Спорт и здравје');\n",
    "INSERT INTO Courses(coursesCode, name) VALUES ('F18L1S034', N'Калкулус 2');\n",
    "INSERT INTO Courses(coursesCode, name) VALUES ('F18L1S116', N'Компјутерски компоненти');\n",
    "INSERT INTO Courses(coursesCode, name) VALUES ('F18L1S120', N'Креативни вештини за решавање проблеми');\n",
    "INSERT INTO Courses(coursesCode, name) VALUES ('F18L1S026', N'Маркетинг');\n",
    "INSERT INTO Courses(coursesCode, name) VALUES ('F18L1S146', N'Основи на веб дизајн');\n",
    "INSERT INTO Courses(coursesCode, name) VALUES ('F18L1S066', N'Основи на сајбер безбедноста');\n",
    "INSERT INTO Courses(coursesCode, name) VALUES ('F18L2W001', N'Алгоритми и податочни структури');\n",
    "INSERT INTO Courses(coursesCode, name) VALUES ('F18L2W006', N'Веројатност и статистика');\n",
    "INSERT INTO Courses(coursesCode, name) VALUES ('F18L2W014', N'Компјутерски мрежи и безбедност');\n",
    "INSERT INTO Courses(coursesCode, name) VALUES ('F18L2S100', N'Економија за ИКТ инженери');\n",
    "INSERT INTO Courses(coursesCode, name) VALUES ('F18L2W104', N'Инженерска математика');\n",
    "INSERT INTO Courses(coursesCode, name) VALUES ('F18L2W109', N'Интернет програмирање на клиентска страна');\n",
    "INSERT INTO Courses(coursesCode, name) VALUES ('F18L2W140', N'Напредно програмирање');\n",
    "INSERT INTO Courses(coursesCode, name) VALUES ('F18L2W165', N'Управување со техничката поддршка');\n",
    "INSERT INTO Courses(coursesCode, name) VALUES ('F18L2W167', N'Шаблони за дизајн на кориснички интерфејси');\n",
    "INSERT INTO Courses(coursesCode, name) VALUES ('F18L2S002', N'Анализа на софтверските барања');\n",
    "INSERT INTO Courses(coursesCode, name) VALUES ('F18L2S017', N'Оперативни системи');\n",
    "INSERT INTO Courses(coursesCode, name) VALUES ('F18L2S061', N'Безжични и мобилни системи');\n",
    "INSERT INTO Courses(coursesCode, name) VALUES ('F18L2S030', N'Вештачка интелигенција');\n",
    "INSERT INTO Courses(coursesCode, name) VALUES ('F18L2S082', N'Визуелно програмирање');\n",
    "INSERT INTO Courses(coursesCode, name) VALUES ('F18L2S084', N'Вовед во екоинформатиката');\n",
    "INSERT INTO Courses(coursesCode, name) VALUES ('F18L2S090', N'Вовед во случајни процеси');\n",
    "INSERT INTO Courses(coursesCode, name) VALUES ('F18L2S095', N'Дигитално процесирање на слика');\n",
    "INSERT INTO Courses(coursesCode, name) VALUES ('F18L2S097', N'Дизајн на алгоритми');\n",
    "INSERT INTO Courses(coursesCode, name) VALUES ('F18L2S099', N'Е-влада');\n",
    "INSERT INTO Courses(coursesCode, name) VALUES ('F18L2S042', N'Електрични кола');\n",
    "INSERT INTO Courses(coursesCode, name) VALUES ('F18L2S110', N'Интернет технологии');\n",
    "INSERT INTO Courses(coursesCode, name) VALUES ('F18L2S114', N'Компјутерска графика');\n",
    "INSERT INTO Courses(coursesCode, name) VALUES ('F18L2S119', N'Концепти на информатичко општество');\n",
    "INSERT INTO Courses(coursesCode, name) VALUES ('F18L2S124', N'Медиуми и комуникации');\n",
    "INSERT INTO Courses(coursesCode, name) VALUES ('F18L2S164', N'Теорија на информации со дигитални комуникации');\n",
    "INSERT INTO Courses(coursesCode, name) VALUES ('F18L3W004', N'Бази на податоци');\n",
    "INSERT INTO Courses(coursesCode, name) VALUES ('F18L3W008', N'Вовед во науката за податоци');\n",
    "INSERT INTO Courses(coursesCode, name) VALUES ('F18L3W009', N'Дизајн и архитектура на софтвер');\n",
    "INSERT INTO Courses(coursesCode, name) VALUES ('F18L3W060', N'Администрација на системи');\n",
    "INSERT INTO Courses(coursesCode, name) VALUES ('F18L3W024', N'Веб програмирање');\n",
    "INSERT INTO Courses(coursesCode, name) VALUES ('F18L3W081', N'Визуелизација');\n",
    "INSERT INTO Courses(coursesCode, name) VALUES ('F18L3W043', N'Информациска безбедност');\n",
    "INSERT INTO Courses(coursesCode, name) VALUES ('F18L3W053', N'Компјутерска етика');\n",
    "INSERT INTO Courses(coursesCode, name) VALUES ('F18L3W115', N'Компјутерски звук, говор и музика ');\n",
    "INSERT INTO Courses(coursesCode, name) VALUES ('F18L3W035', N'Линеарна алгебра и примени');\n",
    "INSERT INTO Courses(coursesCode, name) VALUES ('F18L3W134', N'Мултимедиски мрежи');\n",
    "INSERT INTO Courses(coursesCode, name) VALUES ('F18L3W136', N'Напреден веб дизајн');\n",
    "INSERT INTO Courses(coursesCode, name) VALUES ('F18L3W148', N'Основи на роботиката');\n",
    "INSERT INTO Courses(coursesCode, name) VALUES ('F18L3S010', N'Дизајн на интеракцијата човек-компјутер');\n",
    "INSERT INTO Courses(coursesCode, name) VALUES ('F18L3S012', N'Интегрирани системи');\n",
    "INSERT INTO Courses(coursesCode, name) VALUES ('F18L3S019', N'Софтверски квалитет и тестирање');\n",
    "INSERT INTO Courses(coursesCode, name) VALUES ('F18L3S073', N'Агентно-базирани системи');\n",
    "INSERT INTO Courses(coursesCode, name) VALUES ('F18L3S077', N'Безжични мултимедиски системи');\n",
    "INSERT INTO Courses(coursesCode, name) VALUES ('F18L3S040', N'Вградливи микропроцесорски системи');\n",
    "INSERT INTO Courses(coursesCode, name) VALUES ('F18L3S062', N'Виртуелизација');\n",
    "INSERT INTO Courses(coursesCode, name) VALUES ('F18L3S087', N'Вовед во мрежна наука');\n",
    "INSERT INTO Courses(coursesCode, name) VALUES ('F18L3S091', N'Географски информациски системи');\n",
    "INSERT INTO Courses(coursesCode, name) VALUES ('F18L3S093', N'Дигитална форензика');\n",
    "INSERT INTO Courses(coursesCode, name) VALUES ('F18L3S025', N'Електронска и мобилна трговија');\n",
    "INSERT INTO Courses(coursesCode, name) VALUES ('F18L3S118', N'Континуирана интеграција и испорака');\n",
    "INSERT INTO Courses(coursesCode, name) VALUES ('F18L3S036', N'Машинско учење');\n",
    "INSERT INTO Courses(coursesCode, name) VALUES ('F18L3S135', N'Мултимедиски системи');\n",
    "INSERT INTO Courses(coursesCode, name) VALUES ('F18L3S149', N'Паралелно програмирање');\n",
    "INSERT INTO Courses(coursesCode, name) VALUES ('F18L3S150', N'Податочно рударство');\n",
    "INSERT INTO Courses(coursesCode, name) VALUES ('F18L3S047', N'Процесирање на сигналите');\n",
    "INSERT INTO Courses(coursesCode, name) VALUES ('F18L3S155', N'Сервисно ориентирани архитектури');\n",
    "INSERT INTO Courses(coursesCode, name) VALUES ('F18L3S159', N'Софтверски дефинирана безбедност');\n",
    "INSERT INTO Courses(coursesCode, name) VALUES ('F18L3S163', N'Статистичко моделирање');\n",
    "INSERT INTO Courses(coursesCode, name) VALUES ('F18L3S039', N'Формални јазици и автомати');\n",
    "INSERT INTO Courses(coursesCode, name) VALUES ('F18L3W021', N'Тимски проект');\n",
    "INSERT INTO Courses(coursesCode, name) VALUES ('F18L3W072', N'Автономна роботика');\n",
    "INSERT INTO Courses(coursesCode, name) VALUES ('F18L3W074', N'Администрација на бази на податоци');\n",
    "INSERT INTO Courses(coursesCode, name) VALUES ('F18L3W075', N'Анализа и дизајн на ИС');\n",
    "INSERT INTO Courses(coursesCode, name) VALUES ('F18L3W079', N'Веб базирани системи');\n",
    "INSERT INTO Courses(coursesCode, name) VALUES ('F18L3W085', N'Вовед во биоинформатиката');\n",
    "INSERT INTO Courses(coursesCode, name) VALUES ('F18L3W088', N'Вовед во паметни градови');\n",
    "INSERT INTO Courses(coursesCode, name) VALUES ('F18L3W089', N'Вовед во препознавање на облици');\n",
    "INSERT INTO Courses(coursesCode, name) VALUES ('F18L3W092', N'Дигитална постпродукција');\n",
    "INSERT INTO Courses(coursesCode, name) VALUES ('F18L3W103', N'Имплементација на системи со слободен и отворен код');\n",
    "INSERT INTO Courses(coursesCode, name) VALUES ('F18L3W105', N'Иновации во ИКТ');\n",
    "INSERT INTO Courses(coursesCode, name) VALUES ('F18L3W108', N'Интернет на нештата');\n",
    "INSERT INTO Courses(coursesCode, name) VALUES ('F18L3W123', N'Машинска визија');\n",
    "INSERT INTO Courses(coursesCode, name) VALUES ('F18L3W027', N'Менаџмент на информациски системи');\n",
    "INSERT INTO Courses(coursesCode, name) VALUES ('F18L3W126', N'Методологија на истражувањето во ИКТ');\n",
    "INSERT INTO Courses(coursesCode, name) VALUES ('F18L3W128', N'Мобилни информациски системи');\n",
    "INSERT INTO Courses(coursesCode, name) VALUES ('F18L3W129', N'Мобилни платформи и програмирање');\n",
    "INSERT INTO Courses(coursesCode, name) VALUES ('F18L3W137', N'Напредна интеракција човек компјутер');\n",
    "INSERT INTO Courses(coursesCode, name) VALUES ('F18L3W142', N'Обработка на природните јазици');\n",
    "INSERT INTO Courses(coursesCode, name) VALUES ('F18L3W144', N'Операциони истражувања');\n",
    "INSERT INTO Courses(coursesCode, name) VALUES ('F18L3W068', N'Пресметување во облак');\n",
    "INSERT INTO Courses(coursesCode, name) VALUES ('F18L3W152', N'Програмирање на видео игри');\n",
    "INSERT INTO Courses(coursesCode, name) VALUES ('F18L3W038', N'Програмски парадигми');\n",
    "INSERT INTO Courses(coursesCode, name) VALUES ('F18L3W154', N'Рударење на масивни податоци');\n",
    "INSERT INTO Courses(coursesCode, name) VALUES ('F18L3W156', N'Системи за поддршка при одлучувањето');\n",
    "INSERT INTO Courses(coursesCode, name) VALUES ('F18L3W048', N'Софтвер за вградливи системи');\n",
    "INSERT INTO Courses(coursesCode, name) VALUES ('F18L3W160', N'Софтверски дефинирани мрежи');\n",
    "INSERT INTO Courses(coursesCode, name) VALUES ('F18L3W161', N'Социјални мрежи и медиуми');\n",
    "INSERT INTO Courses(coursesCode, name) VALUES ('1', N'Дипломска работа');\n",
    "INSERT INTO Courses(coursesCode, name) VALUES ('F18L3S022', N'Управување со ИКТ проекти');\n",
    "INSERT INTO Courses(coursesCode, name) VALUES ('F18L3S07', N'Биолошки инспирирано пресметување');\n",
    "INSERT INTO Courses(coursesCode, name) VALUES ('F18L3S121', N'Блоковски вериги и криптовалути');\n",
    "INSERT INTO Courses(coursesCode, name) VALUES ('F18L3S080', N'Веб пребарувачки системи');\n",
    "INSERT INTO Courses(coursesCode, name) VALUES ('F18L3S083', N'Виртуелна реалност');\n",
    "INSERT INTO Courses(coursesCode, name) VALUES ('F18L3S086', N'Вовед во когнитивни науки');\n",
    "INSERT INTO Courses(coursesCode, name) VALUES ('F18L3S102', N'ИКТ за развој');\n",
    "INSERT INTO Courses(coursesCode, name) VALUES ('F18L3S106', N'Интелигентни информациски системи');\n",
    "INSERT INTO Courses(coursesCode, name) VALUES ('F18L3S107', N'Интелигентни системи');\n",
    "INSERT INTO Courses(coursesCode, name) VALUES ('F18L3S113', N'Компјутерска анимација');\n",
    "INSERT INTO Courses(coursesCode, name) VALUES ('F18L3S127', N'Мобилни апликации');\n",
    "INSERT INTO Courses(coursesCode, name) VALUES ('F18L3S130', N'Моделирање и менаџирање на бизнис процеси');\n",
    "INSERT INTO Courses(coursesCode, name) VALUES ('F18L3S132', N'Модерни трендови во роботика');\n",
    "INSERT INTO Courses(coursesCode, name) VALUES ('F18L3S138', N'Напредни бази на податоци');\n",
    "INSERT INTO Courses(coursesCode, name) VALUES ('F18L3S141', N'Неструктурирани бази на податоци');\n",
    "INSERT INTO Courses(coursesCode, name) VALUES ('F18L3S028', N'Претприемништво');\n",
    "INSERT INTO Courses(coursesCode, name) VALUES ('F18L3S157', N'Складови на податоци и аналитичка обработка');\n",
    "INSERT INTO Courses(coursesCode, name) VALUES ('F18L3S162', N'Споделување и пресметување во толпа');\n",
    "INSERT INTO Courses(coursesCode, name) VALUES ('F18L1W070', N'Педагогија');\n",
    "INSERT INTO Courses(coursesCode, name) VALUES ('F18L1S052', N'ИТ системи за учење');\n",
    "INSERT INTO Courses(coursesCode, name) VALUES ('F18L1S045', N'Компјутерски архитектури');\n",
    "INSERT INTO Courses(coursesCode, name) VALUES ('F18L1S023', N'Бизнис статистика');\n",
    "INSERT INTO Courses(coursesCode, name) VALUES ('F18L3W055', N'Мултимедијални технологии');\n",
    "INSERT INTO Courses(coursesCode, name) VALUES ('F18L2W096', N'Дигитизација');\n",
    "INSERT INTO Courses(coursesCode, name) VALUES ('F18L3W050', N'Дизајн на образовен софтвер');\n",
    "INSERT INTO Courses(coursesCode, name) VALUES ('F18L3S056', N'Персонализирано учење');\n",
    "INSERT INTO Courses(coursesCode, name) VALUES ('F18L3S071', N'Психологија на училишна возраст');\n",
    "INSERT INTO Courses(coursesCode, name) VALUES ('F18L3S057', N'Работа со надарени ученици');\n",
    "INSERT INTO Courses(coursesCode, name) VALUES ('F18L3S094', N'Дигитални библиотеки');\n",
    "INSERT INTO Courses(coursesCode, name) VALUES ('F18L3S166', N'Учење на далечина');\n",
    "INSERT INTO Courses(coursesCode, name) VALUES ('2', N'Самостоен проект');\n",
    "INSERT INTO Courses(coursesCode, name) VALUES ('F18L3S069', N'Македонски јазик');\n",
    "INSERT INTO Courses(coursesCode, name) VALUES ('F18L3S054', N'Методика на информатиката');\n",
    "INSERT INTO Courses(coursesCode, name) VALUES ('F18L1W031', N'Дискретни структури 1');\n",
    "INSERT INTO Courses(coursesCode, name) VALUES ('F18L1S032', N'Дискретни структури 2');\n",
    "INSERT INTO Courses(coursesCode, name) VALUES ('F18L3W037', N'Паралелно и дистрибуирано процесирање');\n",
    "INSERT INTO Courses(coursesCode, name) VALUES ('F18L3S125', N'Мерење и анализа на интернет сообраќај');\n",
    "INSERT INTO Courses(coursesCode, name) VALUES ('F18L3S153', N'Процесна роботика');\n",
    "INSERT INTO Courses(coursesCode, name) VALUES ('F18L3S158', N'Современи компјутерски архитектури');\n",
    "INSERT INTO Courses(coursesCode, name) VALUES ('F18L3W145', N'Оптички мрежи');\n",
    "INSERT INTO Courses(coursesCode, name) VALUES ('F18L3S151', N'Пресметковна биологија');\n",
    "INSERT INTO Courses(coursesCode, name) VALUES ('F18L3S112', N'Програмски јазици и компајлери');\n",
    "INSERT INTO Courses(coursesCode, name) VALUES ('F18L1W049', N'Физика');\n",
    "INSERT INTO Courses(coursesCode, name) VALUES ('F18L2W147', N'Основи на комуникациски системи');\n",
    "INSERT INTO Courses(coursesCode, name) VALUES ('F18L2S143', N'Одржливи и енергетски ефикасни компјутерски системи');\n",
    "INSERT INTO Courses(coursesCode, name) VALUES ('F18L3W044', N'Компјутерска електроника');\n",
    "INSERT INTO Courses(coursesCode, name) VALUES ('F18L3W131', N'Моделирање и симулација');\n",
    "INSERT INTO Courses(coursesCode, name) VALUES ('F18L3S101', N'Етичко хакирање');\n",
    "INSERT INTO Courses(coursesCode, name) VALUES ('F18L2W046', N'Компјутерски мрежи');\n",
    "INSERT INTO Courses(coursesCode, name) VALUES ('F18L2W067', N'Основи на теоријата на информации');\n",
    "INSERT INTO Courses(coursesCode, name) VALUES ('F18L2S029', N'Софтверско инженерство');\n",
    "INSERT INTO Courses(coursesCode, name) VALUES ('F18L1W033', N'Калкулус 1');\n",
    "INSERT INTO Courses(coursesCode, name) VALUES ('F18L1W041', N'Дизајн на дигитални кола');\n",
    "INSERT INTO Courses(coursesCode, name) VALUES ('F18L2S051', N'ИКТ во образованието');\n",
    "INSERT INTO Courses(coursesCode, name) VALUES ('F18L3S063', N'Дизајн на компјутерски мрежи');\n",
    "INSERT INTO Courses(coursesCode, name) VALUES ('F18L3W064', N'Дистрибуирани системи');\n",
    "INSERT INTO Courses(coursesCode, name) VALUES ('F18L3S059', N'Администрација на мрежи');\n",
    "INSERT INTO Courses(coursesCode, name) VALUES ('F18L3W065', N'Мрежна безбедност');\n"
   ],
   "metadata": {
    "language": "sql",
    "azdata_cell_guid": "2953a8f2-799e-43b0-8737-c0254ee25a44",
    "tags": []
   },
   "outputs": [
    {
     "output_type": "display_data",
     "data": {
      "text/html": "(1 row affected)"
     },
     "metadata": {}
    },
    {
     "output_type": "display_data",
     "data": {
      "text/html": "(1 row affected)"
     },
     "metadata": {}
    },
    {
     "output_type": "display_data",
     "data": {
      "text/html": "(1 row affected)"
     },
     "metadata": {}
    },
    {
     "output_type": "display_data",
     "data": {
      "text/html": "(1 row affected)"
     },
     "metadata": {}
    },
    {
     "output_type": "display_data",
     "data": {
      "text/html": "(1 row affected)"
     },
     "metadata": {}
    },
    {
     "output_type": "display_data",
     "data": {
      "text/html": "(1 row affected)"
     },
     "metadata": {}
    },
    {
     "output_type": "display_data",
     "data": {
      "text/html": "(1 row affected)"
     },
     "metadata": {}
    },
    {
     "output_type": "display_data",
     "data": {
      "text/html": "(1 row affected)"
     },
     "metadata": {}
    },
    {
     "output_type": "display_data",
     "data": {
      "text/html": "(1 row affected)"
     },
     "metadata": {}
    },
    {
     "output_type": "display_data",
     "data": {
      "text/html": "(1 row affected)"
     },
     "metadata": {}
    },
    {
     "output_type": "display_data",
     "data": {
      "text/html": "(1 row affected)"
     },
     "metadata": {}
    },
    {
     "output_type": "display_data",
     "data": {
      "text/html": "(1 row affected)"
     },
     "metadata": {}
    },
    {
     "output_type": "display_data",
     "data": {
      "text/html": "(1 row affected)"
     },
     "metadata": {}
    },
    {
     "output_type": "display_data",
     "data": {
      "text/html": "(1 row affected)"
     },
     "metadata": {}
    },
    {
     "output_type": "display_data",
     "data": {
      "text/html": "(1 row affected)"
     },
     "metadata": {}
    },
    {
     "output_type": "display_data",
     "data": {
      "text/html": "(1 row affected)"
     },
     "metadata": {}
    },
    {
     "output_type": "display_data",
     "data": {
      "text/html": "(1 row affected)"
     },
     "metadata": {}
    },
    {
     "output_type": "display_data",
     "data": {
      "text/html": "(1 row affected)"
     },
     "metadata": {}
    },
    {
     "output_type": "display_data",
     "data": {
      "text/html": "(1 row affected)"
     },
     "metadata": {}
    },
    {
     "output_type": "display_data",
     "data": {
      "text/html": "(1 row affected)"
     },
     "metadata": {}
    },
    {
     "output_type": "display_data",
     "data": {
      "text/html": "(1 row affected)"
     },
     "metadata": {}
    },
    {
     "output_type": "display_data",
     "data": {
      "text/html": "(1 row affected)"
     },
     "metadata": {}
    },
    {
     "output_type": "display_data",
     "data": {
      "text/html": "(1 row affected)"
     },
     "metadata": {}
    },
    {
     "output_type": "display_data",
     "data": {
      "text/html": "(1 row affected)"
     },
     "metadata": {}
    },
    {
     "output_type": "display_data",
     "data": {
      "text/html": "(1 row affected)"
     },
     "metadata": {}
    },
    {
     "output_type": "display_data",
     "data": {
      "text/html": "(1 row affected)"
     },
     "metadata": {}
    },
    {
     "output_type": "display_data",
     "data": {
      "text/html": "(1 row affected)"
     },
     "metadata": {}
    },
    {
     "output_type": "display_data",
     "data": {
      "text/html": "(1 row affected)"
     },
     "metadata": {}
    },
    {
     "output_type": "display_data",
     "data": {
      "text/html": "(1 row affected)"
     },
     "metadata": {}
    },
    {
     "output_type": "display_data",
     "data": {
      "text/html": "(1 row affected)"
     },
     "metadata": {}
    },
    {
     "output_type": "display_data",
     "data": {
      "text/html": "(1 row affected)"
     },
     "metadata": {}
    },
    {
     "output_type": "display_data",
     "data": {
      "text/html": "(1 row affected)"
     },
     "metadata": {}
    },
    {
     "output_type": "display_data",
     "data": {
      "text/html": "(1 row affected)"
     },
     "metadata": {}
    },
    {
     "output_type": "display_data",
     "data": {
      "text/html": "(1 row affected)"
     },
     "metadata": {}
    },
    {
     "output_type": "display_data",
     "data": {
      "text/html": "(1 row affected)"
     },
     "metadata": {}
    },
    {
     "output_type": "display_data",
     "data": {
      "text/html": "(1 row affected)"
     },
     "metadata": {}
    },
    {
     "output_type": "display_data",
     "data": {
      "text/html": "(1 row affected)"
     },
     "metadata": {}
    },
    {
     "output_type": "display_data",
     "data": {
      "text/html": "(1 row affected)"
     },
     "metadata": {}
    },
    {
     "output_type": "display_data",
     "data": {
      "text/html": "(1 row affected)"
     },
     "metadata": {}
    },
    {
     "output_type": "display_data",
     "data": {
      "text/html": "(1 row affected)"
     },
     "metadata": {}
    },
    {
     "output_type": "display_data",
     "data": {
      "text/html": "(1 row affected)"
     },
     "metadata": {}
    },
    {
     "output_type": "display_data",
     "data": {
      "text/html": "(1 row affected)"
     },
     "metadata": {}
    },
    {
     "output_type": "display_data",
     "data": {
      "text/html": "(1 row affected)"
     },
     "metadata": {}
    },
    {
     "output_type": "display_data",
     "data": {
      "text/html": "(1 row affected)"
     },
     "metadata": {}
    },
    {
     "output_type": "display_data",
     "data": {
      "text/html": "(1 row affected)"
     },
     "metadata": {}
    },
    {
     "output_type": "display_data",
     "data": {
      "text/html": "(1 row affected)"
     },
     "metadata": {}
    },
    {
     "output_type": "display_data",
     "data": {
      "text/html": "(1 row affected)"
     },
     "metadata": {}
    },
    {
     "output_type": "display_data",
     "data": {
      "text/html": "(1 row affected)"
     },
     "metadata": {}
    },
    {
     "output_type": "display_data",
     "data": {
      "text/html": "(1 row affected)"
     },
     "metadata": {}
    },
    {
     "output_type": "display_data",
     "data": {
      "text/html": "(1 row affected)"
     },
     "metadata": {}
    },
    {
     "output_type": "display_data",
     "data": {
      "text/html": "(1 row affected)"
     },
     "metadata": {}
    },
    {
     "output_type": "display_data",
     "data": {
      "text/html": "(1 row affected)"
     },
     "metadata": {}
    },
    {
     "output_type": "display_data",
     "data": {
      "text/html": "(1 row affected)"
     },
     "metadata": {}
    },
    {
     "output_type": "display_data",
     "data": {
      "text/html": "(1 row affected)"
     },
     "metadata": {}
    },
    {
     "output_type": "display_data",
     "data": {
      "text/html": "(1 row affected)"
     },
     "metadata": {}
    },
    {
     "output_type": "display_data",
     "data": {
      "text/html": "(1 row affected)"
     },
     "metadata": {}
    },
    {
     "output_type": "display_data",
     "data": {
      "text/html": "(1 row affected)"
     },
     "metadata": {}
    },
    {
     "output_type": "display_data",
     "data": {
      "text/html": "(1 row affected)"
     },
     "metadata": {}
    },
    {
     "output_type": "display_data",
     "data": {
      "text/html": "(1 row affected)"
     },
     "metadata": {}
    },
    {
     "output_type": "display_data",
     "data": {
      "text/html": "(1 row affected)"
     },
     "metadata": {}
    },
    {
     "output_type": "display_data",
     "data": {
      "text/html": "(1 row affected)"
     },
     "metadata": {}
    },
    {
     "output_type": "display_data",
     "data": {
      "text/html": "(1 row affected)"
     },
     "metadata": {}
    },
    {
     "output_type": "display_data",
     "data": {
      "text/html": "(1 row affected)"
     },
     "metadata": {}
    },
    {
     "output_type": "display_data",
     "data": {
      "text/html": "(1 row affected)"
     },
     "metadata": {}
    },
    {
     "output_type": "display_data",
     "data": {
      "text/html": "(1 row affected)"
     },
     "metadata": {}
    },
    {
     "output_type": "display_data",
     "data": {
      "text/html": "(1 row affected)"
     },
     "metadata": {}
    },
    {
     "output_type": "display_data",
     "data": {
      "text/html": "(1 row affected)"
     },
     "metadata": {}
    },
    {
     "output_type": "display_data",
     "data": {
      "text/html": "(1 row affected)"
     },
     "metadata": {}
    },
    {
     "output_type": "display_data",
     "data": {
      "text/html": "(1 row affected)"
     },
     "metadata": {}
    },
    {
     "output_type": "display_data",
     "data": {
      "text/html": "(1 row affected)"
     },
     "metadata": {}
    },
    {
     "output_type": "display_data",
     "data": {
      "text/html": "(1 row affected)"
     },
     "metadata": {}
    },
    {
     "output_type": "display_data",
     "data": {
      "text/html": "(1 row affected)"
     },
     "metadata": {}
    },
    {
     "output_type": "display_data",
     "data": {
      "text/html": "(1 row affected)"
     },
     "metadata": {}
    },
    {
     "output_type": "display_data",
     "data": {
      "text/html": "(1 row affected)"
     },
     "metadata": {}
    },
    {
     "output_type": "display_data",
     "data": {
      "text/html": "(1 row affected)"
     },
     "metadata": {}
    },
    {
     "output_type": "display_data",
     "data": {
      "text/html": "(1 row affected)"
     },
     "metadata": {}
    },
    {
     "output_type": "display_data",
     "data": {
      "text/html": "(1 row affected)"
     },
     "metadata": {}
    },
    {
     "output_type": "display_data",
     "data": {
      "text/html": "(1 row affected)"
     },
     "metadata": {}
    },
    {
     "output_type": "display_data",
     "data": {
      "text/html": "(1 row affected)"
     },
     "metadata": {}
    },
    {
     "output_type": "display_data",
     "data": {
      "text/html": "(1 row affected)"
     },
     "metadata": {}
    },
    {
     "output_type": "display_data",
     "data": {
      "text/html": "(1 row affected)"
     },
     "metadata": {}
    },
    {
     "output_type": "display_data",
     "data": {
      "text/html": "(1 row affected)"
     },
     "metadata": {}
    },
    {
     "output_type": "display_data",
     "data": {
      "text/html": "(1 row affected)"
     },
     "metadata": {}
    },
    {
     "output_type": "display_data",
     "data": {
      "text/html": "(1 row affected)"
     },
     "metadata": {}
    },
    {
     "output_type": "display_data",
     "data": {
      "text/html": "(1 row affected)"
     },
     "metadata": {}
    },
    {
     "output_type": "display_data",
     "data": {
      "text/html": "(1 row affected)"
     },
     "metadata": {}
    },
    {
     "output_type": "display_data",
     "data": {
      "text/html": "(1 row affected)"
     },
     "metadata": {}
    },
    {
     "output_type": "display_data",
     "data": {
      "text/html": "(1 row affected)"
     },
     "metadata": {}
    },
    {
     "output_type": "display_data",
     "data": {
      "text/html": "(1 row affected)"
     },
     "metadata": {}
    },
    {
     "output_type": "display_data",
     "data": {
      "text/html": "(1 row affected)"
     },
     "metadata": {}
    },
    {
     "output_type": "display_data",
     "data": {
      "text/html": "(1 row affected)"
     },
     "metadata": {}
    },
    {
     "output_type": "display_data",
     "data": {
      "text/html": "(1 row affected)"
     },
     "metadata": {}
    },
    {
     "output_type": "display_data",
     "data": {
      "text/html": "(1 row affected)"
     },
     "metadata": {}
    },
    {
     "output_type": "display_data",
     "data": {
      "text/html": "(1 row affected)"
     },
     "metadata": {}
    },
    {
     "output_type": "display_data",
     "data": {
      "text/html": "(1 row affected)"
     },
     "metadata": {}
    },
    {
     "output_type": "display_data",
     "data": {
      "text/html": "(1 row affected)"
     },
     "metadata": {}
    },
    {
     "output_type": "display_data",
     "data": {
      "text/html": "(1 row affected)"
     },
     "metadata": {}
    },
    {
     "output_type": "display_data",
     "data": {
      "text/html": "(1 row affected)"
     },
     "metadata": {}
    },
    {
     "output_type": "display_data",
     "data": {
      "text/html": "(1 row affected)"
     },
     "metadata": {}
    },
    {
     "output_type": "display_data",
     "data": {
      "text/html": "(1 row affected)"
     },
     "metadata": {}
    },
    {
     "output_type": "display_data",
     "data": {
      "text/html": "(1 row affected)"
     },
     "metadata": {}
    },
    {
     "output_type": "display_data",
     "data": {
      "text/html": "(1 row affected)"
     },
     "metadata": {}
    },
    {
     "output_type": "display_data",
     "data": {
      "text/html": "(1 row affected)"
     },
     "metadata": {}
    },
    {
     "output_type": "display_data",
     "data": {
      "text/html": "(1 row affected)"
     },
     "metadata": {}
    },
    {
     "output_type": "display_data",
     "data": {
      "text/html": "(1 row affected)"
     },
     "metadata": {}
    },
    {
     "output_type": "display_data",
     "data": {
      "text/html": "(1 row affected)"
     },
     "metadata": {}
    },
    {
     "output_type": "display_data",
     "data": {
      "text/html": "(1 row affected)"
     },
     "metadata": {}
    },
    {
     "output_type": "display_data",
     "data": {
      "text/html": "(1 row affected)"
     },
     "metadata": {}
    },
    {
     "output_type": "display_data",
     "data": {
      "text/html": "(1 row affected)"
     },
     "metadata": {}
    },
    {
     "output_type": "display_data",
     "data": {
      "text/html": "(1 row affected)"
     },
     "metadata": {}
    },
    {
     "output_type": "display_data",
     "data": {
      "text/html": "(1 row affected)"
     },
     "metadata": {}
    },
    {
     "output_type": "display_data",
     "data": {
      "text/html": "(1 row affected)"
     },
     "metadata": {}
    },
    {
     "output_type": "display_data",
     "data": {
      "text/html": "(1 row affected)"
     },
     "metadata": {}
    },
    {
     "output_type": "display_data",
     "data": {
      "text/html": "(1 row affected)"
     },
     "metadata": {}
    },
    {
     "output_type": "display_data",
     "data": {
      "text/html": "(1 row affected)"
     },
     "metadata": {}
    },
    {
     "output_type": "display_data",
     "data": {
      "text/html": "(1 row affected)"
     },
     "metadata": {}
    },
    {
     "output_type": "display_data",
     "data": {
      "text/html": "(1 row affected)"
     },
     "metadata": {}
    },
    {
     "output_type": "display_data",
     "data": {
      "text/html": "(1 row affected)"
     },
     "metadata": {}
    },
    {
     "output_type": "display_data",
     "data": {
      "text/html": "(1 row affected)"
     },
     "metadata": {}
    },
    {
     "output_type": "display_data",
     "data": {
      "text/html": "(1 row affected)"
     },
     "metadata": {}
    },
    {
     "output_type": "display_data",
     "data": {
      "text/html": "(1 row affected)"
     },
     "metadata": {}
    },
    {
     "output_type": "display_data",
     "data": {
      "text/html": "(1 row affected)"
     },
     "metadata": {}
    },
    {
     "output_type": "display_data",
     "data": {
      "text/html": "(1 row affected)"
     },
     "metadata": {}
    },
    {
     "output_type": "display_data",
     "data": {
      "text/html": "(1 row affected)"
     },
     "metadata": {}
    },
    {
     "output_type": "display_data",
     "data": {
      "text/html": "(1 row affected)"
     },
     "metadata": {}
    },
    {
     "output_type": "display_data",
     "data": {
      "text/html": "(1 row affected)"
     },
     "metadata": {}
    },
    {
     "output_type": "display_data",
     "data": {
      "text/html": "(1 row affected)"
     },
     "metadata": {}
    },
    {
     "output_type": "display_data",
     "data": {
      "text/html": "(1 row affected)"
     },
     "metadata": {}
    },
    {
     "output_type": "display_data",
     "data": {
      "text/html": "(1 row affected)"
     },
     "metadata": {}
    },
    {
     "output_type": "display_data",
     "data": {
      "text/html": "(1 row affected)"
     },
     "metadata": {}
    },
    {
     "output_type": "display_data",
     "data": {
      "text/html": "(1 row affected)"
     },
     "metadata": {}
    },
    {
     "output_type": "display_data",
     "data": {
      "text/html": "(1 row affected)"
     },
     "metadata": {}
    },
    {
     "output_type": "display_data",
     "data": {
      "text/html": "(1 row affected)"
     },
     "metadata": {}
    },
    {
     "output_type": "display_data",
     "data": {
      "text/html": "(1 row affected)"
     },
     "metadata": {}
    },
    {
     "output_type": "display_data",
     "data": {
      "text/html": "(1 row affected)"
     },
     "metadata": {}
    },
    {
     "output_type": "display_data",
     "data": {
      "text/html": "(1 row affected)"
     },
     "metadata": {}
    },
    {
     "output_type": "display_data",
     "data": {
      "text/html": "(1 row affected)"
     },
     "metadata": {}
    },
    {
     "output_type": "display_data",
     "data": {
      "text/html": "(1 row affected)"
     },
     "metadata": {}
    },
    {
     "output_type": "display_data",
     "data": {
      "text/html": "(1 row affected)"
     },
     "metadata": {}
    },
    {
     "output_type": "display_data",
     "data": {
      "text/html": "(1 row affected)"
     },
     "metadata": {}
    },
    {
     "output_type": "display_data",
     "data": {
      "text/html": "(1 row affected)"
     },
     "metadata": {}
    },
    {
     "output_type": "display_data",
     "data": {
      "text/html": "(1 row affected)"
     },
     "metadata": {}
    },
    {
     "output_type": "display_data",
     "data": {
      "text/html": "(1 row affected)"
     },
     "metadata": {}
    },
    {
     "output_type": "display_data",
     "data": {
      "text/html": "(1 row affected)"
     },
     "metadata": {}
    },
    {
     "output_type": "display_data",
     "data": {
      "text/html": "(1 row affected)"
     },
     "metadata": {}
    },
    {
     "output_type": "display_data",
     "data": {
      "text/html": "(1 row affected)"
     },
     "metadata": {}
    },
    {
     "output_type": "display_data",
     "data": {
      "text/html": "(1 row affected)"
     },
     "metadata": {}
    },
    {
     "output_type": "display_data",
     "data": {
      "text/html": "(1 row affected)"
     },
     "metadata": {}
    },
    {
     "output_type": "display_data",
     "data": {
      "text/html": "(1 row affected)"
     },
     "metadata": {}
    },
    {
     "output_type": "display_data",
     "data": {
      "text/html": "(1 row affected)"
     },
     "metadata": {}
    },
    {
     "output_type": "display_data",
     "data": {
      "text/html": "(1 row affected)"
     },
     "metadata": {}
    },
    {
     "output_type": "display_data",
     "data": {
      "text/html": "(1 row affected)"
     },
     "metadata": {}
    },
    {
     "output_type": "display_data",
     "data": {
      "text/html": "(1 row affected)"
     },
     "metadata": {}
    },
    {
     "output_type": "display_data",
     "data": {
      "text/html": "(1 row affected)"
     },
     "metadata": {}
    },
    {
     "output_type": "display_data",
     "data": {
      "text/html": "(1 row affected)"
     },
     "metadata": {}
    },
    {
     "output_type": "display_data",
     "data": {
      "text/html": "(1 row affected)"
     },
     "metadata": {}
    },
    {
     "output_type": "display_data",
     "data": {
      "text/html": "(1 row affected)"
     },
     "metadata": {}
    },
    {
     "output_type": "display_data",
     "data": {
      "text/html": "(1 row affected)"
     },
     "metadata": {}
    },
    {
     "output_type": "display_data",
     "data": {
      "text/html": "(1 row affected)"
     },
     "metadata": {}
    },
    {
     "output_type": "display_data",
     "data": {
      "text/html": "(1 row affected)"
     },
     "metadata": {}
    },
    {
     "output_type": "display_data",
     "data": {
      "text/html": "(1 row affected)"
     },
     "metadata": {}
    },
    {
     "output_type": "display_data",
     "data": {
      "text/html": "(1 row affected)"
     },
     "metadata": {}
    },
    {
     "output_type": "display_data",
     "data": {
      "text/html": "Total execution time: 00:00:00.135"
     },
     "metadata": {}
    }
   ],
   "execution_count": 78
  },
  {
   "cell_type": "code",
   "source": [
    "INSERT INTO MandatoryCourseStudies(studiesCode, coursesCode, semester) VALUES (0, 'F18L1W005', 1);\n",
    "INSERT INTO MandatoryCourseStudies(studiesCode, coursesCode, semester) VALUES (0, 'F18L1W007', 1);\n",
    "INSERT INTO MandatoryCourseStudies(studiesCode, coursesCode, semester) VALUES (0, 'F18L1S013', 1);\n",
    "INSERT INTO MandatoryCourseStudies(studiesCode, coursesCode, semester) VALUES (0, 'F18L1W018', 1);\n",
    "INSERT INTO MandatoryCourseStudies(studiesCode, coursesCode, semester) VALUES (0, 'F18L1W020', 1);\n",
    "INSERT INTO MandatoryCourseStudies(studiesCode, coursesCode, semester) VALUES (0, 'F18L1W011', 2);\n",
    "INSERT INTO MandatoryCourseStudies(studiesCode, coursesCode, semester) VALUES (0, 'F18L1S045', 2);\n",
    "INSERT INTO MandatoryCourseStudies(studiesCode, coursesCode, semester) VALUES (0, 'F18L1S016', 2);\n",
    "INSERT INTO MandatoryCourseStudies(studiesCode, coursesCode, semester) VALUES (0, 'F18L1S066', 2);\n",
    "INSERT INTO MandatoryCourseStudies(studiesCode, coursesCode, semester) VALUES (0, '0', 2);\n",
    "INSERT INTO MandatoryCourseStudies(studiesCode, coursesCode, semester) VALUES (0, 'F18L2W001', 3);\n",
    "INSERT INTO MandatoryCourseStudies(studiesCode, coursesCode, semester) VALUES (0, 'F18L2W046', 3);\n",
    "INSERT INTO MandatoryCourseStudies(studiesCode, coursesCode, semester) VALUES (0, 'F18L2W067', 3);\n",
    "INSERT INTO MandatoryCourseStudies(studiesCode, coursesCode, semester) VALUES (0, 'F18L2S061', 4);\n",
    "INSERT INTO MandatoryCourseStudies(studiesCode, coursesCode, semester) VALUES (0, 'F18L2S017', 4);\n",
    "INSERT INTO MandatoryCourseStudies(studiesCode, coursesCode, semester) VALUES (0, 'F18L3W060', 5);\n",
    "INSERT INTO MandatoryCourseStudies(studiesCode, coursesCode, semester) VALUES (0, 'F18L3W004', 5);\n",
    "INSERT INTO MandatoryCourseStudies(studiesCode, coursesCode, semester) VALUES (0, 'F18L3W065', 5);\n",
    "INSERT INTO MandatoryCourseStudies(studiesCode, coursesCode, semester) VALUES (0, '1', 6);\n",
    "\n",
    "INSERT INTO MandatoryCourseStudies(studiesCode, coursesCode, semester) VALUES (1, 'F18L1W005', 1);\n",
    "INSERT INTO MandatoryCourseStudies(studiesCode, coursesCode, semester) VALUES (1, 'F18L1W007', 1);\n",
    "INSERT INTO MandatoryCourseStudies(studiesCode, coursesCode, semester) VALUES (1, 'F18L1S013', 1);\n",
    "INSERT INTO MandatoryCourseStudies(studiesCode, coursesCode, semester) VALUES (1, 'F18L1W018', 1);\n",
    "INSERT INTO MandatoryCourseStudies(studiesCode, coursesCode, semester) VALUES (1, 'F18L1W020', 1);\n",
    "INSERT INTO MandatoryCourseStudies(studiesCode, coursesCode, semester) VALUES (1, 'F18L1W011', 2);\n",
    "INSERT INTO MandatoryCourseStudies(studiesCode, coursesCode, semester) VALUES (1, 'F18L1S045', 2);\n",
    "INSERT INTO MandatoryCourseStudies(studiesCode, coursesCode, semester) VALUES (1, 'F18L1S016', 2);\n",
    "INSERT INTO MandatoryCourseStudies(studiesCode, coursesCode, semester) VALUES (1, 'F18L1S066', 2);\n",
    "INSERT INTO MandatoryCourseStudies(studiesCode, coursesCode, semester) VALUES (1, '0', 2);\n",
    "INSERT INTO MandatoryCourseStudies(studiesCode, coursesCode, semester) VALUES (1, 'F18L2W001', 3);\n",
    "INSERT INTO MandatoryCourseStudies(studiesCode, coursesCode, semester) VALUES (1, 'F18L2W046', 3);\n",
    "INSERT INTO MandatoryCourseStudies(studiesCode, coursesCode, semester) VALUES (1, 'F18L2W067', 3);\n",
    "INSERT INTO MandatoryCourseStudies(studiesCode, coursesCode, semester) VALUES (1, 'F18L2S061', 4);\n",
    "INSERT INTO MandatoryCourseStudies(studiesCode, coursesCode, semester) VALUES (1, 'F18L2S017', 4);\n",
    "INSERT INTO MandatoryCourseStudies(studiesCode, coursesCode, semester) VALUES (1, 'F18L3W060', 5);\n",
    "INSERT INTO MandatoryCourseStudies(studiesCode, coursesCode, semester) VALUES (1, 'F18L3W004', 5);\n",
    "INSERT INTO MandatoryCourseStudies(studiesCode, coursesCode, semester) VALUES (1, 'F18L3W065', 5);\n",
    "INSERT INTO MandatoryCourseStudies(studiesCode, coursesCode, semester) VALUES (1, 'F18L3S059', 6);\n",
    "INSERT INTO MandatoryCourseStudies(studiesCode, coursesCode, semester) VALUES (1, 'F18L3S062', 6);\n",
    "INSERT INTO MandatoryCourseStudies(studiesCode, coursesCode, semester) VALUES (1, 'F18L3W064', 7);\n",
    "INSERT INTO MandatoryCourseStudies(studiesCode, coursesCode, semester) VALUES (1, 'F18L3W068', 7);\n",
    "INSERT INTO MandatoryCourseStudies(studiesCode, coursesCode, semester) VALUES (1, '1', 8);\n",
    "INSERT INTO MandatoryCourseStudies(studiesCode, coursesCode, semester) VALUES (1, 'F18L3S063', 8);\n",
    "\n",
    "INSERT INTO MandatoryCourseStudies(studiesCode, coursesCode, semester) VALUES (2, 'F18L1W007', 1);\n",
    "INSERT INTO MandatoryCourseStudies(studiesCode, coursesCode, semester) VALUES (2, 'F18L1W011', 1);\n",
    "INSERT INTO MandatoryCourseStudies(studiesCode, coursesCode, semester) VALUES (2, 'F18L1W070', 1);\n",
    "INSERT INTO MandatoryCourseStudies(studiesCode, coursesCode, semester) VALUES (2, 'F18L1W018', 1);\n",
    "INSERT INTO MandatoryCourseStudies(studiesCode, coursesCode, semester) VALUES (2, 'F18L1W020', 1);\n",
    "INSERT INTO MandatoryCourseStudies(studiesCode, coursesCode, semester) VALUES (2, 'F18L1S052', 2);\n",
    "INSERT INTO MandatoryCourseStudies(studiesCode, coursesCode, semester) VALUES (2, 'F18L1S013', 2);\n",
    "INSERT INTO MandatoryCourseStudies(studiesCode, coursesCode, semester) VALUES (2, 'F18L1S045', 2);\n",
    "INSERT INTO MandatoryCourseStudies(studiesCode, coursesCode, semester) VALUES (2, 'F18L1S016', 2);\n",
    "INSERT INTO MandatoryCourseStudies(studiesCode, coursesCode, semester) VALUES (2, '0', 2);\n",
    "INSERT INTO MandatoryCourseStudies(studiesCode, coursesCode, semester) VALUES (2, 'F18L2W001', 3);\n",
    "INSERT INTO MandatoryCourseStudies(studiesCode, coursesCode, semester) VALUES (2, 'F18L2W014', 3);\n",
    "INSERT INTO MandatoryCourseStudies(studiesCode, coursesCode, semester) VALUES (2, 'F18L3W055', 3);\n",
    "INSERT INTO MandatoryCourseStudies(studiesCode, coursesCode, semester) VALUES (2, 'F18L2S051', 4);\n",
    "INSERT INTO MandatoryCourseStudies(studiesCode, coursesCode, semester) VALUES (2, 'F18L2S017', 4);\n",
    "INSERT INTO MandatoryCourseStudies(studiesCode, coursesCode, semester) VALUES (2, 'F18L3W004', 5);\n",
    "INSERT INTO MandatoryCourseStudies(studiesCode, coursesCode, semester) VALUES (2, 'F18L3W050', 5);\n",
    "INSERT INTO MandatoryCourseStudies(studiesCode, coursesCode, semester) VALUES (2, 'F18L3W053', 5);\n",
    "INSERT INTO MandatoryCourseStudies(studiesCode, coursesCode, semester) VALUES (2, 'F18L3S056', 6);\n",
    "INSERT INTO MandatoryCourseStudies(studiesCode, coursesCode, semester) VALUES (2, 'F18L3S071', 6);\n",
    "INSERT INTO MandatoryCourseStudies(studiesCode, coursesCode, semester) VALUES (2, 'F18L3S057', 6);\n",
    "INSERT INTO MandatoryCourseStudies(studiesCode, coursesCode, semester) VALUES (2, '2', 7);\n",
    "INSERT INTO MandatoryCourseStudies(studiesCode, coursesCode, semester) VALUES (2, '1', 8);\n",
    "INSERT INTO MandatoryCourseStudies(studiesCode, coursesCode, semester) VALUES (2, 'F18L3S069', 8);\n",
    "INSERT INTO MandatoryCourseStudies(studiesCode, coursesCode, semester) VALUES (2, 'F18L3S054', 8);\n",
    "\n",
    "INSERT INTO MandatoryCourseStudies(studiesCode, coursesCode, semester) VALUES (3, 'F18L1W007', 1);\n",
    "INSERT INTO MandatoryCourseStudies(studiesCode, coursesCode, semester) VALUES (3, 'F18L1W031', 1);\n",
    "INSERT INTO MandatoryCourseStudies(studiesCode, coursesCode, semester) VALUES (3, 'F18L1W033', 1);\n",
    "INSERT INTO MandatoryCourseStudies(studiesCode, coursesCode, semester) VALUES (3, 'F18L1W018', 1);\n",
    "INSERT INTO MandatoryCourseStudies(studiesCode, coursesCode, semester) VALUES (3, 'F18L1W020', 1);\n",
    "INSERT INTO MandatoryCourseStudies(studiesCode, coursesCode, semester) VALUES (3, 'F18L1S003', 2);\n",
    "INSERT INTO MandatoryCourseStudies(studiesCode, coursesCode, semester) VALUES (3, 'F18L1S032', 2);\n",
    "INSERT INTO MandatoryCourseStudies(studiesCode, coursesCode, semester) VALUES (3, 'F18L1S034', 2);\n",
    "INSERT INTO MandatoryCourseStudies(studiesCode, coursesCode, semester) VALUES (3, 'F18L1S016', 2);\n",
    "INSERT INTO MandatoryCourseStudies(studiesCode, coursesCode, semester) VALUES (3, '0', 2);\n",
    "INSERT INTO MandatoryCourseStudies(studiesCode, coursesCode, semester) VALUES (3, 'F18L2W001', 3);\n",
    "INSERT INTO MandatoryCourseStudies(studiesCode, coursesCode, semester) VALUES (3, 'F18L2W006', 3);\n",
    "INSERT INTO MandatoryCourseStudies(studiesCode, coursesCode, semester) VALUES (3, 'F18L2W014', 3);\n",
    "INSERT INTO MandatoryCourseStudies(studiesCode, coursesCode, semester) VALUES (3, 'F18L2S030', 4);\n",
    "INSERT INTO MandatoryCourseStudies(studiesCode, coursesCode, semester) VALUES (3, 'F18L2S017', 4);\n",
    "INSERT INTO MandatoryCourseStudies(studiesCode, coursesCode, semester) VALUES (3, 'F18L2S029', 4);\n",
    "INSERT INTO MandatoryCourseStudies(studiesCode, coursesCode, semester) VALUES (3, 'F18L3W004', 5);\n",
    "INSERT INTO MandatoryCourseStudies(studiesCode, coursesCode, semester) VALUES (3, 'F18L3S036', 6);\n",
    "INSERT INTO MandatoryCourseStudies(studiesCode, coursesCode, semester) VALUES (3, '1', 6);\n",
    "\n",
    "INSERT INTO MandatoryCourseStudies(studiesCode, coursesCode, semester) VALUES (4, 'F18L1W007', 1);\n",
    "INSERT INTO MandatoryCourseStudies(studiesCode, coursesCode, semester) VALUES (4, 'F18L1W031', 1);\n",
    "INSERT INTO MandatoryCourseStudies(studiesCode, coursesCode, semester) VALUES (4, 'F18L1W033', 1);\n",
    "INSERT INTO MandatoryCourseStudies(studiesCode, coursesCode, semester) VALUES (4, 'F18L1W018', 1);\n",
    "INSERT INTO MandatoryCourseStudies(studiesCode, coursesCode, semester) VALUES (4, 'F18L1W020', 1);\n",
    "INSERT INTO MandatoryCourseStudies(studiesCode, coursesCode, semester) VALUES (4, 'F18L1S003', 2);\n",
    "INSERT INTO MandatoryCourseStudies(studiesCode, coursesCode, semester) VALUES (4, 'F18L1S032', 2);\n",
    "INSERT INTO MandatoryCourseStudies(studiesCode, coursesCode, semester) VALUES (4, 'F18L1S034', 2);\n",
    "INSERT INTO MandatoryCourseStudies(studiesCode, coursesCode, semester) VALUES (4, 'F18L1S016', 2);\n",
    "INSERT INTO MandatoryCourseStudies(studiesCode, coursesCode, semester) VALUES (4, '0', 2);\n",
    "INSERT INTO MandatoryCourseStudies(studiesCode, coursesCode, semester) VALUES (4, 'F18L2W001', 3);\n",
    "INSERT INTO MandatoryCourseStudies(studiesCode, coursesCode, semester) VALUES (4, 'F18L2W006', 3);\n",
    "INSERT INTO MandatoryCourseStudies(studiesCode, coursesCode, semester) VALUES (4, 'F18L2W014', 3);\n",
    "INSERT INTO MandatoryCourseStudies(studiesCode, coursesCode, semester) VALUES (4, 'F18L2S030', 4);\n",
    "INSERT INTO MandatoryCourseStudies(studiesCode, coursesCode, semester) VALUES (4, 'F18L2S017', 4);\n",
    "INSERT INTO MandatoryCourseStudies(studiesCode, coursesCode, semester) VALUES (4, 'F18L2S029', 4);\n",
    "INSERT INTO MandatoryCourseStudies(studiesCode, coursesCode, semester) VALUES (4, 'F18L3W004', 5);\n",
    "INSERT INTO MandatoryCourseStudies(studiesCode, coursesCode, semester) VALUES (4, 'F18L3W035', 5);\n",
    "INSERT INTO MandatoryCourseStudies(studiesCode, coursesCode, semester) VALUES (4, 'F18L3W037', 5);\n",
    "INSERT INTO MandatoryCourseStudies(studiesCode, coursesCode, semester) VALUES (4, 'F18L3S036', 6);\n",
    "INSERT INTO MandatoryCourseStudies(studiesCode, coursesCode, semester) VALUES (4, 'F18L3S010', 6);\n",
    "INSERT INTO MandatoryCourseStudies(studiesCode, coursesCode, semester) VALUES (4, 'F18L3S039', 6);\n",
    "INSERT INTO MandatoryCourseStudies(studiesCode, coursesCode, semester) VALUES (4, 'F18L3W038', 7);\n",
    "INSERT INTO MandatoryCourseStudies(studiesCode, coursesCode, semester) VALUES (4, '1', 8);\n",
    "\n",
    "INSERT INTO MandatoryCourseStudies(studiesCode, coursesCode, semester) VALUES (5, 'F18L1W041', 1);\n",
    "INSERT INTO MandatoryCourseStudies(studiesCode, coursesCode, semester) VALUES (5, 'F18L1W033', 1);\n",
    "INSERT INTO MandatoryCourseStudies(studiesCode, coursesCode, semester) VALUES (5, 'F18L1W018', 1);\n",
    "INSERT INTO MandatoryCourseStudies(studiesCode, coursesCode, semester) VALUES (5, 'F18L1W020', 1);\n",
    "INSERT INTO MandatoryCourseStudies(studiesCode, coursesCode, semester) VALUES (5, 'F18L1W049', 1);\n",
    "INSERT INTO MandatoryCourseStudies(studiesCode, coursesCode, semester) VALUES (5, 'F18L1W011', 2);\n",
    "INSERT INTO MandatoryCourseStudies(studiesCode, coursesCode, semester) VALUES (5, 'F18L1S034', 2);\n",
    "INSERT INTO MandatoryCourseStudies(studiesCode, coursesCode, semester) VALUES (5, 'F18L1S045', 2);\n",
    "INSERT INTO MandatoryCourseStudies(studiesCode, coursesCode, semester) VALUES (5, 'F18L1S016', 2);\n",
    "INSERT INTO MandatoryCourseStudies(studiesCode, coursesCode, semester) VALUES (5, '0', 2);\n",
    "INSERT INTO MandatoryCourseStudies(studiesCode, coursesCode, semester) VALUES (5, 'F18L2W001', 3);\n",
    "INSERT INTO MandatoryCourseStudies(studiesCode, coursesCode, semester) VALUES (5, 'F18L2W006', 3);\n",
    "INSERT INTO MandatoryCourseStudies(studiesCode, coursesCode, semester) VALUES (5, 'F18L2W046', 3);\n",
    "INSERT INTO MandatoryCourseStudies(studiesCode, coursesCode, semester) VALUES (5, 'F18L2S042', 4);\n",
    "INSERT INTO MandatoryCourseStudies(studiesCode, coursesCode, semester) VALUES (5, 'F18L2S017', 4);\n",
    "INSERT INTO MandatoryCourseStudies(studiesCode, coursesCode, semester) VALUES (5, 'F18L2S029', 4);\n",
    "INSERT INTO MandatoryCourseStudies(studiesCode, coursesCode, semester) VALUES (5, 'F18L3W004', 5);\n",
    "INSERT INTO MandatoryCourseStudies(studiesCode, coursesCode, semester) VALUES (5, 'F18L3S040', 6);\n",
    "INSERT INTO MandatoryCourseStudies(studiesCode, coursesCode, semester) VALUES (5, '1', 6);\n",
    "\n",
    "INSERT INTO MandatoryCourseStudies(studiesCode, coursesCode, semester) VALUES (6, 'F18L1W041', 1);\n",
    "INSERT INTO MandatoryCourseStudies(studiesCode, coursesCode, semester) VALUES (6, 'F18L1W033', 1);\n",
    "INSERT INTO MandatoryCourseStudies(studiesCode, coursesCode, semester) VALUES (6, 'F18L1W018', 1);\n",
    "INSERT INTO MandatoryCourseStudies(studiesCode, coursesCode, semester) VALUES (6, 'F18L1W020', 1);\n",
    "INSERT INTO MandatoryCourseStudies(studiesCode, coursesCode, semester) VALUES (6, 'F18L1W049', 1);\n",
    "INSERT INTO MandatoryCourseStudies(studiesCode, coursesCode, semester) VALUES (6, 'F18L1W011', 2);\n",
    "INSERT INTO MandatoryCourseStudies(studiesCode, coursesCode, semester) VALUES (6, 'F18L1S034', 2);\n",
    "INSERT INTO MandatoryCourseStudies(studiesCode, coursesCode, semester) VALUES (6, 'F18L1S045', 2);\n",
    "INSERT INTO MandatoryCourseStudies(studiesCode, coursesCode, semester) VALUES (6, 'F18L1S016', 2);\n",
    "INSERT INTO MandatoryCourseStudies(studiesCode, coursesCode, semester) VALUES (6, '0', 2);\n",
    "INSERT INTO MandatoryCourseStudies(studiesCode, coursesCode, semester) VALUES (6, 'F18L2W001', 3);\n",
    "INSERT INTO MandatoryCourseStudies(studiesCode, coursesCode, semester) VALUES (6, 'F18L2W006', 3);\n",
    "INSERT INTO MandatoryCourseStudies(studiesCode, coursesCode, semester) VALUES (6, 'F18L2W046', 3);\n",
    "INSERT INTO MandatoryCourseStudies(studiesCode, coursesCode, semester) VALUES (6, 'F18L2S042', 4);\n",
    "INSERT INTO MandatoryCourseStudies(studiesCode, coursesCode, semester) VALUES (6, 'F18L2S017', 4);\n",
    "INSERT INTO MandatoryCourseStudies(studiesCode, coursesCode, semester) VALUES (6, 'F18L2S029', 4);\n",
    "INSERT INTO MandatoryCourseStudies(studiesCode, coursesCode, semester) VALUES (6, 'F18L3W004', 5);\n",
    "INSERT INTO MandatoryCourseStudies(studiesCode, coursesCode, semester) VALUES (6, 'F18L3W043', 5);\n",
    "INSERT INTO MandatoryCourseStudies(studiesCode, coursesCode, semester) VALUES (6, 'F18L3W044', 5);\n",
    "INSERT INTO MandatoryCourseStudies(studiesCode, coursesCode, semester) VALUES (6, 'F18L3S040', 6);\n",
    "INSERT INTO MandatoryCourseStudies(studiesCode, coursesCode, semester) VALUES (6, 'F18L3S047', 6);\n",
    "INSERT INTO MandatoryCourseStudies(studiesCode, coursesCode, semester) VALUES (6, 'F18L3W048', 7);\n",
    "INSERT INTO MandatoryCourseStudies(studiesCode, coursesCode, semester) VALUES (6, 'F18L3S022', 8);\n",
    "INSERT INTO MandatoryCourseStudies(studiesCode, coursesCode, semester) VALUES (6, '1', 8);\n",
    "\n",
    "INSERT INTO MandatoryCourseStudies(studiesCode, coursesCode, semester) VALUES (7, 'F18L1W005', 1);\n",
    "INSERT INTO MandatoryCourseStudies(studiesCode, coursesCode, semester) VALUES (7, 'F18L1W007', 1);\n",
    "INSERT INTO MandatoryCourseStudies(studiesCode, coursesCode, semester) VALUES (7, 'F18L1W011', 1);\n",
    "INSERT INTO MandatoryCourseStudies(studiesCode, coursesCode, semester) VALUES (7, 'F18L1W018', 1);\n",
    "INSERT INTO MandatoryCourseStudies(studiesCode, coursesCode, semester) VALUES (7, 'F18L1W020', 1);\n",
    "INSERT INTO MandatoryCourseStudies(studiesCode, coursesCode, semester) VALUES (7, 'F18L1S003', 2);\n",
    "INSERT INTO MandatoryCourseStudies(studiesCode, coursesCode, semester) VALUES (7, 'F18L1S023', 2);\n",
    "INSERT INTO MandatoryCourseStudies(studiesCode, coursesCode, semester) VALUES (7, 'F18L1S026', 2);\n",
    "INSERT INTO MandatoryCourseStudies(studiesCode, coursesCode, semester) VALUES (7, 'F18L1S016', 2);\n",
    "INSERT INTO MandatoryCourseStudies(studiesCode, coursesCode, semester) VALUES (7, '0', 2);\n",
    "INSERT INTO MandatoryCourseStudies(studiesCode, coursesCode, semester) VALUES (7, 'F18L2W001', 3);\n",
    "INSERT INTO MandatoryCourseStudies(studiesCode, coursesCode, semester) VALUES (7, 'F18L2W014', 3);\n",
    "INSERT INTO MandatoryCourseStudies(studiesCode, coursesCode, semester) VALUES (7, 'F18L2S017', 4);\n",
    "INSERT INTO MandatoryCourseStudies(studiesCode, coursesCode, semester) VALUES (7, 'F18L2S029', 4);\n",
    "INSERT INTO MandatoryCourseStudies(studiesCode, coursesCode, semester) VALUES (7, 'F18L3W004', 5);\n",
    "INSERT INTO MandatoryCourseStudies(studiesCode, coursesCode, semester) VALUES (7, 'F18L3W024', 5);\n",
    "INSERT INTO MandatoryCourseStudies(studiesCode, coursesCode, semester) VALUES (7, 'F18L3S010', 6);\n",
    "INSERT INTO MandatoryCourseStudies(studiesCode, coursesCode, semester) VALUES (7, '1', 6);\n",
    "\n",
    "INSERT INTO MandatoryCourseStudies(studiesCode, coursesCode, semester) VALUES (8, 'F18L1W005', 1);\n",
    "INSERT INTO MandatoryCourseStudies(studiesCode, coursesCode, semester) VALUES (8, 'F18L1W007', 1);\n",
    "INSERT INTO MandatoryCourseStudies(studiesCode, coursesCode, semester) VALUES (8, 'F18L1W011', 1);\n",
    "INSERT INTO MandatoryCourseStudies(studiesCode, coursesCode, semester) VALUES (8, 'F18L1W018', 1);\n",
    "INSERT INTO MandatoryCourseStudies(studiesCode, coursesCode, semester) VALUES (8, 'F18L1W020', 1);\n",
    "INSERT INTO MandatoryCourseStudies(studiesCode, coursesCode, semester) VALUES (8, 'F18L1S003', 2);\n",
    "INSERT INTO MandatoryCourseStudies(studiesCode, coursesCode, semester) VALUES (8, 'F18L1S023', 2);\n",
    "INSERT INTO MandatoryCourseStudies(studiesCode, coursesCode, semester) VALUES (8, 'F18L1S026', 2);\n",
    "INSERT INTO MandatoryCourseStudies(studiesCode, coursesCode, semester) VALUES (8, 'F18L1S016', 2);\n",
    "INSERT INTO MandatoryCourseStudies(studiesCode, coursesCode, semester) VALUES (8, '0', 2);\n",
    "INSERT INTO MandatoryCourseStudies(studiesCode, coursesCode, semester) VALUES (8, 'F18L2W001', 3);\n",
    "INSERT INTO MandatoryCourseStudies(studiesCode, coursesCode, semester) VALUES (8, 'F18L2W014', 3);\n",
    "INSERT INTO MandatoryCourseStudies(studiesCode, coursesCode, semester) VALUES (8, 'F18L2S017', 4);\n",
    "INSERT INTO MandatoryCourseStudies(studiesCode, coursesCode, semester) VALUES (8, 'F18L2S029', 4);\n",
    "INSERT INTO MandatoryCourseStudies(studiesCode, coursesCode, semester) VALUES (8, 'F18L3W004', 5);\n",
    "INSERT INTO MandatoryCourseStudies(studiesCode, coursesCode, semester) VALUES (8, 'F18L3W024', 5);\n",
    "INSERT INTO MandatoryCourseStudies(studiesCode, coursesCode, semester) VALUES (8, 'F18L3W008', 5);\n",
    "INSERT INTO MandatoryCourseStudies(studiesCode, coursesCode, semester) VALUES (8, 'F18L3S010', 6);\n",
    "INSERT INTO MandatoryCourseStudies(studiesCode, coursesCode, semester) VALUES (8, 'F18L3S025', 6);\n",
    "INSERT INTO MandatoryCourseStudies(studiesCode, coursesCode, semester) VALUES (8, 'F18L3W027', 7);\n",
    "INSERT INTO MandatoryCourseStudies(studiesCode, coursesCode, semester) VALUES (8, 'F18L3W021', 7);\n",
    "INSERT INTO MandatoryCourseStudies(studiesCode, coursesCode, semester) VALUES (8, '1', 8);\n",
    "INSERT INTO MandatoryCourseStudies(studiesCode, coursesCode, semester) VALUES (8, 'F18L3S028', 8);\n",
    "INSERT INTO MandatoryCourseStudies(studiesCode, coursesCode, semester) VALUES (8, 'F18L3S022', 8);\n",
    "\n",
    "INSERT INTO MandatoryCourseStudies(studiesCode, coursesCode, semester) VALUES (9, 'F18L1W005', 1);\n",
    "INSERT INTO MandatoryCourseStudies(studiesCode, coursesCode, semester) VALUES (9, 'F18L1W007', 1);\n",
    "INSERT INTO MandatoryCourseStudies(studiesCode, coursesCode, semester) VALUES (9, 'F18L1S013', 1);\n",
    "INSERT INTO MandatoryCourseStudies(studiesCode, coursesCode, semester) VALUES (9, 'F18L1W018', 1);\n",
    "INSERT INTO MandatoryCourseStudies(studiesCode, coursesCode, semester) VALUES (9, 'F18L1W020', 1);\n",
    "INSERT INTO MandatoryCourseStudies(studiesCode, coursesCode, semester) VALUES (9, 'F18L1S003', 2);\n",
    "INSERT INTO MandatoryCourseStudies(studiesCode, coursesCode, semester) VALUES (9, 'F18L1W011', 2);\n",
    "INSERT INTO MandatoryCourseStudies(studiesCode, coursesCode, semester) VALUES (9, 'F18L1S015', 2);\n",
    "INSERT INTO MandatoryCourseStudies(studiesCode, coursesCode, semester) VALUES (9, 'F18L1S016', 2);\n",
    "INSERT INTO MandatoryCourseStudies(studiesCode, coursesCode, semester) VALUES (9, '0', 2);\n",
    "INSERT INTO MandatoryCourseStudies(studiesCode, coursesCode, semester) VALUES (9, 'F18L2W001', 3);\n",
    "INSERT INTO MandatoryCourseStudies(studiesCode, coursesCode, semester) VALUES (9, 'F18L2W006', 3);\n",
    "INSERT INTO MandatoryCourseStudies(studiesCode, coursesCode, semester) VALUES (9, 'F18L2W014', 3);\n",
    "INSERT INTO MandatoryCourseStudies(studiesCode, coursesCode, semester) VALUES (9, 'F18L2S002', 4);\n",
    "INSERT INTO MandatoryCourseStudies(studiesCode, coursesCode, semester) VALUES (9, 'F18L2S017', 4);\n",
    "INSERT INTO MandatoryCourseStudies(studiesCode, coursesCode, semester) VALUES (9, 'F18L3W004', 5);\n",
    "INSERT INTO MandatoryCourseStudies(studiesCode, coursesCode, semester) VALUES (9, 'F18L3W009', 5);\n",
    "INSERT INTO MandatoryCourseStudies(studiesCode, coursesCode, semester) VALUES (9, 'F18L3S019', 6);\n",
    "INSERT INTO MandatoryCourseStudies(studiesCode, coursesCode, semester) VALUES (9, '1', 6);\n",
    "\n",
    "INSERT INTO MandatoryCourseStudies(studiesCode, coursesCode, semester) VALUES (10, 'F18L1W005', 1);\n",
    "INSERT INTO MandatoryCourseStudies(studiesCode, coursesCode, semester) VALUES (10, 'F18L1W007', 1);\n",
    "INSERT INTO MandatoryCourseStudies(studiesCode, coursesCode, semester) VALUES (10, 'F18L1S013', 1);\n",
    "INSERT INTO MandatoryCourseStudies(studiesCode, coursesCode, semester) VALUES (10, 'F18L1W018', 1);\n",
    "INSERT INTO MandatoryCourseStudies(studiesCode, coursesCode, semester) VALUES (10, 'F18L1W020', 1);\n",
    "INSERT INTO MandatoryCourseStudies(studiesCode, coursesCode, semester) VALUES (10, 'F18L1S003', 2);\n",
    "INSERT INTO MandatoryCourseStudies(studiesCode, coursesCode, semester) VALUES (10, 'F18L1W011', 2);\n",
    "INSERT INTO MandatoryCourseStudies(studiesCode, coursesCode, semester) VALUES (10, 'F18L1S015', 2);\n",
    "INSERT INTO MandatoryCourseStudies(studiesCode, coursesCode, semester) VALUES (10, 'F18L1S016', 2);\n",
    "INSERT INTO MandatoryCourseStudies(studiesCode, coursesCode, semester) VALUES (10, '0', 2);\n",
    "INSERT INTO MandatoryCourseStudies(studiesCode, coursesCode, semester) VALUES (10, 'F18L2W001', 3);\n",
    "INSERT INTO MandatoryCourseStudies(studiesCode, coursesCode, semester) VALUES (10, 'F18L2W006', 3);\n",
    "INSERT INTO MandatoryCourseStudies(studiesCode, coursesCode, semester) VALUES (10, 'F18L2W014', 3);\n",
    "INSERT INTO MandatoryCourseStudies(studiesCode, coursesCode, semester) VALUES (10, 'F18L2S002', 4);\n",
    "INSERT INTO MandatoryCourseStudies(studiesCode, coursesCode, semester) VALUES (10, 'F18L2S017', 4);\n",
    "INSERT INTO MandatoryCourseStudies(studiesCode, coursesCode, semester) VALUES (10, 'F18L3W004', 5);\n",
    "INSERT INTO MandatoryCourseStudies(studiesCode, coursesCode, semester) VALUES (10, 'F18L3W008', 5);\n",
    "INSERT INTO MandatoryCourseStudies(studiesCode, coursesCode, semester) VALUES (10, 'F18L3W009', 5);\n",
    "INSERT INTO MandatoryCourseStudies(studiesCode, coursesCode, semester) VALUES (10, 'F18L3S010', 6);\n",
    "INSERT INTO MandatoryCourseStudies(studiesCode, coursesCode, semester) VALUES (10, 'F18L3S012', 6);\n",
    "INSERT INTO MandatoryCourseStudies(studiesCode, coursesCode, semester) VALUES (10, 'F18L3S019', 6);\n",
    "INSERT INTO MandatoryCourseStudies(studiesCode, coursesCode, semester) VALUES (10, 'F18L3W021', 7);\n",
    "INSERT INTO MandatoryCourseStudies(studiesCode, coursesCode, semester) VALUES (10, 'F18L3S022', 8);\n",
    "INSERT INTO MandatoryCourseStudies(studiesCode, coursesCode, semester) VALUES (10, '1', 8);\n",
    "\n",
    "INSERT INTO MandatoryCourseStudies(studiesCode, coursesCode, semester) VALUES (11, 'F18L1W005', 1);\n",
    "INSERT INTO MandatoryCourseStudies(studiesCode, coursesCode, semester) VALUES (11, 'F18L1W007', 1);\n",
    "INSERT INTO MandatoryCourseStudies(studiesCode, coursesCode, semester) VALUES (11, 'F18L1S013', 1);\n",
    "INSERT INTO MandatoryCourseStudies(studiesCode, coursesCode, semester) VALUES (11, 'F18L1W018', 1);\n",
    "INSERT INTO MandatoryCourseStudies(studiesCode, coursesCode, semester) VALUES (11, 'F18L1W020', 1);\n",
    "INSERT INTO MandatoryCourseStudies(studiesCode, coursesCode, semester) VALUES (11, 'F18L1S003', 2);\n",
    "INSERT INTO MandatoryCourseStudies(studiesCode, coursesCode, semester) VALUES (11, 'F18L1W011', 2);\n",
    "INSERT INTO MandatoryCourseStudies(studiesCode, coursesCode, semester) VALUES (11, 'F18L1S015', 2);\n",
    "INSERT INTO MandatoryCourseStudies(studiesCode, coursesCode, semester) VALUES (11, 'F18L1S016', 2);\n",
    "INSERT INTO MandatoryCourseStudies(studiesCode, coursesCode, semester) VALUES (11, '0', 2);\n",
    "INSERT INTO MandatoryCourseStudies(studiesCode, coursesCode, semester) VALUES (11, 'F18L2W001', 3);\n",
    "INSERT INTO MandatoryCourseStudies(studiesCode, coursesCode, semester) VALUES (11, 'F18L2W006', 3);\n",
    "INSERT INTO MandatoryCourseStudies(studiesCode, coursesCode, semester) VALUES (11, 'F18L2W014', 3);\n",
    "INSERT INTO MandatoryCourseStudies(studiesCode, coursesCode, semester) VALUES (11, 'F18L2S002', 4);\n",
    "INSERT INTO MandatoryCourseStudies(studiesCode, coursesCode, semester) VALUES (11, 'F18L2S017', 4);\n",
    "INSERT INTO MandatoryCourseStudies(studiesCode, coursesCode, semester) VALUES (11, 'F18L3W004', 5);\n",
    "INSERT INTO MandatoryCourseStudies(studiesCode, coursesCode, semester) VALUES (11, 'F18L3W009', 5);\n",
    "INSERT INTO MandatoryCourseStudies(studiesCode, coursesCode, semester) VALUES (11, 'F18L3S019', 6);\n",
    "INSERT INTO MandatoryCourseStudies(studiesCode, coursesCode, semester) VALUES (11, '1', 6);\n",
    "\n",
    "INSERT INTO MandatoryCourseStudies(studiesCode, coursesCode, semester) VALUES (12, 'F18L1W005', 1);\n",
    "INSERT INTO MandatoryCourseStudies(studiesCode, coursesCode, semester) VALUES (12, 'F18L1W007', 1);\n",
    "INSERT INTO MandatoryCourseStudies(studiesCode, coursesCode, semester) VALUES (12, 'F18L1S013', 1);\n",
    "INSERT INTO MandatoryCourseStudies(studiesCode, coursesCode, semester) VALUES (12, 'F18L1W018', 1);\n",
    "INSERT INTO MandatoryCourseStudies(studiesCode, coursesCode, semester) VALUES (12, 'F18L1W020', 1);\n",
    "INSERT INTO MandatoryCourseStudies(studiesCode, coursesCode, semester) VALUES (12, 'F18L1S003', 2);\n",
    "INSERT INTO MandatoryCourseStudies(studiesCode, coursesCode, semester) VALUES (12, 'F18L1W011', 2);\n",
    "INSERT INTO MandatoryCourseStudies(studiesCode, coursesCode, semester) VALUES (12, 'F18L1S015', 2);\n",
    "INSERT INTO MandatoryCourseStudies(studiesCode, coursesCode, semester) VALUES (12, 'F18L1S016', 2);\n",
    "INSERT INTO MandatoryCourseStudies(studiesCode, coursesCode, semester) VALUES (12, '0', 2);\n",
    "INSERT INTO MandatoryCourseStudies(studiesCode, coursesCode, semester) VALUES (12, 'F18L2W001', 3);\n",
    "INSERT INTO MandatoryCourseStudies(studiesCode, coursesCode, semester) VALUES (12, 'F18L2W006', 3);\n",
    "INSERT INTO MandatoryCourseStudies(studiesCode, coursesCode, semester) VALUES (12, 'F18L2W014', 3);\n",
    "INSERT INTO MandatoryCourseStudies(studiesCode, coursesCode, semester) VALUES (12, 'F18L2S002', 4);\n",
    "INSERT INTO MandatoryCourseStudies(studiesCode, coursesCode, semester) VALUES (12, 'F18L2S017', 4);\n",
    "INSERT INTO MandatoryCourseStudies(studiesCode, coursesCode, semester) VALUES (12, 'F18L3W004', 5);\n",
    "INSERT INTO MandatoryCourseStudies(studiesCode, coursesCode, semester) VALUES (12, 'F18L3W008', 5);\n",
    "INSERT INTO MandatoryCourseStudies(studiesCode, coursesCode, semester) VALUES (12, 'F18L3W009', 5);\n",
    "INSERT INTO MandatoryCourseStudies(studiesCode, coursesCode, semester) VALUES (12, 'F18L3S010', 6);\n",
    "INSERT INTO MandatoryCourseStudies(studiesCode, coursesCode, semester) VALUES (12, 'F18L3S012', 6);\n",
    "INSERT INTO MandatoryCourseStudies(studiesCode, coursesCode, semester) VALUES (12, 'F18L3S019', 6);\n",
    "INSERT INTO MandatoryCourseStudies(studiesCode, coursesCode, semester) VALUES (12, 'F18L3W021', 7);\n",
    "INSERT INTO MandatoryCourseStudies(studiesCode, coursesCode, semester) VALUES (12, 'F18L3S022', 8);\n",
    "INSERT INTO MandatoryCourseStudies(studiesCode, coursesCode, semester) VALUES (12, '1', 8);"
   ],
   "metadata": {
    "language": "sql",
    "azdata_cell_guid": "677c8c2c-5521-4bd3-a0f1-4d715c53dc81"
   },
   "outputs": [
    {
     "output_type": "display_data",
     "data": {
      "text/html": "(1 row affected)"
     },
     "metadata": {}
    },
    {
     "output_type": "display_data",
     "data": {
      "text/html": "(1 row affected)"
     },
     "metadata": {}
    },
    {
     "output_type": "display_data",
     "data": {
      "text/html": "(1 row affected)"
     },
     "metadata": {}
    },
    {
     "output_type": "display_data",
     "data": {
      "text/html": "(1 row affected)"
     },
     "metadata": {}
    },
    {
     "output_type": "display_data",
     "data": {
      "text/html": "(1 row affected)"
     },
     "metadata": {}
    },
    {
     "output_type": "display_data",
     "data": {
      "text/html": "(1 row affected)"
     },
     "metadata": {}
    },
    {
     "output_type": "display_data",
     "data": {
      "text/html": "(1 row affected)"
     },
     "metadata": {}
    },
    {
     "output_type": "display_data",
     "data": {
      "text/html": "(1 row affected)"
     },
     "metadata": {}
    },
    {
     "output_type": "display_data",
     "data": {
      "text/html": "(1 row affected)"
     },
     "metadata": {}
    },
    {
     "output_type": "display_data",
     "data": {
      "text/html": "(1 row affected)"
     },
     "metadata": {}
    },
    {
     "output_type": "display_data",
     "data": {
      "text/html": "(1 row affected)"
     },
     "metadata": {}
    },
    {
     "output_type": "display_data",
     "data": {
      "text/html": "(1 row affected)"
     },
     "metadata": {}
    },
    {
     "output_type": "display_data",
     "data": {
      "text/html": "(1 row affected)"
     },
     "metadata": {}
    },
    {
     "output_type": "display_data",
     "data": {
      "text/html": "(1 row affected)"
     },
     "metadata": {}
    },
    {
     "output_type": "display_data",
     "data": {
      "text/html": "(1 row affected)"
     },
     "metadata": {}
    },
    {
     "output_type": "display_data",
     "data": {
      "text/html": "(1 row affected)"
     },
     "metadata": {}
    },
    {
     "output_type": "display_data",
     "data": {
      "text/html": "(1 row affected)"
     },
     "metadata": {}
    },
    {
     "output_type": "display_data",
     "data": {
      "text/html": "(1 row affected)"
     },
     "metadata": {}
    },
    {
     "output_type": "display_data",
     "data": {
      "text/html": "(1 row affected)"
     },
     "metadata": {}
    },
    {
     "output_type": "display_data",
     "data": {
      "text/html": "(1 row affected)"
     },
     "metadata": {}
    },
    {
     "output_type": "display_data",
     "data": {
      "text/html": "(1 row affected)"
     },
     "metadata": {}
    },
    {
     "output_type": "display_data",
     "data": {
      "text/html": "(1 row affected)"
     },
     "metadata": {}
    },
    {
     "output_type": "display_data",
     "data": {
      "text/html": "(1 row affected)"
     },
     "metadata": {}
    },
    {
     "output_type": "display_data",
     "data": {
      "text/html": "(1 row affected)"
     },
     "metadata": {}
    },
    {
     "output_type": "display_data",
     "data": {
      "text/html": "(1 row affected)"
     },
     "metadata": {}
    },
    {
     "output_type": "display_data",
     "data": {
      "text/html": "(1 row affected)"
     },
     "metadata": {}
    },
    {
     "output_type": "display_data",
     "data": {
      "text/html": "(1 row affected)"
     },
     "metadata": {}
    },
    {
     "output_type": "display_data",
     "data": {
      "text/html": "(1 row affected)"
     },
     "metadata": {}
    },
    {
     "output_type": "display_data",
     "data": {
      "text/html": "(1 row affected)"
     },
     "metadata": {}
    },
    {
     "output_type": "display_data",
     "data": {
      "text/html": "(1 row affected)"
     },
     "metadata": {}
    },
    {
     "output_type": "display_data",
     "data": {
      "text/html": "(1 row affected)"
     },
     "metadata": {}
    },
    {
     "output_type": "display_data",
     "data": {
      "text/html": "(1 row affected)"
     },
     "metadata": {}
    },
    {
     "output_type": "display_data",
     "data": {
      "text/html": "(1 row affected)"
     },
     "metadata": {}
    },
    {
     "output_type": "display_data",
     "data": {
      "text/html": "(1 row affected)"
     },
     "metadata": {}
    },
    {
     "output_type": "display_data",
     "data": {
      "text/html": "(1 row affected)"
     },
     "metadata": {}
    },
    {
     "output_type": "display_data",
     "data": {
      "text/html": "(1 row affected)"
     },
     "metadata": {}
    },
    {
     "output_type": "display_data",
     "data": {
      "text/html": "(1 row affected)"
     },
     "metadata": {}
    },
    {
     "output_type": "display_data",
     "data": {
      "text/html": "(1 row affected)"
     },
     "metadata": {}
    },
    {
     "output_type": "display_data",
     "data": {
      "text/html": "(1 row affected)"
     },
     "metadata": {}
    },
    {
     "output_type": "display_data",
     "data": {
      "text/html": "(1 row affected)"
     },
     "metadata": {}
    },
    {
     "output_type": "display_data",
     "data": {
      "text/html": "(1 row affected)"
     },
     "metadata": {}
    },
    {
     "output_type": "display_data",
     "data": {
      "text/html": "(1 row affected)"
     },
     "metadata": {}
    },
    {
     "output_type": "display_data",
     "data": {
      "text/html": "(1 row affected)"
     },
     "metadata": {}
    },
    {
     "output_type": "display_data",
     "data": {
      "text/html": "(1 row affected)"
     },
     "metadata": {}
    },
    {
     "output_type": "display_data",
     "data": {
      "text/html": "(1 row affected)"
     },
     "metadata": {}
    },
    {
     "output_type": "display_data",
     "data": {
      "text/html": "(1 row affected)"
     },
     "metadata": {}
    },
    {
     "output_type": "display_data",
     "data": {
      "text/html": "(1 row affected)"
     },
     "metadata": {}
    },
    {
     "output_type": "display_data",
     "data": {
      "text/html": "(1 row affected)"
     },
     "metadata": {}
    },
    {
     "output_type": "display_data",
     "data": {
      "text/html": "(1 row affected)"
     },
     "metadata": {}
    },
    {
     "output_type": "display_data",
     "data": {
      "text/html": "(1 row affected)"
     },
     "metadata": {}
    },
    {
     "output_type": "display_data",
     "data": {
      "text/html": "(1 row affected)"
     },
     "metadata": {}
    },
    {
     "output_type": "display_data",
     "data": {
      "text/html": "(1 row affected)"
     },
     "metadata": {}
    },
    {
     "output_type": "display_data",
     "data": {
      "text/html": "(1 row affected)"
     },
     "metadata": {}
    },
    {
     "output_type": "display_data",
     "data": {
      "text/html": "(1 row affected)"
     },
     "metadata": {}
    },
    {
     "output_type": "display_data",
     "data": {
      "text/html": "(1 row affected)"
     },
     "metadata": {}
    },
    {
     "output_type": "display_data",
     "data": {
      "text/html": "(1 row affected)"
     },
     "metadata": {}
    },
    {
     "output_type": "display_data",
     "data": {
      "text/html": "(1 row affected)"
     },
     "metadata": {}
    },
    {
     "output_type": "display_data",
     "data": {
      "text/html": "(1 row affected)"
     },
     "metadata": {}
    },
    {
     "output_type": "display_data",
     "data": {
      "text/html": "(1 row affected)"
     },
     "metadata": {}
    },
    {
     "output_type": "display_data",
     "data": {
      "text/html": "(1 row affected)"
     },
     "metadata": {}
    },
    {
     "output_type": "display_data",
     "data": {
      "text/html": "(1 row affected)"
     },
     "metadata": {}
    },
    {
     "output_type": "display_data",
     "data": {
      "text/html": "(1 row affected)"
     },
     "metadata": {}
    },
    {
     "output_type": "display_data",
     "data": {
      "text/html": "(1 row affected)"
     },
     "metadata": {}
    },
    {
     "output_type": "display_data",
     "data": {
      "text/html": "(1 row affected)"
     },
     "metadata": {}
    },
    {
     "output_type": "display_data",
     "data": {
      "text/html": "(1 row affected)"
     },
     "metadata": {}
    },
    {
     "output_type": "display_data",
     "data": {
      "text/html": "(1 row affected)"
     },
     "metadata": {}
    },
    {
     "output_type": "display_data",
     "data": {
      "text/html": "(1 row affected)"
     },
     "metadata": {}
    },
    {
     "output_type": "display_data",
     "data": {
      "text/html": "(1 row affected)"
     },
     "metadata": {}
    },
    {
     "output_type": "display_data",
     "data": {
      "text/html": "(1 row affected)"
     },
     "metadata": {}
    },
    {
     "output_type": "display_data",
     "data": {
      "text/html": "(1 row affected)"
     },
     "metadata": {}
    },
    {
     "output_type": "display_data",
     "data": {
      "text/html": "(1 row affected)"
     },
     "metadata": {}
    },
    {
     "output_type": "display_data",
     "data": {
      "text/html": "(1 row affected)"
     },
     "metadata": {}
    },
    {
     "output_type": "display_data",
     "data": {
      "text/html": "(1 row affected)"
     },
     "metadata": {}
    },
    {
     "output_type": "display_data",
     "data": {
      "text/html": "(1 row affected)"
     },
     "metadata": {}
    },
    {
     "output_type": "display_data",
     "data": {
      "text/html": "(1 row affected)"
     },
     "metadata": {}
    },
    {
     "output_type": "display_data",
     "data": {
      "text/html": "(1 row affected)"
     },
     "metadata": {}
    },
    {
     "output_type": "display_data",
     "data": {
      "text/html": "(1 row affected)"
     },
     "metadata": {}
    },
    {
     "output_type": "display_data",
     "data": {
      "text/html": "(1 row affected)"
     },
     "metadata": {}
    },
    {
     "output_type": "display_data",
     "data": {
      "text/html": "(1 row affected)"
     },
     "metadata": {}
    },
    {
     "output_type": "display_data",
     "data": {
      "text/html": "(1 row affected)"
     },
     "metadata": {}
    },
    {
     "output_type": "display_data",
     "data": {
      "text/html": "(1 row affected)"
     },
     "metadata": {}
    },
    {
     "output_type": "display_data",
     "data": {
      "text/html": "(1 row affected)"
     },
     "metadata": {}
    },
    {
     "output_type": "display_data",
     "data": {
      "text/html": "(1 row affected)"
     },
     "metadata": {}
    },
    {
     "output_type": "display_data",
     "data": {
      "text/html": "(1 row affected)"
     },
     "metadata": {}
    },
    {
     "output_type": "display_data",
     "data": {
      "text/html": "(1 row affected)"
     },
     "metadata": {}
    },
    {
     "output_type": "display_data",
     "data": {
      "text/html": "(1 row affected)"
     },
     "metadata": {}
    },
    {
     "output_type": "display_data",
     "data": {
      "text/html": "(1 row affected)"
     },
     "metadata": {}
    },
    {
     "output_type": "display_data",
     "data": {
      "text/html": "(1 row affected)"
     },
     "metadata": {}
    },
    {
     "output_type": "display_data",
     "data": {
      "text/html": "(1 row affected)"
     },
     "metadata": {}
    },
    {
     "output_type": "display_data",
     "data": {
      "text/html": "(1 row affected)"
     },
     "metadata": {}
    },
    {
     "output_type": "display_data",
     "data": {
      "text/html": "(1 row affected)"
     },
     "metadata": {}
    },
    {
     "output_type": "display_data",
     "data": {
      "text/html": "(1 row affected)"
     },
     "metadata": {}
    },
    {
     "output_type": "display_data",
     "data": {
      "text/html": "(1 row affected)"
     },
     "metadata": {}
    },
    {
     "output_type": "display_data",
     "data": {
      "text/html": "(1 row affected)"
     },
     "metadata": {}
    },
    {
     "output_type": "display_data",
     "data": {
      "text/html": "(1 row affected)"
     },
     "metadata": {}
    },
    {
     "output_type": "display_data",
     "data": {
      "text/html": "(1 row affected)"
     },
     "metadata": {}
    },
    {
     "output_type": "display_data",
     "data": {
      "text/html": "(1 row affected)"
     },
     "metadata": {}
    },
    {
     "output_type": "display_data",
     "data": {
      "text/html": "(1 row affected)"
     },
     "metadata": {}
    },
    {
     "output_type": "display_data",
     "data": {
      "text/html": "(1 row affected)"
     },
     "metadata": {}
    },
    {
     "output_type": "display_data",
     "data": {
      "text/html": "(1 row affected)"
     },
     "metadata": {}
    },
    {
     "output_type": "display_data",
     "data": {
      "text/html": "(1 row affected)"
     },
     "metadata": {}
    },
    {
     "output_type": "display_data",
     "data": {
      "text/html": "(1 row affected)"
     },
     "metadata": {}
    },
    {
     "output_type": "display_data",
     "data": {
      "text/html": "(1 row affected)"
     },
     "metadata": {}
    },
    {
     "output_type": "display_data",
     "data": {
      "text/html": "(1 row affected)"
     },
     "metadata": {}
    },
    {
     "output_type": "display_data",
     "data": {
      "text/html": "(1 row affected)"
     },
     "metadata": {}
    },
    {
     "output_type": "display_data",
     "data": {
      "text/html": "(1 row affected)"
     },
     "metadata": {}
    },
    {
     "output_type": "display_data",
     "data": {
      "text/html": "(1 row affected)"
     },
     "metadata": {}
    },
    {
     "output_type": "display_data",
     "data": {
      "text/html": "(1 row affected)"
     },
     "metadata": {}
    },
    {
     "output_type": "display_data",
     "data": {
      "text/html": "(1 row affected)"
     },
     "metadata": {}
    },
    {
     "output_type": "display_data",
     "data": {
      "text/html": "(1 row affected)"
     },
     "metadata": {}
    },
    {
     "output_type": "display_data",
     "data": {
      "text/html": "(1 row affected)"
     },
     "metadata": {}
    },
    {
     "output_type": "display_data",
     "data": {
      "text/html": "(1 row affected)"
     },
     "metadata": {}
    },
    {
     "output_type": "display_data",
     "data": {
      "text/html": "(1 row affected)"
     },
     "metadata": {}
    },
    {
     "output_type": "display_data",
     "data": {
      "text/html": "(1 row affected)"
     },
     "metadata": {}
    },
    {
     "output_type": "display_data",
     "data": {
      "text/html": "(1 row affected)"
     },
     "metadata": {}
    },
    {
     "output_type": "display_data",
     "data": {
      "text/html": "(1 row affected)"
     },
     "metadata": {}
    },
    {
     "output_type": "display_data",
     "data": {
      "text/html": "(1 row affected)"
     },
     "metadata": {}
    },
    {
     "output_type": "display_data",
     "data": {
      "text/html": "(1 row affected)"
     },
     "metadata": {}
    },
    {
     "output_type": "display_data",
     "data": {
      "text/html": "(1 row affected)"
     },
     "metadata": {}
    },
    {
     "output_type": "display_data",
     "data": {
      "text/html": "(1 row affected)"
     },
     "metadata": {}
    },
    {
     "output_type": "display_data",
     "data": {
      "text/html": "(1 row affected)"
     },
     "metadata": {}
    },
    {
     "output_type": "display_data",
     "data": {
      "text/html": "(1 row affected)"
     },
     "metadata": {}
    },
    {
     "output_type": "display_data",
     "data": {
      "text/html": "(1 row affected)"
     },
     "metadata": {}
    },
    {
     "output_type": "display_data",
     "data": {
      "text/html": "(1 row affected)"
     },
     "metadata": {}
    },
    {
     "output_type": "display_data",
     "data": {
      "text/html": "(1 row affected)"
     },
     "metadata": {}
    },
    {
     "output_type": "display_data",
     "data": {
      "text/html": "(1 row affected)"
     },
     "metadata": {}
    },
    {
     "output_type": "display_data",
     "data": {
      "text/html": "(1 row affected)"
     },
     "metadata": {}
    },
    {
     "output_type": "display_data",
     "data": {
      "text/html": "(1 row affected)"
     },
     "metadata": {}
    },
    {
     "output_type": "display_data",
     "data": {
      "text/html": "(1 row affected)"
     },
     "metadata": {}
    },
    {
     "output_type": "display_data",
     "data": {
      "text/html": "(1 row affected)"
     },
     "metadata": {}
    },
    {
     "output_type": "display_data",
     "data": {
      "text/html": "(1 row affected)"
     },
     "metadata": {}
    },
    {
     "output_type": "display_data",
     "data": {
      "text/html": "(1 row affected)"
     },
     "metadata": {}
    },
    {
     "output_type": "display_data",
     "data": {
      "text/html": "(1 row affected)"
     },
     "metadata": {}
    },
    {
     "output_type": "display_data",
     "data": {
      "text/html": "(1 row affected)"
     },
     "metadata": {}
    },
    {
     "output_type": "display_data",
     "data": {
      "text/html": "(1 row affected)"
     },
     "metadata": {}
    },
    {
     "output_type": "display_data",
     "data": {
      "text/html": "(1 row affected)"
     },
     "metadata": {}
    },
    {
     "output_type": "display_data",
     "data": {
      "text/html": "(1 row affected)"
     },
     "metadata": {}
    },
    {
     "output_type": "display_data",
     "data": {
      "text/html": "(1 row affected)"
     },
     "metadata": {}
    },
    {
     "output_type": "display_data",
     "data": {
      "text/html": "(1 row affected)"
     },
     "metadata": {}
    },
    {
     "output_type": "display_data",
     "data": {
      "text/html": "(1 row affected)"
     },
     "metadata": {}
    },
    {
     "output_type": "display_data",
     "data": {
      "text/html": "(1 row affected)"
     },
     "metadata": {}
    },
    {
     "output_type": "display_data",
     "data": {
      "text/html": "(1 row affected)"
     },
     "metadata": {}
    },
    {
     "output_type": "display_data",
     "data": {
      "text/html": "(1 row affected)"
     },
     "metadata": {}
    },
    {
     "output_type": "display_data",
     "data": {
      "text/html": "(1 row affected)"
     },
     "metadata": {}
    },
    {
     "output_type": "display_data",
     "data": {
      "text/html": "(1 row affected)"
     },
     "metadata": {}
    },
    {
     "output_type": "display_data",
     "data": {
      "text/html": "(1 row affected)"
     },
     "metadata": {}
    },
    {
     "output_type": "display_data",
     "data": {
      "text/html": "(1 row affected)"
     },
     "metadata": {}
    },
    {
     "output_type": "display_data",
     "data": {
      "text/html": "(1 row affected)"
     },
     "metadata": {}
    },
    {
     "output_type": "display_data",
     "data": {
      "text/html": "(1 row affected)"
     },
     "metadata": {}
    },
    {
     "output_type": "display_data",
     "data": {
      "text/html": "(1 row affected)"
     },
     "metadata": {}
    },
    {
     "output_type": "display_data",
     "data": {
      "text/html": "(1 row affected)"
     },
     "metadata": {}
    },
    {
     "output_type": "display_data",
     "data": {
      "text/html": "(1 row affected)"
     },
     "metadata": {}
    },
    {
     "output_type": "display_data",
     "data": {
      "text/html": "(1 row affected)"
     },
     "metadata": {}
    },
    {
     "output_type": "display_data",
     "data": {
      "text/html": "(1 row affected)"
     },
     "metadata": {}
    },
    {
     "output_type": "display_data",
     "data": {
      "text/html": "(1 row affected)"
     },
     "metadata": {}
    },
    {
     "output_type": "display_data",
     "data": {
      "text/html": "(1 row affected)"
     },
     "metadata": {}
    },
    {
     "output_type": "display_data",
     "data": {
      "text/html": "(1 row affected)"
     },
     "metadata": {}
    },
    {
     "output_type": "display_data",
     "data": {
      "text/html": "(1 row affected)"
     },
     "metadata": {}
    },
    {
     "output_type": "display_data",
     "data": {
      "text/html": "(1 row affected)"
     },
     "metadata": {}
    },
    {
     "output_type": "display_data",
     "data": {
      "text/html": "(1 row affected)"
     },
     "metadata": {}
    },
    {
     "output_type": "display_data",
     "data": {
      "text/html": "(1 row affected)"
     },
     "metadata": {}
    },
    {
     "output_type": "display_data",
     "data": {
      "text/html": "(1 row affected)"
     },
     "metadata": {}
    },
    {
     "output_type": "display_data",
     "data": {
      "text/html": "(1 row affected)"
     },
     "metadata": {}
    },
    {
     "output_type": "display_data",
     "data": {
      "text/html": "(1 row affected)"
     },
     "metadata": {}
    },
    {
     "output_type": "display_data",
     "data": {
      "text/html": "(1 row affected)"
     },
     "metadata": {}
    },
    {
     "output_type": "display_data",
     "data": {
      "text/html": "(1 row affected)"
     },
     "metadata": {}
    },
    {
     "output_type": "display_data",
     "data": {
      "text/html": "(1 row affected)"
     },
     "metadata": {}
    },
    {
     "output_type": "display_data",
     "data": {
      "text/html": "(1 row affected)"
     },
     "metadata": {}
    },
    {
     "output_type": "display_data",
     "data": {
      "text/html": "(1 row affected)"
     },
     "metadata": {}
    },
    {
     "output_type": "display_data",
     "data": {
      "text/html": "(1 row affected)"
     },
     "metadata": {}
    },
    {
     "output_type": "display_data",
     "data": {
      "text/html": "(1 row affected)"
     },
     "metadata": {}
    },
    {
     "output_type": "display_data",
     "data": {
      "text/html": "(1 row affected)"
     },
     "metadata": {}
    },
    {
     "output_type": "display_data",
     "data": {
      "text/html": "(1 row affected)"
     },
     "metadata": {}
    },
    {
     "output_type": "display_data",
     "data": {
      "text/html": "(1 row affected)"
     },
     "metadata": {}
    },
    {
     "output_type": "display_data",
     "data": {
      "text/html": "(1 row affected)"
     },
     "metadata": {}
    },
    {
     "output_type": "display_data",
     "data": {
      "text/html": "(1 row affected)"
     },
     "metadata": {}
    },
    {
     "output_type": "display_data",
     "data": {
      "text/html": "(1 row affected)"
     },
     "metadata": {}
    },
    {
     "output_type": "display_data",
     "data": {
      "text/html": "(1 row affected)"
     },
     "metadata": {}
    },
    {
     "output_type": "display_data",
     "data": {
      "text/html": "(1 row affected)"
     },
     "metadata": {}
    },
    {
     "output_type": "display_data",
     "data": {
      "text/html": "(1 row affected)"
     },
     "metadata": {}
    },
    {
     "output_type": "display_data",
     "data": {
      "text/html": "(1 row affected)"
     },
     "metadata": {}
    },
    {
     "output_type": "display_data",
     "data": {
      "text/html": "(1 row affected)"
     },
     "metadata": {}
    },
    {
     "output_type": "display_data",
     "data": {
      "text/html": "(1 row affected)"
     },
     "metadata": {}
    },
    {
     "output_type": "display_data",
     "data": {
      "text/html": "(1 row affected)"
     },
     "metadata": {}
    },
    {
     "output_type": "display_data",
     "data": {
      "text/html": "(1 row affected)"
     },
     "metadata": {}
    },
    {
     "output_type": "display_data",
     "data": {
      "text/html": "(1 row affected)"
     },
     "metadata": {}
    },
    {
     "output_type": "display_data",
     "data": {
      "text/html": "(1 row affected)"
     },
     "metadata": {}
    },
    {
     "output_type": "display_data",
     "data": {
      "text/html": "(1 row affected)"
     },
     "metadata": {}
    },
    {
     "output_type": "display_data",
     "data": {
      "text/html": "(1 row affected)"
     },
     "metadata": {}
    },
    {
     "output_type": "display_data",
     "data": {
      "text/html": "(1 row affected)"
     },
     "metadata": {}
    },
    {
     "output_type": "display_data",
     "data": {
      "text/html": "(1 row affected)"
     },
     "metadata": {}
    },
    {
     "output_type": "display_data",
     "data": {
      "text/html": "(1 row affected)"
     },
     "metadata": {}
    },
    {
     "output_type": "display_data",
     "data": {
      "text/html": "(1 row affected)"
     },
     "metadata": {}
    },
    {
     "output_type": "display_data",
     "data": {
      "text/html": "(1 row affected)"
     },
     "metadata": {}
    },
    {
     "output_type": "display_data",
     "data": {
      "text/html": "(1 row affected)"
     },
     "metadata": {}
    },
    {
     "output_type": "display_data",
     "data": {
      "text/html": "(1 row affected)"
     },
     "metadata": {}
    },
    {
     "output_type": "display_data",
     "data": {
      "text/html": "(1 row affected)"
     },
     "metadata": {}
    },
    {
     "output_type": "display_data",
     "data": {
      "text/html": "(1 row affected)"
     },
     "metadata": {}
    },
    {
     "output_type": "display_data",
     "data": {
      "text/html": "(1 row affected)"
     },
     "metadata": {}
    },
    {
     "output_type": "display_data",
     "data": {
      "text/html": "(1 row affected)"
     },
     "metadata": {}
    },
    {
     "output_type": "display_data",
     "data": {
      "text/html": "(1 row affected)"
     },
     "metadata": {}
    },
    {
     "output_type": "display_data",
     "data": {
      "text/html": "(1 row affected)"
     },
     "metadata": {}
    },
    {
     "output_type": "display_data",
     "data": {
      "text/html": "(1 row affected)"
     },
     "metadata": {}
    },
    {
     "output_type": "display_data",
     "data": {
      "text/html": "(1 row affected)"
     },
     "metadata": {}
    },
    {
     "output_type": "display_data",
     "data": {
      "text/html": "(1 row affected)"
     },
     "metadata": {}
    },
    {
     "output_type": "display_data",
     "data": {
      "text/html": "(1 row affected)"
     },
     "metadata": {}
    },
    {
     "output_type": "display_data",
     "data": {
      "text/html": "(1 row affected)"
     },
     "metadata": {}
    },
    {
     "output_type": "display_data",
     "data": {
      "text/html": "(1 row affected)"
     },
     "metadata": {}
    },
    {
     "output_type": "display_data",
     "data": {
      "text/html": "(1 row affected)"
     },
     "metadata": {}
    },
    {
     "output_type": "display_data",
     "data": {
      "text/html": "(1 row affected)"
     },
     "metadata": {}
    },
    {
     "output_type": "display_data",
     "data": {
      "text/html": "(1 row affected)"
     },
     "metadata": {}
    },
    {
     "output_type": "display_data",
     "data": {
      "text/html": "(1 row affected)"
     },
     "metadata": {}
    },
    {
     "output_type": "display_data",
     "data": {
      "text/html": "(1 row affected)"
     },
     "metadata": {}
    },
    {
     "output_type": "display_data",
     "data": {
      "text/html": "(1 row affected)"
     },
     "metadata": {}
    },
    {
     "output_type": "display_data",
     "data": {
      "text/html": "(1 row affected)"
     },
     "metadata": {}
    },
    {
     "output_type": "display_data",
     "data": {
      "text/html": "(1 row affected)"
     },
     "metadata": {}
    },
    {
     "output_type": "display_data",
     "data": {
      "text/html": "(1 row affected)"
     },
     "metadata": {}
    },
    {
     "output_type": "display_data",
     "data": {
      "text/html": "(1 row affected)"
     },
     "metadata": {}
    },
    {
     "output_type": "display_data",
     "data": {
      "text/html": "(1 row affected)"
     },
     "metadata": {}
    },
    {
     "output_type": "display_data",
     "data": {
      "text/html": "(1 row affected)"
     },
     "metadata": {}
    },
    {
     "output_type": "display_data",
     "data": {
      "text/html": "(1 row affected)"
     },
     "metadata": {}
    },
    {
     "output_type": "display_data",
     "data": {
      "text/html": "(1 row affected)"
     },
     "metadata": {}
    },
    {
     "output_type": "display_data",
     "data": {
      "text/html": "(1 row affected)"
     },
     "metadata": {}
    },
    {
     "output_type": "display_data",
     "data": {
      "text/html": "(1 row affected)"
     },
     "metadata": {}
    },
    {
     "output_type": "display_data",
     "data": {
      "text/html": "(1 row affected)"
     },
     "metadata": {}
    },
    {
     "output_type": "display_data",
     "data": {
      "text/html": "(1 row affected)"
     },
     "metadata": {}
    },
    {
     "output_type": "display_data",
     "data": {
      "text/html": "(1 row affected)"
     },
     "metadata": {}
    },
    {
     "output_type": "display_data",
     "data": {
      "text/html": "(1 row affected)"
     },
     "metadata": {}
    },
    {
     "output_type": "display_data",
     "data": {
      "text/html": "(1 row affected)"
     },
     "metadata": {}
    },
    {
     "output_type": "display_data",
     "data": {
      "text/html": "(1 row affected)"
     },
     "metadata": {}
    },
    {
     "output_type": "display_data",
     "data": {
      "text/html": "(1 row affected)"
     },
     "metadata": {}
    },
    {
     "output_type": "display_data",
     "data": {
      "text/html": "(1 row affected)"
     },
     "metadata": {}
    },
    {
     "output_type": "display_data",
     "data": {
      "text/html": "(1 row affected)"
     },
     "metadata": {}
    },
    {
     "output_type": "display_data",
     "data": {
      "text/html": "(1 row affected)"
     },
     "metadata": {}
    },
    {
     "output_type": "display_data",
     "data": {
      "text/html": "(1 row affected)"
     },
     "metadata": {}
    },
    {
     "output_type": "display_data",
     "data": {
      "text/html": "(1 row affected)"
     },
     "metadata": {}
    },
    {
     "output_type": "display_data",
     "data": {
      "text/html": "(1 row affected)"
     },
     "metadata": {}
    },
    {
     "output_type": "display_data",
     "data": {
      "text/html": "(1 row affected)"
     },
     "metadata": {}
    },
    {
     "output_type": "display_data",
     "data": {
      "text/html": "(1 row affected)"
     },
     "metadata": {}
    },
    {
     "output_type": "display_data",
     "data": {
      "text/html": "(1 row affected)"
     },
     "metadata": {}
    },
    {
     "output_type": "display_data",
     "data": {
      "text/html": "(1 row affected)"
     },
     "metadata": {}
    },
    {
     "output_type": "display_data",
     "data": {
      "text/html": "(1 row affected)"
     },
     "metadata": {}
    },
    {
     "output_type": "display_data",
     "data": {
      "text/html": "(1 row affected)"
     },
     "metadata": {}
    },
    {
     "output_type": "display_data",
     "data": {
      "text/html": "(1 row affected)"
     },
     "metadata": {}
    },
    {
     "output_type": "display_data",
     "data": {
      "text/html": "(1 row affected)"
     },
     "metadata": {}
    },
    {
     "output_type": "display_data",
     "data": {
      "text/html": "(1 row affected)"
     },
     "metadata": {}
    },
    {
     "output_type": "display_data",
     "data": {
      "text/html": "(1 row affected)"
     },
     "metadata": {}
    },
    {
     "output_type": "display_data",
     "data": {
      "text/html": "(1 row affected)"
     },
     "metadata": {}
    },
    {
     "output_type": "display_data",
     "data": {
      "text/html": "(1 row affected)"
     },
     "metadata": {}
    },
    {
     "output_type": "display_data",
     "data": {
      "text/html": "(1 row affected)"
     },
     "metadata": {}
    },
    {
     "output_type": "display_data",
     "data": {
      "text/html": "(1 row affected)"
     },
     "metadata": {}
    },
    {
     "output_type": "display_data",
     "data": {
      "text/html": "(1 row affected)"
     },
     "metadata": {}
    },
    {
     "output_type": "display_data",
     "data": {
      "text/html": "(1 row affected)"
     },
     "metadata": {}
    },
    {
     "output_type": "display_data",
     "data": {
      "text/html": "(1 row affected)"
     },
     "metadata": {}
    },
    {
     "output_type": "display_data",
     "data": {
      "text/html": "(1 row affected)"
     },
     "metadata": {}
    },
    {
     "output_type": "display_data",
     "data": {
      "text/html": "(1 row affected)"
     },
     "metadata": {}
    },
    {
     "output_type": "display_data",
     "data": {
      "text/html": "(1 row affected)"
     },
     "metadata": {}
    },
    {
     "output_type": "display_data",
     "data": {
      "text/html": "(1 row affected)"
     },
     "metadata": {}
    },
    {
     "output_type": "display_data",
     "data": {
      "text/html": "(1 row affected)"
     },
     "metadata": {}
    },
    {
     "output_type": "display_data",
     "data": {
      "text/html": "(1 row affected)"
     },
     "metadata": {}
    },
    {
     "output_type": "display_data",
     "data": {
      "text/html": "(1 row affected)"
     },
     "metadata": {}
    },
    {
     "output_type": "display_data",
     "data": {
      "text/html": "(1 row affected)"
     },
     "metadata": {}
    },
    {
     "output_type": "display_data",
     "data": {
      "text/html": "(1 row affected)"
     },
     "metadata": {}
    },
    {
     "output_type": "display_data",
     "data": {
      "text/html": "(1 row affected)"
     },
     "metadata": {}
    },
    {
     "output_type": "display_data",
     "data": {
      "text/html": "(1 row affected)"
     },
     "metadata": {}
    },
    {
     "output_type": "display_data",
     "data": {
      "text/html": "(1 row affected)"
     },
     "metadata": {}
    },
    {
     "output_type": "display_data",
     "data": {
      "text/html": "(1 row affected)"
     },
     "metadata": {}
    },
    {
     "output_type": "display_data",
     "data": {
      "text/html": "(1 row affected)"
     },
     "metadata": {}
    },
    {
     "output_type": "display_data",
     "data": {
      "text/html": "(1 row affected)"
     },
     "metadata": {}
    },
    {
     "output_type": "display_data",
     "data": {
      "text/html": "(1 row affected)"
     },
     "metadata": {}
    },
    {
     "output_type": "display_data",
     "data": {
      "text/html": "(1 row affected)"
     },
     "metadata": {}
    },
    {
     "output_type": "display_data",
     "data": {
      "text/html": "(1 row affected)"
     },
     "metadata": {}
    },
    {
     "output_type": "display_data",
     "data": {
      "text/html": "(1 row affected)"
     },
     "metadata": {}
    },
    {
     "output_type": "display_data",
     "data": {
      "text/html": "(1 row affected)"
     },
     "metadata": {}
    },
    {
     "output_type": "display_data",
     "data": {
      "text/html": "(1 row affected)"
     },
     "metadata": {}
    },
    {
     "output_type": "display_data",
     "data": {
      "text/html": "(1 row affected)"
     },
     "metadata": {}
    },
    {
     "output_type": "display_data",
     "data": {
      "text/html": "(1 row affected)"
     },
     "metadata": {}
    },
    {
     "output_type": "display_data",
     "data": {
      "text/html": "(1 row affected)"
     },
     "metadata": {}
    },
    {
     "output_type": "display_data",
     "data": {
      "text/html": "(1 row affected)"
     },
     "metadata": {}
    },
    {
     "output_type": "display_data",
     "data": {
      "text/html": "(1 row affected)"
     },
     "metadata": {}
    },
    {
     "output_type": "display_data",
     "data": {
      "text/html": "(1 row affected)"
     },
     "metadata": {}
    },
    {
     "output_type": "display_data",
     "data": {
      "text/html": "(1 row affected)"
     },
     "metadata": {}
    },
    {
     "output_type": "display_data",
     "data": {
      "text/html": "Total execution time: 00:00:00.208"
     },
     "metadata": {}
    }
   ],
   "execution_count": 79
  },
  {
   "cell_type": "code",
   "source": [
    "INSERT INTO CourseProfessors(coursesCode, profCode) VALUES ('F18L1W005', 36);\n",
    "INSERT INTO CourseProfessors(coursesCode, profCode) VALUES ('F18L1W005', 28);\n",
    "INSERT INTO CourseProfessors(coursesCode, profCode) VALUES ('F18L1W007', 3);\n",
    "INSERT INTO CourseProfessors(coursesCode, profCode) VALUES ('F18L1W007', 2);\n",
    "INSERT INTO CourseProfessors(coursesCode, profCode) VALUES ('F18L1W007', 4);\n",
    "INSERT INTO CourseProfessors(coursesCode, profCode) VALUES ('F18L1W007', 32);\n",
    "INSERT INTO CourseProfessors(coursesCode, profCode) VALUES ('F18L1W007', 45);\n",
    "INSERT INTO CourseProfessors(coursesCode, profCode) VALUES ('F18L1W007', 30);\n",
    "INSERT INTO CourseProfessors(coursesCode, profCode) VALUES ('F18L1W007', 43);\n",
    "INSERT INTO CourseProfessors(coursesCode, profCode) VALUES ('F18L1S013', 5);\n",
    "INSERT INTO CourseProfessors(coursesCode, profCode) VALUES ('F18L1S013', 21);\n",
    "INSERT INTO CourseProfessors(coursesCode, profCode) VALUES ('F18L1S013', 30);\n",
    "INSERT INTO CourseProfessors(coursesCode, profCode) VALUES ('F18L1S013', 39);\n",
    "INSERT INTO CourseProfessors(coursesCode, profCode) VALUES ('F18L1S013', 38);\n",
    "INSERT INTO CourseProfessors(coursesCode, profCode) VALUES ('F18L1S013', 40);\n",
    "INSERT INTO CourseProfessors(coursesCode, profCode) VALUES ('F18L1W018', 19);\n",
    "INSERT INTO CourseProfessors(coursesCode, profCode) VALUES ('F18L1W018', 36);\n",
    "INSERT INTO CourseProfessors(coursesCode, profCode) VALUES ('F18L1W018', 32);\n",
    "INSERT INTO CourseProfessors(coursesCode, profCode) VALUES ('F18L1W018', 42);\n",
    "INSERT INTO CourseProfessors(coursesCode, profCode) VALUES ('F18L1W018', 30);\n",
    "INSERT INTO CourseProfessors(coursesCode, profCode) VALUES ('F18L1W018', 37);\n",
    "INSERT INTO CourseProfessors(coursesCode, profCode) VALUES ('F18L1W018', 33);\n",
    "INSERT INTO CourseProfessors(coursesCode, profCode) VALUES ('F18L1W018', 43);\n",
    "INSERT INTO CourseProfessors(coursesCode, profCode) VALUES ('F18L1W020', 18);\n",
    "INSERT INTO CourseProfessors(coursesCode, profCode) VALUES ('F18L1W020', 8);\n",
    "INSERT INTO CourseProfessors(coursesCode, profCode) VALUES ('F18L1W020', 14);\n",
    "INSERT INTO CourseProfessors(coursesCode, profCode) VALUES ('F18L1W020', 7);\n",
    "INSERT INTO CourseProfessors(coursesCode, profCode) VALUES ('F18L1W020', 25);\n",
    "INSERT INTO CourseProfessors(coursesCode, profCode) VALUES ('F18L1W020', 44);\n",
    "INSERT INTO CourseProfessors(coursesCode, profCode) VALUES ('F18L1W020', 27);\n",
    "INSERT INTO CourseProfessors(coursesCode, profCode) VALUES ('F18L1W020', 31);\n",
    "INSERT INTO CourseProfessors(coursesCode, profCode) VALUES ('F18L1W011', 12);\n",
    "INSERT INTO CourseProfessors(coursesCode, profCode) VALUES ('F18L1W011', 24);\n",
    "INSERT INTO CourseProfessors(coursesCode, profCode) VALUES ('F18L1W011', 30);\n",
    "INSERT INTO CourseProfessors(coursesCode, profCode) VALUES ('F18L1W011', 39);\n",
    "INSERT INTO CourseProfessors(coursesCode, profCode) VALUES ('F18L1W011', 38);\n",
    "INSERT INTO CourseProfessors(coursesCode, profCode) VALUES ('F18L1W011', 40);\n",
    "INSERT INTO CourseProfessors(coursesCode, profCode) VALUES ('F18L1W011', 31);\n",
    "INSERT INTO CourseProfessors(coursesCode, profCode) VALUES ('F18L1S045', 17);\n",
    "INSERT INTO CourseProfessors(coursesCode, profCode) VALUES ('F18L1S016', 18);\n",
    "INSERT INTO CourseProfessors(coursesCode, profCode) VALUES ('F18L1S016', 8);\n",
    "INSERT INTO CourseProfessors(coursesCode, profCode) VALUES ('F18L1S016', 14);\n",
    "INSERT INTO CourseProfessors(coursesCode, profCode) VALUES ('F18L1S016', 7);\n",
    "INSERT INTO CourseProfessors(coursesCode, profCode) VALUES ('F18L1S016', 25);\n",
    "INSERT INTO CourseProfessors(coursesCode, profCode) VALUES ('F18L1S016', 44);\n",
    "INSERT INTO CourseProfessors(coursesCode, profCode) VALUES ('F18L1S016', 27);\n",
    "INSERT INTO CourseProfessors(coursesCode, profCode) VALUES ('F18L1S066', 16);\n",
    "INSERT INTO CourseProfessors(coursesCode, profCode) VALUES ('F18L1S066', 23);\n",
    "INSERT INTO CourseProfessors(coursesCode, profCode) VALUES ('F18L2W001', 16);\n",
    "INSERT INTO CourseProfessors(coursesCode, profCode) VALUES ('F18L2W001', 13);\n",
    "INSERT INTO CourseProfessors(coursesCode, profCode) VALUES ('F18L2W001', 32);\n",
    "INSERT INTO CourseProfessors(coursesCode, profCode) VALUES ('F18L2W001', 37);\n",
    "INSERT INTO CourseProfessors(coursesCode, profCode) VALUES ('F18L2W001', 44);\n",
    "INSERT INTO CourseProfessors(coursesCode, profCode) VALUES ('F18L2W001', 7);\n",
    "INSERT INTO CourseProfessors(coursesCode, profCode) VALUES ('F18L2W001', 6);\n",
    "INSERT INTO CourseProfessors(coursesCode, profCode) VALUES ('F18L2W046', 17);\n",
    "INSERT INTO CourseProfessors(coursesCode, profCode) VALUES ('F18L2W046', 1);\n",
    "INSERT INTO CourseProfessors(coursesCode, profCode) VALUES ('F18L2W046', 24);\n",
    "INSERT INTO CourseProfessors(coursesCode, profCode) VALUES ('F18L2W067', 5);\n",
    "INSERT INTO CourseProfessors(coursesCode, profCode) VALUES ('F18L2W067', 38);\n",
    "INSERT INTO CourseProfessors(coursesCode, profCode) VALUES ('F18L2W067', 39);\n",
    "INSERT INTO CourseProfessors(coursesCode, profCode) VALUES ('F18L2S061', 16);\n",
    "INSERT INTO CourseProfessors(coursesCode, profCode) VALUES ('F18L2S061', 17);\n",
    "INSERT INTO CourseProfessors(coursesCode, profCode) VALUES ('F18L2S017', 9);\n",
    "INSERT INTO CourseProfessors(coursesCode, profCode) VALUES ('F18L2S017', 14);\n",
    "INSERT INTO CourseProfessors(coursesCode, profCode) VALUES ('F18L2S017', 21);\n",
    "INSERT INTO CourseProfessors(coursesCode, profCode) VALUES ('F18L2S017', 26);\n",
    "INSERT INTO CourseProfessors(coursesCode, profCode) VALUES ('F18L2S017', 44);\n",
    "INSERT INTO CourseProfessors(coursesCode, profCode) VALUES ('F18L2S017', 34);\n",
    "INSERT INTO CourseProfessors(coursesCode, profCode) VALUES ('F18L2S017', 41);\n",
    "INSERT INTO CourseProfessors(coursesCode, profCode) VALUES ('F18L2S017', 20);\n",
    "INSERT INTO CourseProfessors(coursesCode, profCode) VALUES ('F18L3W060', 43);\n",
    "INSERT INTO CourseProfessors(coursesCode, profCode) VALUES ('F18L3W060', 20);\n",
    "INSERT INTO CourseProfessors(coursesCode, profCode) VALUES ('F18L3W004', 13);\n",
    "INSERT INTO CourseProfessors(coursesCode, profCode) VALUES ('F18L3W004', 23);\n",
    "INSERT INTO CourseProfessors(coursesCode, profCode) VALUES ('F18L3W004', 15);\n",
    "INSERT INTO CourseProfessors(coursesCode, profCode) VALUES ('F18L3W004', 36);\n",
    "INSERT INTO CourseProfessors(coursesCode, profCode) VALUES ('F18L3W004', 46);\n",
    "INSERT INTO CourseProfessors(coursesCode, profCode) VALUES ('F18L3W004', 33);\n",
    "INSERT INTO CourseProfessors(coursesCode, profCode) VALUES ('F18L3W004', 29);\n",
    "INSERT INTO CourseProfessors(coursesCode, profCode) VALUES ('F18L3W065', 16);\n",
    "INSERT INTO CourseProfessors(coursesCode, profCode) VALUES ('F18L3W065', 17);\n",
    "INSERT INTO CourseProfessors(coursesCode, profCode) VALUES ('F18L3S059', 54);\n",
    "INSERT INTO CourseProfessors(coursesCode, profCode) VALUES ('F18L3S062', 20);\n",
    "INSERT INTO CourseProfessors(coursesCode, profCode) VALUES ('F18L3W064', 6);\n",
    "INSERT INTO CourseProfessors(coursesCode, profCode) VALUES ('F18L3W064', 47);\n",
    "INSERT INTO CourseProfessors(coursesCode, profCode) VALUES ('F18L3W064', 20);\n",
    "INSERT INTO CourseProfessors(coursesCode, profCode) VALUES ('F18L3W068', 1);\n",
    "INSERT INTO CourseProfessors(coursesCode, profCode) VALUES ('F18L3S063', 24);\n",
    "INSERT INTO CourseProfessors(coursesCode, profCode) VALUES ('F18L3S063', 26);\n",
    "INSERT INTO CourseProfessors(coursesCode, profCode) VALUES ('F18L3S063', 54);\n",
    "INSERT INTO CourseProfessors(coursesCode, profCode) VALUES ('F18L3S063', 35);\n",
    "INSERT INTO CourseProfessors(coursesCode, profCode) VALUES ('F18L3S054', 7);\n",
    "INSERT INTO CourseProfessors(coursesCode, profCode) VALUES ('F18L1S052', 31);\n",
    "INSERT INTO CourseProfessors(coursesCode, profCode) VALUES ('F18L3W055', 31);\n",
    "INSERT INTO CourseProfessors(coursesCode, profCode) VALUES ('F18L2S051', 31);\n",
    "INSERT INTO CourseProfessors(coursesCode, profCode) VALUES ('F18L2S051', 22);\n",
    "INSERT INTO CourseProfessors(coursesCode, profCode) VALUES ('F18L3W050', 22);\n",
    "INSERT INTO CourseProfessors(coursesCode, profCode) VALUES ('F18L3W053', 2);\n",
    "INSERT INTO CourseProfessors(coursesCode, profCode) VALUES ('F18L3S056', 7);\n",
    "INSERT INTO CourseProfessors(coursesCode, profCode) VALUES ('F18L1W031', 39);\n",
    "INSERT INTO CourseProfessors(coursesCode, profCode) VALUES ('F18L1W031', 24);\n",
    "INSERT INTO CourseProfessors(coursesCode, profCode) VALUES ('F18L1W033', 30);\n",
    "INSERT INTO CourseProfessors(coursesCode, profCode) VALUES ('F18L1S003', 26);\n",
    "INSERT INTO CourseProfessors(coursesCode, profCode) VALUES ('F18L1S003', 32);\n",
    "INSERT INTO CourseProfessors(coursesCode, profCode) VALUES ('F18L1S003', 49);\n",
    "INSERT INTO CourseProfessors(coursesCode, profCode) VALUES ('F18L1S003', 37);\n",
    "INSERT INTO CourseProfessors(coursesCode, profCode) VALUES ('F18L1S003', 35);\n",
    "INSERT INTO CourseProfessors(coursesCode, profCode) VALUES ('F18L1S003', 34);\n",
    "INSERT INTO CourseProfessors(coursesCode, profCode) VALUES ('F18L1S003', 54);\n",
    "INSERT INTO CourseProfessors(coursesCode, profCode) VALUES ('F18L1S003', 24);\n",
    "INSERT INTO CourseProfessors(coursesCode, profCode) VALUES ('F18L1S003', 11);\n",
    "INSERT INTO CourseProfessors(coursesCode, profCode) VALUES ('F18L1S003', 1);\n",
    "INSERT INTO CourseProfessors(coursesCode, profCode) VALUES ('F18L1S032', 12);\n",
    "INSERT INTO CourseProfessors(coursesCode, profCode) VALUES ('F18L1S032', 40);\n",
    "INSERT INTO CourseProfessors(coursesCode, profCode) VALUES ('F18L1S032', 31);\n",
    "INSERT INTO CourseProfessors(coursesCode, profCode) VALUES ('F18L1S032', 39);\n",
    "INSERT INTO CourseProfessors(coursesCode, profCode) VALUES ('F18L1S032', 24);\n",
    "INSERT INTO CourseProfessors(coursesCode, profCode) VALUES ('F18L1S034', 5);\n",
    "INSERT INTO CourseProfessors(coursesCode, profCode) VALUES ('F18L1S034', 30);\n",
    "INSERT INTO CourseProfessors(coursesCode, profCode) VALUES ('F18L1S034', 38);\n",
    "INSERT INTO CourseProfessors(coursesCode, profCode) VALUES ('F18L1S034', 40);\n",
    "INSERT INTO CourseProfessors(coursesCode, profCode) VALUES ('F18L2W006', 12);\n",
    "INSERT INTO CourseProfessors(coursesCode, profCode) VALUES ('F18L2W006', 38);\n",
    "INSERT INTO CourseProfessors(coursesCode, profCode) VALUES ('F18L2W006', 40);\n",
    "INSERT INTO CourseProfessors(coursesCode, profCode) VALUES ('F18L2W006', 39);\n",
    "INSERT INTO CourseProfessors(coursesCode, profCode) VALUES ('F18L2W006', 5);\n",
    "INSERT INTO CourseProfessors(coursesCode, profCode) VALUES ('F18L2S030', 10);\n",
    "INSERT INTO CourseProfessors(coursesCode, profCode) VALUES ('F18L2S030', 23);\n",
    "INSERT INTO CourseProfessors(coursesCode, profCode) VALUES ('F18L2S030', 2);\n",
    "INSERT INTO CourseProfessors(coursesCode, profCode) VALUES ('F18L2S030', 47);\n",
    "INSERT INTO CourseProfessors(coursesCode, profCode) VALUES ('F18L2S030', 33);\n",
    "INSERT INTO CourseProfessors(coursesCode, profCode) VALUES ('F18L2S029', 8);\n",
    "INSERT INTO CourseProfessors(coursesCode, profCode) VALUES ('F18L2S029', 2);\n",
    "INSERT INTO CourseProfessors(coursesCode, profCode) VALUES ('F18L2S029', 25);\n",
    "INSERT INTO CourseProfessors(coursesCode, profCode) VALUES ('F18L2S029', 27);\n",
    "INSERT INTO CourseProfessors(coursesCode, profCode) VALUES ('F18L3W035', 12);\n",
    "INSERT INTO CourseProfessors(coursesCode, profCode) VALUES ('F18L3W035', 5);\n",
    "INSERT INTO CourseProfessors(coursesCode, profCode) VALUES ('F18L3W035', 30);\n",
    "INSERT INTO CourseProfessors(coursesCode, profCode) VALUES ('F18L3W035', 39);\n",
    "INSERT INTO CourseProfessors(coursesCode, profCode) VALUES ('F18L3W035', 38);\n",
    "INSERT INTO CourseProfessors(coursesCode, profCode) VALUES ('F18L3W037', 1);\n",
    "INSERT INTO CourseProfessors(coursesCode, profCode) VALUES ('F18L3W037', 46);\n",
    "INSERT INTO CourseProfessors(coursesCode, profCode) VALUES ('F18L3W037', 37);\n",
    "INSERT INTO CourseProfessors(coursesCode, profCode) VALUES ('F18L3W037', 49);\n",
    "INSERT INTO CourseProfessors(coursesCode, profCode) VALUES ('F18L3S010', 3);\n",
    "INSERT INTO CourseProfessors(coursesCode, profCode) VALUES ('F18L3S010', 23);\n",
    "INSERT INTO CourseProfessors(coursesCode, profCode) VALUES ('F18L3S010', 14);\n",
    "INSERT INTO CourseProfessors(coursesCode, profCode) VALUES ('F18L3S010', 45);\n",
    "INSERT INTO CourseProfessors(coursesCode, profCode) VALUES ('F18L3S036', 35);\n",
    "INSERT INTO CourseProfessors(coursesCode, profCode) VALUES ('F18L3S036', 54);\n",
    "INSERT INTO CourseProfessors(coursesCode, profCode) VALUES ('F18L3S039', 12);\n",
    "INSERT INTO CourseProfessors(coursesCode, profCode) VALUES ('F18L3W038', 45);\n",
    "INSERT INTO CourseProfessors(coursesCode, profCode) VALUES ('F18L3W038', 33);\n",
    "INSERT INTO CourseProfessors(coursesCode, profCode) VALUES ('F18L3W038', 31);\n",
    "INSERT INTO CourseProfessors(coursesCode, profCode) VALUES ('F18L1W041', 21);\n",
    "INSERT INTO CourseProfessors(coursesCode, profCode) VALUES ('F18L1W041', 34);\n",
    "INSERT INTO CourseProfessors(coursesCode, profCode) VALUES ('F18L1W049', 19);\n",
    "INSERT INTO CourseProfessors(coursesCode, profCode) VALUES ('F18L1S116', 42);\n",
    "INSERT INTO CourseProfessors(coursesCode, profCode) VALUES ('F18L1S116', 4);\n",
    "INSERT INTO CourseProfessors(coursesCode, profCode) VALUES ('F18L1S120', 6);\n",
    "INSERT INTO CourseProfessors(coursesCode, profCode) VALUES ('F18L1S120', 17);\n",
    "INSERT INTO CourseProfessors(coursesCode, profCode) VALUES ('F18L1S026', 36);\n",
    "INSERT INTO CourseProfessors(coursesCode, profCode) VALUES ('F18L1S026', 32);\n",
    "INSERT INTO CourseProfessors(coursesCode, profCode) VALUES ('F18L1S026', 42);\n",
    "INSERT INTO CourseProfessors(coursesCode, profCode) VALUES ('F18L1S026', 28);\n",
    "INSERT INTO CourseProfessors(coursesCode, profCode) VALUES ('F18L1S146', 18);\n",
    "INSERT INTO CourseProfessors(coursesCode, profCode) VALUES ('F18L1S146', 13);\n",
    "INSERT INTO CourseProfessors(coursesCode, profCode) VALUES ('F18L1S146', 22);\n",
    "INSERT INTO CourseProfessors(coursesCode, profCode) VALUES ('F18L1S146', 45);\n",
    "INSERT INTO CourseProfessors(coursesCode, profCode) VALUES ('F18L1S066', 17);\n",
    "INSERT INTO CourseProfessors(coursesCode, profCode) VALUES ('F18L2S042', 4);\n",
    "INSERT INTO CourseProfessors(coursesCode, profCode) VALUES ('F18L3W043', 21);\n",
    "INSERT INTO CourseProfessors(coursesCode, profCode) VALUES ('F18L3W044', 19);\n",
    "INSERT INTO CourseProfessors(coursesCode, profCode) VALUES ('F18L3S040', 14);\n",
    "INSERT INTO CourseProfessors(coursesCode, profCode) VALUES ('F18L3S040', 49);\n",
    "INSERT INTO CourseProfessors(coursesCode, profCode) VALUES ('F18L3S047', 47);\n",
    "INSERT INTO CourseProfessors(coursesCode, profCode) VALUES ('F18L3S047', 19);\n",
    "INSERT INTO CourseProfessors(coursesCode, profCode) VALUES ('F18L3W048', 26);\n",
    "INSERT INTO CourseProfessors(coursesCode, profCode) VALUES ('F18L3W048', 49);\n",
    "INSERT INTO CourseProfessors(coursesCode, profCode) VALUES ('F18L3W048', 35);\n",
    "INSERT INTO CourseProfessors(coursesCode, profCode) VALUES ('F18L1S023', 12);\n",
    "INSERT INTO CourseProfessors(coursesCode, profCode) VALUES ('F18L1S023', 38);\n",
    "INSERT INTO CourseProfessors(coursesCode, profCode) VALUES ('F18L1S023', 40);\n",
    "INSERT INTO CourseProfessors(coursesCode, profCode) VALUES ('F18L1S023', 39);\n",
    "INSERT INTO CourseProfessors(coursesCode, profCode) VALUES ('F18L1S023', 5);\n",
    "INSERT INTO CourseProfessors(coursesCode, profCode) VALUES ('F18L3S022', 9);\n",
    "INSERT INTO CourseProfessors(coursesCode, profCode) VALUES ('F18L3S022', 11);\n",
    "INSERT INTO CourseProfessors(coursesCode, profCode) VALUES ('F18L3S022', 41);\n",
    "INSERT INTO CourseProfessors(coursesCode, profCode) VALUES ('F18L3S022', 43);\n",
    "INSERT INTO CourseProfessors(coursesCode, profCode) VALUES ('F18L3S022', 49);\n",
    "INSERT INTO CourseProfessors(coursesCode, profCode) VALUES ('F18L3S028', 6);\n",
    "INSERT INTO CourseProfessors(coursesCode, profCode) VALUES ('F18L3W027', 28);\n",
    "INSERT INTO CourseProfessors(coursesCode, profCode) VALUES ('F18L3W027', 41);\n",
    "INSERT INTO CourseProfessors(coursesCode, profCode) VALUES ('F18L3W027', 15);\n",
    "INSERT INTO CourseProfessors(coursesCode, profCode) VALUES ('F18L3W027', 4);\n",
    "INSERT INTO CourseProfessors(coursesCode, profCode) VALUES ('F18L3W027', 11);\n",
    "INSERT INTO CourseProfessors(coursesCode, profCode) VALUES ('F18L3S025', 9);\n",
    "INSERT INTO CourseProfessors(coursesCode, profCode) VALUES ('F18L3S025', 22);\n",
    "INSERT INTO CourseProfessors(coursesCode, profCode) VALUES ('F18L3S025', 11);\n",
    "INSERT INTO CourseProfessors(coursesCode, profCode) VALUES ('F18L3S025', 34);\n",
    "INSERT INTO CourseProfessors(coursesCode, profCode) VALUES ('F18L3W024', 9);\n",
    "INSERT INTO CourseProfessors(coursesCode, profCode) VALUES ('F18L3W024', 34);\n",
    "INSERT INTO CourseProfessors(coursesCode, profCode) VALUES ('F18L3W024', 41);\n",
    "INSERT INTO CourseProfessors(coursesCode, profCode) VALUES ('F18L1S015', 13);\n",
    "INSERT INTO CourseProfessors(coursesCode, profCode) VALUES ('F18L1S015', 32);\n",
    "INSERT INTO CourseProfessors(coursesCode, profCode) VALUES ('F18L1S015', 33);\n",
    "INSERT INTO CourseProfessors(coursesCode, profCode) VALUES ('F18L2S002', 17);\n",
    "INSERT INTO CourseProfessors(coursesCode, profCode) VALUES ('F18L2S002', 36);\n",
    "INSERT INTO CourseProfessors(coursesCode, profCode) VALUES ('F18L2S002', 11);\n",
    "INSERT INTO CourseProfessors(coursesCode, profCode) VALUES ('F18L3W009', 27);\n",
    "INSERT INTO CourseProfessors(coursesCode, profCode) VALUES ('F18L3W009', 11);\n",
    "INSERT INTO CourseProfessors(coursesCode, profCode) VALUES ('F18L3W009', 8);\n",
    "INSERT INTO CourseProfessors(coursesCode, profCode) VALUES ('F18L3S012', 18);\n",
    "INSERT INTO CourseProfessors(coursesCode, profCode) VALUES ('F18L3S019', 16);\n",
    "INSERT INTO CourseProfessors(coursesCode, profCode) VALUES ('F18L3S019', 44);"
   ],
   "metadata": {
    "language": "sql",
    "azdata_cell_guid": "83927715-6bc4-404f-a169-98e3e084a982"
   },
   "outputs": [
    {
     "output_type": "display_data",
     "data": {
      "text/html": "(1 row affected)"
     },
     "metadata": {}
    },
    {
     "output_type": "display_data",
     "data": {
      "text/html": "(1 row affected)"
     },
     "metadata": {}
    },
    {
     "output_type": "display_data",
     "data": {
      "text/html": "(1 row affected)"
     },
     "metadata": {}
    },
    {
     "output_type": "display_data",
     "data": {
      "text/html": "(1 row affected)"
     },
     "metadata": {}
    },
    {
     "output_type": "display_data",
     "data": {
      "text/html": "(1 row affected)"
     },
     "metadata": {}
    },
    {
     "output_type": "display_data",
     "data": {
      "text/html": "(1 row affected)"
     },
     "metadata": {}
    },
    {
     "output_type": "display_data",
     "data": {
      "text/html": "(1 row affected)"
     },
     "metadata": {}
    },
    {
     "output_type": "display_data",
     "data": {
      "text/html": "(1 row affected)"
     },
     "metadata": {}
    },
    {
     "output_type": "display_data",
     "data": {
      "text/html": "(1 row affected)"
     },
     "metadata": {}
    },
    {
     "output_type": "display_data",
     "data": {
      "text/html": "(1 row affected)"
     },
     "metadata": {}
    },
    {
     "output_type": "display_data",
     "data": {
      "text/html": "(1 row affected)"
     },
     "metadata": {}
    },
    {
     "output_type": "display_data",
     "data": {
      "text/html": "(1 row affected)"
     },
     "metadata": {}
    },
    {
     "output_type": "display_data",
     "data": {
      "text/html": "(1 row affected)"
     },
     "metadata": {}
    },
    {
     "output_type": "display_data",
     "data": {
      "text/html": "(1 row affected)"
     },
     "metadata": {}
    },
    {
     "output_type": "display_data",
     "data": {
      "text/html": "(1 row affected)"
     },
     "metadata": {}
    },
    {
     "output_type": "display_data",
     "data": {
      "text/html": "(1 row affected)"
     },
     "metadata": {}
    },
    {
     "output_type": "display_data",
     "data": {
      "text/html": "(1 row affected)"
     },
     "metadata": {}
    },
    {
     "output_type": "display_data",
     "data": {
      "text/html": "(1 row affected)"
     },
     "metadata": {}
    },
    {
     "output_type": "display_data",
     "data": {
      "text/html": "(1 row affected)"
     },
     "metadata": {}
    },
    {
     "output_type": "display_data",
     "data": {
      "text/html": "(1 row affected)"
     },
     "metadata": {}
    },
    {
     "output_type": "display_data",
     "data": {
      "text/html": "(1 row affected)"
     },
     "metadata": {}
    },
    {
     "output_type": "display_data",
     "data": {
      "text/html": "(1 row affected)"
     },
     "metadata": {}
    },
    {
     "output_type": "display_data",
     "data": {
      "text/html": "(1 row affected)"
     },
     "metadata": {}
    },
    {
     "output_type": "display_data",
     "data": {
      "text/html": "(1 row affected)"
     },
     "metadata": {}
    },
    {
     "output_type": "display_data",
     "data": {
      "text/html": "(1 row affected)"
     },
     "metadata": {}
    },
    {
     "output_type": "display_data",
     "data": {
      "text/html": "(1 row affected)"
     },
     "metadata": {}
    },
    {
     "output_type": "display_data",
     "data": {
      "text/html": "(1 row affected)"
     },
     "metadata": {}
    },
    {
     "output_type": "display_data",
     "data": {
      "text/html": "(1 row affected)"
     },
     "metadata": {}
    },
    {
     "output_type": "display_data",
     "data": {
      "text/html": "(1 row affected)"
     },
     "metadata": {}
    },
    {
     "output_type": "display_data",
     "data": {
      "text/html": "(1 row affected)"
     },
     "metadata": {}
    },
    {
     "output_type": "display_data",
     "data": {
      "text/html": "(1 row affected)"
     },
     "metadata": {}
    },
    {
     "output_type": "display_data",
     "data": {
      "text/html": "(1 row affected)"
     },
     "metadata": {}
    },
    {
     "output_type": "display_data",
     "data": {
      "text/html": "(1 row affected)"
     },
     "metadata": {}
    },
    {
     "output_type": "display_data",
     "data": {
      "text/html": "(1 row affected)"
     },
     "metadata": {}
    },
    {
     "output_type": "display_data",
     "data": {
      "text/html": "(1 row affected)"
     },
     "metadata": {}
    },
    {
     "output_type": "display_data",
     "data": {
      "text/html": "(1 row affected)"
     },
     "metadata": {}
    },
    {
     "output_type": "display_data",
     "data": {
      "text/html": "(1 row affected)"
     },
     "metadata": {}
    },
    {
     "output_type": "display_data",
     "data": {
      "text/html": "(1 row affected)"
     },
     "metadata": {}
    },
    {
     "output_type": "display_data",
     "data": {
      "text/html": "(1 row affected)"
     },
     "metadata": {}
    },
    {
     "output_type": "display_data",
     "data": {
      "text/html": "(1 row affected)"
     },
     "metadata": {}
    },
    {
     "output_type": "display_data",
     "data": {
      "text/html": "(1 row affected)"
     },
     "metadata": {}
    },
    {
     "output_type": "display_data",
     "data": {
      "text/html": "(1 row affected)"
     },
     "metadata": {}
    },
    {
     "output_type": "display_data",
     "data": {
      "text/html": "(1 row affected)"
     },
     "metadata": {}
    },
    {
     "output_type": "display_data",
     "data": {
      "text/html": "(1 row affected)"
     },
     "metadata": {}
    },
    {
     "output_type": "display_data",
     "data": {
      "text/html": "(1 row affected)"
     },
     "metadata": {}
    },
    {
     "output_type": "display_data",
     "data": {
      "text/html": "(1 row affected)"
     },
     "metadata": {}
    },
    {
     "output_type": "display_data",
     "data": {
      "text/html": "(1 row affected)"
     },
     "metadata": {}
    },
    {
     "output_type": "display_data",
     "data": {
      "text/html": "(1 row affected)"
     },
     "metadata": {}
    },
    {
     "output_type": "display_data",
     "data": {
      "text/html": "(1 row affected)"
     },
     "metadata": {}
    },
    {
     "output_type": "display_data",
     "data": {
      "text/html": "(1 row affected)"
     },
     "metadata": {}
    },
    {
     "output_type": "display_data",
     "data": {
      "text/html": "(1 row affected)"
     },
     "metadata": {}
    },
    {
     "output_type": "display_data",
     "data": {
      "text/html": "(1 row affected)"
     },
     "metadata": {}
    },
    {
     "output_type": "display_data",
     "data": {
      "text/html": "(1 row affected)"
     },
     "metadata": {}
    },
    {
     "output_type": "display_data",
     "data": {
      "text/html": "(1 row affected)"
     },
     "metadata": {}
    },
    {
     "output_type": "display_data",
     "data": {
      "text/html": "(1 row affected)"
     },
     "metadata": {}
    },
    {
     "output_type": "display_data",
     "data": {
      "text/html": "(1 row affected)"
     },
     "metadata": {}
    },
    {
     "output_type": "display_data",
     "data": {
      "text/html": "(1 row affected)"
     },
     "metadata": {}
    },
    {
     "output_type": "display_data",
     "data": {
      "text/html": "(1 row affected)"
     },
     "metadata": {}
    },
    {
     "output_type": "display_data",
     "data": {
      "text/html": "(1 row affected)"
     },
     "metadata": {}
    },
    {
     "output_type": "display_data",
     "data": {
      "text/html": "(1 row affected)"
     },
     "metadata": {}
    },
    {
     "output_type": "display_data",
     "data": {
      "text/html": "(1 row affected)"
     },
     "metadata": {}
    },
    {
     "output_type": "display_data",
     "data": {
      "text/html": "(1 row affected)"
     },
     "metadata": {}
    },
    {
     "output_type": "display_data",
     "data": {
      "text/html": "(1 row affected)"
     },
     "metadata": {}
    },
    {
     "output_type": "display_data",
     "data": {
      "text/html": "(1 row affected)"
     },
     "metadata": {}
    },
    {
     "output_type": "display_data",
     "data": {
      "text/html": "(1 row affected)"
     },
     "metadata": {}
    },
    {
     "output_type": "display_data",
     "data": {
      "text/html": "(1 row affected)"
     },
     "metadata": {}
    },
    {
     "output_type": "display_data",
     "data": {
      "text/html": "(1 row affected)"
     },
     "metadata": {}
    },
    {
     "output_type": "display_data",
     "data": {
      "text/html": "(1 row affected)"
     },
     "metadata": {}
    },
    {
     "output_type": "display_data",
     "data": {
      "text/html": "(1 row affected)"
     },
     "metadata": {}
    },
    {
     "output_type": "display_data",
     "data": {
      "text/html": "(1 row affected)"
     },
     "metadata": {}
    },
    {
     "output_type": "display_data",
     "data": {
      "text/html": "(1 row affected)"
     },
     "metadata": {}
    },
    {
     "output_type": "display_data",
     "data": {
      "text/html": "(1 row affected)"
     },
     "metadata": {}
    },
    {
     "output_type": "display_data",
     "data": {
      "text/html": "(1 row affected)"
     },
     "metadata": {}
    },
    {
     "output_type": "display_data",
     "data": {
      "text/html": "(1 row affected)"
     },
     "metadata": {}
    },
    {
     "output_type": "display_data",
     "data": {
      "text/html": "(1 row affected)"
     },
     "metadata": {}
    },
    {
     "output_type": "display_data",
     "data": {
      "text/html": "(1 row affected)"
     },
     "metadata": {}
    },
    {
     "output_type": "display_data",
     "data": {
      "text/html": "(1 row affected)"
     },
     "metadata": {}
    },
    {
     "output_type": "display_data",
     "data": {
      "text/html": "(1 row affected)"
     },
     "metadata": {}
    },
    {
     "output_type": "display_data",
     "data": {
      "text/html": "(1 row affected)"
     },
     "metadata": {}
    },
    {
     "output_type": "display_data",
     "data": {
      "text/html": "(1 row affected)"
     },
     "metadata": {}
    },
    {
     "output_type": "display_data",
     "data": {
      "text/html": "(1 row affected)"
     },
     "metadata": {}
    },
    {
     "output_type": "display_data",
     "data": {
      "text/html": "(1 row affected)"
     },
     "metadata": {}
    },
    {
     "output_type": "display_data",
     "data": {
      "text/html": "(1 row affected)"
     },
     "metadata": {}
    },
    {
     "output_type": "display_data",
     "data": {
      "text/html": "(1 row affected)"
     },
     "metadata": {}
    },
    {
     "output_type": "display_data",
     "data": {
      "text/html": "(1 row affected)"
     },
     "metadata": {}
    },
    {
     "output_type": "display_data",
     "data": {
      "text/html": "(1 row affected)"
     },
     "metadata": {}
    },
    {
     "output_type": "display_data",
     "data": {
      "text/html": "(1 row affected)"
     },
     "metadata": {}
    },
    {
     "output_type": "display_data",
     "data": {
      "text/html": "(1 row affected)"
     },
     "metadata": {}
    },
    {
     "output_type": "display_data",
     "data": {
      "text/html": "(1 row affected)"
     },
     "metadata": {}
    },
    {
     "output_type": "display_data",
     "data": {
      "text/html": "(1 row affected)"
     },
     "metadata": {}
    },
    {
     "output_type": "display_data",
     "data": {
      "text/html": "(1 row affected)"
     },
     "metadata": {}
    },
    {
     "output_type": "display_data",
     "data": {
      "text/html": "(1 row affected)"
     },
     "metadata": {}
    },
    {
     "output_type": "display_data",
     "data": {
      "text/html": "(1 row affected)"
     },
     "metadata": {}
    },
    {
     "output_type": "display_data",
     "data": {
      "text/html": "(1 row affected)"
     },
     "metadata": {}
    },
    {
     "output_type": "display_data",
     "data": {
      "text/html": "(1 row affected)"
     },
     "metadata": {}
    },
    {
     "output_type": "display_data",
     "data": {
      "text/html": "(1 row affected)"
     },
     "metadata": {}
    },
    {
     "output_type": "display_data",
     "data": {
      "text/html": "(1 row affected)"
     },
     "metadata": {}
    },
    {
     "output_type": "display_data",
     "data": {
      "text/html": "(1 row affected)"
     },
     "metadata": {}
    },
    {
     "output_type": "display_data",
     "data": {
      "text/html": "(1 row affected)"
     },
     "metadata": {}
    },
    {
     "output_type": "display_data",
     "data": {
      "text/html": "(1 row affected)"
     },
     "metadata": {}
    },
    {
     "output_type": "display_data",
     "data": {
      "text/html": "(1 row affected)"
     },
     "metadata": {}
    },
    {
     "output_type": "display_data",
     "data": {
      "text/html": "(1 row affected)"
     },
     "metadata": {}
    },
    {
     "output_type": "display_data",
     "data": {
      "text/html": "(1 row affected)"
     },
     "metadata": {}
    },
    {
     "output_type": "display_data",
     "data": {
      "text/html": "(1 row affected)"
     },
     "metadata": {}
    },
    {
     "output_type": "display_data",
     "data": {
      "text/html": "(1 row affected)"
     },
     "metadata": {}
    },
    {
     "output_type": "display_data",
     "data": {
      "text/html": "(1 row affected)"
     },
     "metadata": {}
    },
    {
     "output_type": "display_data",
     "data": {
      "text/html": "(1 row affected)"
     },
     "metadata": {}
    },
    {
     "output_type": "display_data",
     "data": {
      "text/html": "(1 row affected)"
     },
     "metadata": {}
    },
    {
     "output_type": "display_data",
     "data": {
      "text/html": "(1 row affected)"
     },
     "metadata": {}
    },
    {
     "output_type": "display_data",
     "data": {
      "text/html": "(1 row affected)"
     },
     "metadata": {}
    },
    {
     "output_type": "display_data",
     "data": {
      "text/html": "(1 row affected)"
     },
     "metadata": {}
    },
    {
     "output_type": "display_data",
     "data": {
      "text/html": "(1 row affected)"
     },
     "metadata": {}
    },
    {
     "output_type": "display_data",
     "data": {
      "text/html": "(1 row affected)"
     },
     "metadata": {}
    },
    {
     "output_type": "display_data",
     "data": {
      "text/html": "(1 row affected)"
     },
     "metadata": {}
    },
    {
     "output_type": "display_data",
     "data": {
      "text/html": "(1 row affected)"
     },
     "metadata": {}
    },
    {
     "output_type": "display_data",
     "data": {
      "text/html": "(1 row affected)"
     },
     "metadata": {}
    },
    {
     "output_type": "display_data",
     "data": {
      "text/html": "(1 row affected)"
     },
     "metadata": {}
    },
    {
     "output_type": "display_data",
     "data": {
      "text/html": "(1 row affected)"
     },
     "metadata": {}
    },
    {
     "output_type": "display_data",
     "data": {
      "text/html": "(1 row affected)"
     },
     "metadata": {}
    },
    {
     "output_type": "display_data",
     "data": {
      "text/html": "(1 row affected)"
     },
     "metadata": {}
    },
    {
     "output_type": "display_data",
     "data": {
      "text/html": "(1 row affected)"
     },
     "metadata": {}
    },
    {
     "output_type": "display_data",
     "data": {
      "text/html": "(1 row affected)"
     },
     "metadata": {}
    },
    {
     "output_type": "display_data",
     "data": {
      "text/html": "(1 row affected)"
     },
     "metadata": {}
    },
    {
     "output_type": "display_data",
     "data": {
      "text/html": "(1 row affected)"
     },
     "metadata": {}
    },
    {
     "output_type": "display_data",
     "data": {
      "text/html": "(1 row affected)"
     },
     "metadata": {}
    },
    {
     "output_type": "display_data",
     "data": {
      "text/html": "(1 row affected)"
     },
     "metadata": {}
    },
    {
     "output_type": "display_data",
     "data": {
      "text/html": "(1 row affected)"
     },
     "metadata": {}
    },
    {
     "output_type": "display_data",
     "data": {
      "text/html": "(1 row affected)"
     },
     "metadata": {}
    },
    {
     "output_type": "display_data",
     "data": {
      "text/html": "(1 row affected)"
     },
     "metadata": {}
    },
    {
     "output_type": "display_data",
     "data": {
      "text/html": "(1 row affected)"
     },
     "metadata": {}
    },
    {
     "output_type": "display_data",
     "data": {
      "text/html": "(1 row affected)"
     },
     "metadata": {}
    },
    {
     "output_type": "display_data",
     "data": {
      "text/html": "(1 row affected)"
     },
     "metadata": {}
    },
    {
     "output_type": "display_data",
     "data": {
      "text/html": "(1 row affected)"
     },
     "metadata": {}
    },
    {
     "output_type": "display_data",
     "data": {
      "text/html": "(1 row affected)"
     },
     "metadata": {}
    },
    {
     "output_type": "display_data",
     "data": {
      "text/html": "(1 row affected)"
     },
     "metadata": {}
    },
    {
     "output_type": "display_data",
     "data": {
      "text/html": "(1 row affected)"
     },
     "metadata": {}
    },
    {
     "output_type": "display_data",
     "data": {
      "text/html": "(1 row affected)"
     },
     "metadata": {}
    },
    {
     "output_type": "display_data",
     "data": {
      "text/html": "(1 row affected)"
     },
     "metadata": {}
    },
    {
     "output_type": "display_data",
     "data": {
      "text/html": "(1 row affected)"
     },
     "metadata": {}
    },
    {
     "output_type": "display_data",
     "data": {
      "text/html": "(1 row affected)"
     },
     "metadata": {}
    },
    {
     "output_type": "display_data",
     "data": {
      "text/html": "(1 row affected)"
     },
     "metadata": {}
    },
    {
     "output_type": "display_data",
     "data": {
      "text/html": "(1 row affected)"
     },
     "metadata": {}
    },
    {
     "output_type": "display_data",
     "data": {
      "text/html": "(1 row affected)"
     },
     "metadata": {}
    },
    {
     "output_type": "display_data",
     "data": {
      "text/html": "(1 row affected)"
     },
     "metadata": {}
    },
    {
     "output_type": "display_data",
     "data": {
      "text/html": "(1 row affected)"
     },
     "metadata": {}
    },
    {
     "output_type": "display_data",
     "data": {
      "text/html": "(1 row affected)"
     },
     "metadata": {}
    },
    {
     "output_type": "display_data",
     "data": {
      "text/html": "(1 row affected)"
     },
     "metadata": {}
    },
    {
     "output_type": "display_data",
     "data": {
      "text/html": "(1 row affected)"
     },
     "metadata": {}
    },
    {
     "output_type": "display_data",
     "data": {
      "text/html": "(1 row affected)"
     },
     "metadata": {}
    },
    {
     "output_type": "display_data",
     "data": {
      "text/html": "(1 row affected)"
     },
     "metadata": {}
    },
    {
     "output_type": "display_data",
     "data": {
      "text/html": "(1 row affected)"
     },
     "metadata": {}
    },
    {
     "output_type": "display_data",
     "data": {
      "text/html": "(1 row affected)"
     },
     "metadata": {}
    },
    {
     "output_type": "display_data",
     "data": {
      "text/html": "(1 row affected)"
     },
     "metadata": {}
    },
    {
     "output_type": "display_data",
     "data": {
      "text/html": "(1 row affected)"
     },
     "metadata": {}
    },
    {
     "output_type": "display_data",
     "data": {
      "text/html": "(1 row affected)"
     },
     "metadata": {}
    },
    {
     "output_type": "display_data",
     "data": {
      "text/html": "(1 row affected)"
     },
     "metadata": {}
    },
    {
     "output_type": "display_data",
     "data": {
      "text/html": "(1 row affected)"
     },
     "metadata": {}
    },
    {
     "output_type": "display_data",
     "data": {
      "text/html": "(1 row affected)"
     },
     "metadata": {}
    },
    {
     "output_type": "display_data",
     "data": {
      "text/html": "(1 row affected)"
     },
     "metadata": {}
    },
    {
     "output_type": "display_data",
     "data": {
      "text/html": "(1 row affected)"
     },
     "metadata": {}
    },
    {
     "output_type": "display_data",
     "data": {
      "text/html": "(1 row affected)"
     },
     "metadata": {}
    },
    {
     "output_type": "display_data",
     "data": {
      "text/html": "(1 row affected)"
     },
     "metadata": {}
    },
    {
     "output_type": "display_data",
     "data": {
      "text/html": "(1 row affected)"
     },
     "metadata": {}
    },
    {
     "output_type": "display_data",
     "data": {
      "text/html": "(1 row affected)"
     },
     "metadata": {}
    },
    {
     "output_type": "display_data",
     "data": {
      "text/html": "(1 row affected)"
     },
     "metadata": {}
    },
    {
     "output_type": "display_data",
     "data": {
      "text/html": "(1 row affected)"
     },
     "metadata": {}
    },
    {
     "output_type": "display_data",
     "data": {
      "text/html": "(1 row affected)"
     },
     "metadata": {}
    },
    {
     "output_type": "display_data",
     "data": {
      "text/html": "(1 row affected)"
     },
     "metadata": {}
    },
    {
     "output_type": "display_data",
     "data": {
      "text/html": "(1 row affected)"
     },
     "metadata": {}
    },
    {
     "output_type": "display_data",
     "data": {
      "text/html": "(1 row affected)"
     },
     "metadata": {}
    },
    {
     "output_type": "display_data",
     "data": {
      "text/html": "(1 row affected)"
     },
     "metadata": {}
    },
    {
     "output_type": "display_data",
     "data": {
      "text/html": "(1 row affected)"
     },
     "metadata": {}
    },
    {
     "output_type": "display_data",
     "data": {
      "text/html": "(1 row affected)"
     },
     "metadata": {}
    },
    {
     "output_type": "display_data",
     "data": {
      "text/html": "(1 row affected)"
     },
     "metadata": {}
    },
    {
     "output_type": "display_data",
     "data": {
      "text/html": "(1 row affected)"
     },
     "metadata": {}
    },
    {
     "output_type": "display_data",
     "data": {
      "text/html": "(1 row affected)"
     },
     "metadata": {}
    },
    {
     "output_type": "display_data",
     "data": {
      "text/html": "(1 row affected)"
     },
     "metadata": {}
    },
    {
     "output_type": "display_data",
     "data": {
      "text/html": "(1 row affected)"
     },
     "metadata": {}
    },
    {
     "output_type": "display_data",
     "data": {
      "text/html": "(1 row affected)"
     },
     "metadata": {}
    },
    {
     "output_type": "display_data",
     "data": {
      "text/html": "(1 row affected)"
     },
     "metadata": {}
    },
    {
     "output_type": "display_data",
     "data": {
      "text/html": "(1 row affected)"
     },
     "metadata": {}
    },
    {
     "output_type": "display_data",
     "data": {
      "text/html": "(1 row affected)"
     },
     "metadata": {}
    },
    {
     "output_type": "display_data",
     "data": {
      "text/html": "(1 row affected)"
     },
     "metadata": {}
    },
    {
     "output_type": "display_data",
     "data": {
      "text/html": "(1 row affected)"
     },
     "metadata": {}
    },
    {
     "output_type": "display_data",
     "data": {
      "text/html": "(1 row affected)"
     },
     "metadata": {}
    },
    {
     "output_type": "display_data",
     "data": {
      "text/html": "(1 row affected)"
     },
     "metadata": {}
    },
    {
     "output_type": "display_data",
     "data": {
      "text/html": "(1 row affected)"
     },
     "metadata": {}
    },
    {
     "output_type": "display_data",
     "data": {
      "text/html": "(1 row affected)"
     },
     "metadata": {}
    },
    {
     "output_type": "display_data",
     "data": {
      "text/html": "(1 row affected)"
     },
     "metadata": {}
    },
    {
     "output_type": "display_data",
     "data": {
      "text/html": "(1 row affected)"
     },
     "metadata": {}
    },
    {
     "output_type": "display_data",
     "data": {
      "text/html": "(1 row affected)"
     },
     "metadata": {}
    },
    {
     "output_type": "display_data",
     "data": {
      "text/html": "(1 row affected)"
     },
     "metadata": {}
    },
    {
     "output_type": "display_data",
     "data": {
      "text/html": "(1 row affected)"
     },
     "metadata": {}
    },
    {
     "output_type": "display_data",
     "data": {
      "text/html": "(1 row affected)"
     },
     "metadata": {}
    },
    {
     "output_type": "display_data",
     "data": {
      "text/html": "(1 row affected)"
     },
     "metadata": {}
    },
    {
     "output_type": "display_data",
     "data": {
      "text/html": "(1 row affected)"
     },
     "metadata": {}
    },
    {
     "output_type": "display_data",
     "data": {
      "text/html": "(1 row affected)"
     },
     "metadata": {}
    },
    {
     "output_type": "display_data",
     "data": {
      "text/html": "(1 row affected)"
     },
     "metadata": {}
    },
    {
     "output_type": "display_data",
     "data": {
      "text/html": "(1 row affected)"
     },
     "metadata": {}
    },
    {
     "output_type": "display_data",
     "data": {
      "text/html": "(1 row affected)"
     },
     "metadata": {}
    },
    {
     "output_type": "display_data",
     "data": {
      "text/html": "(1 row affected)"
     },
     "metadata": {}
    },
    {
     "output_type": "display_data",
     "data": {
      "text/html": "(1 row affected)"
     },
     "metadata": {}
    },
    {
     "output_type": "display_data",
     "data": {
      "text/html": "(1 row affected)"
     },
     "metadata": {}
    },
    {
     "output_type": "display_data",
     "data": {
      "text/html": "(1 row affected)"
     },
     "metadata": {}
    },
    {
     "output_type": "display_data",
     "data": {
      "text/html": "(1 row affected)"
     },
     "metadata": {}
    },
    {
     "output_type": "display_data",
     "data": {
      "text/html": "(1 row affected)"
     },
     "metadata": {}
    },
    {
     "output_type": "display_data",
     "data": {
      "text/html": "(1 row affected)"
     },
     "metadata": {}
    },
    {
     "output_type": "display_data",
     "data": {
      "text/html": "(1 row affected)"
     },
     "metadata": {}
    },
    {
     "output_type": "display_data",
     "data": {
      "text/html": "(1 row affected)"
     },
     "metadata": {}
    },
    {
     "output_type": "display_data",
     "data": {
      "text/html": "(1 row affected)"
     },
     "metadata": {}
    },
    {
     "output_type": "display_data",
     "data": {
      "text/html": "(1 row affected)"
     },
     "metadata": {}
    },
    {
     "output_type": "display_data",
     "data": {
      "text/html": "(1 row affected)"
     },
     "metadata": {}
    },
    {
     "output_type": "display_data",
     "data": {
      "text/html": "(1 row affected)"
     },
     "metadata": {}
    },
    {
     "output_type": "display_data",
     "data": {
      "text/html": "(1 row affected)"
     },
     "metadata": {}
    },
    {
     "output_type": "display_data",
     "data": {
      "text/html": "(1 row affected)"
     },
     "metadata": {}
    },
    {
     "output_type": "display_data",
     "data": {
      "text/html": "(1 row affected)"
     },
     "metadata": {}
    },
    {
     "output_type": "display_data",
     "data": {
      "text/html": "Total execution time: 00:00:00.147"
     },
     "metadata": {}
    }
   ],
   "execution_count": 80
  },
  {
   "cell_type": "markdown",
   "source": [
    "# **3\\. TABLE RESULTS VISUELIZATION**"
   ],
   "metadata": {
    "azdata_cell_guid": "4287477c-c97e-41a3-b719-529ce5ace2b9"
   },
   "attachments": {}
  },
  {
   "cell_type": "code",
   "source": [
    "SELECT * FROM Professors"
   ],
   "metadata": {
    "azdata_cell_guid": "ba6f313c-54a6-4fa5-ac9c-6c44608a3c56",
    "language": "sql"
   },
   "outputs": [
    {
     "output_type": "display_data",
     "data": {
      "text/html": "(86 rows affected)"
     },
     "metadata": {}
    },
    {
     "output_type": "display_data",
     "data": {
      "text/html": "Total execution time: 00:00:00.068"
     },
     "metadata": {}
    },
    {
     "output_type": "execute_result",
     "execution_count": 81,
     "data": {
      "application/vnd.dataresource+json": {
       "schema": {
        "fields": [
         {
          "name": "profCode"
         },
         {
          "name": "firstName"
         },
         {
          "name": "lastName"
         },
         {
          "name": "email"
         },
         {
          "name": "numberOfCourses"
         }
        ]
       },
       "data": [
        {
         "profCode": "1",
         "firstName": "Марјан",
         "lastName": "Гушев",
         "email": "marjan.gushev@finki.ukim.mk",
         "numberOfCourses": "NULL"
        },
        {
         "profCode": "2",
         "firstName": "Катерина",
         "lastName": "Здравкова",
         "email": "katerina.zdravkova@finki.ukim.mk",
         "numberOfCourses": "NULL"
        },
        {
         "profCode": "3",
         "firstName": "Сузана",
         "lastName": "Лошковска",
         "email": "suzana.loshkovska@finki.ukim.mk",
         "numberOfCourses": "NULL"
        },
        {
         "profCode": "4",
         "firstName": "Коста",
         "lastName": "Митрески",
         "email": "kosta.mitreski@finki.ukim.mk",
         "numberOfCourses": "NULL"
        },
        {
         "profCode": "5",
         "firstName": "Верица",
         "lastName": "Бакева",
         "email": "verica.bakeva@finki.ukim.mk",
         "numberOfCourses": "NULL"
        },
        {
         "profCode": "6",
         "firstName": "Владимир",
         "lastName": "Трајковиќ",
         "email": "vladimir.trajkovik@finki.ukim.mk",
         "numberOfCourses": "NULL"
        },
        {
         "profCode": "7",
         "firstName": "Ана",
         "lastName": "Мадевска Богданова",
         "email": "ana.madevska@finki.ukim.mk",
         "numberOfCourses": "NULL"
        },
        {
         "profCode": "8",
         "firstName": "Дејан",
         "lastName": "Ѓорѓевиќ",
         "email": "dejan.gjorgjevikj@finki.ukim.mk",
         "numberOfCourses": "NULL"
        },
        {
         "profCode": "9",
         "firstName": "Димитар",
         "lastName": "Трајанов",
         "email": "dimitar.trajanov@finki.ukim.mk",
         "numberOfCourses": "NULL"
        },
        {
         "profCode": "10",
         "firstName": "Андреа",
         "lastName": "Кулаков",
         "email": "andrea.kulakov@finki.ukim.mk",
         "numberOfCourses": "NULL"
        },
        {
         "profCode": "11",
         "firstName": "Љупчо",
         "lastName": "Антовски",
         "email": "ljupcho.antovski@finki.ukim.mk",
         "numberOfCourses": "NULL"
        },
        {
         "profCode": "12",
         "firstName": "Марија",
         "lastName": "Михова",
         "email": "marija.mihova@finki.ukim.mk",
         "numberOfCourses": "NULL"
        },
        {
         "profCode": "13",
         "firstName": "Слободан",
         "lastName": "Калајџиски",
         "email": "slobodan.kalajdziski@finki.ukim.mk",
         "numberOfCourses": "NULL"
        },
        {
         "profCode": "14",
         "firstName": "Невена",
         "lastName": "Ацковска",
         "email": "nevena.ackovska@finki.ukim.mk",
         "numberOfCourses": "NULL"
        },
        {
         "profCode": "15",
         "firstName": "Горан",
         "lastName": "Велинов",
         "email": "goran.velinov@finki.ukim.mk",
         "numberOfCourses": "NULL"
        },
        {
         "profCode": "16",
         "firstName": "Анастас",
         "lastName": "Мишев",
         "email": "anastas.mishev@finki.ukim.mk",
         "numberOfCourses": "NULL"
        },
        {
         "profCode": "17",
         "firstName": "Соња",
         "lastName": "Филипоска",
         "email": "sonja.filiposka@finki.ukim.mk",
         "numberOfCourses": "NULL"
        },
        {
         "profCode": "18",
         "firstName": "Иван",
         "lastName": "Чорбев",
         "email": "ivan.chorbev@finki.ukim.mk",
         "numberOfCourses": "NULL"
        },
        {
         "profCode": "19",
         "firstName": "Ласко",
         "lastName": "Баснарков",
         "email": "lasko.basnarkov@finki.ukim.mk",
         "numberOfCourses": "NULL"
        },
        {
         "profCode": "20",
         "firstName": "Боро",
         "lastName": "Јакимовски",
         "email": "boro.jakimovski@finki.ukim.mk",
         "numberOfCourses": "NULL"
        },
        {
         "profCode": "21",
         "firstName": "Весна",
         "lastName": "Димитрова",
         "email": "vesna.dimitrova@finki.ukim.mk",
         "numberOfCourses": "NULL"
        },
        {
         "profCode": "22",
         "firstName": "Гоце",
         "lastName": "Арменски",
         "email": "goce.armenski@finki.ukim.mk",
         "numberOfCourses": "NULL"
        },
        {
         "profCode": "23",
         "firstName": "Соња",
         "lastName": "Гиевска",
         "email": "sonja.gievska@finki.ukim.mk",
         "numberOfCourses": "NULL"
        },
        {
         "profCode": "24",
         "firstName": "Дејан",
         "lastName": "Спасов",
         "email": "dejan.spasov@finki.ukim.mk",
         "numberOfCourses": "NULL"
        },
        {
         "profCode": "25",
         "firstName": "Ивица",
         "lastName": "Димитровски",
         "email": "ivica.dimitrovski@finki.ukim.mk",
         "numberOfCourses": "NULL"
        },
        {
         "profCode": "26",
         "firstName": "Игор",
         "lastName": "Мишковски",
         "email": "igor.mishkovski@finki.ukim.mk",
         "numberOfCourses": "NULL"
        },
        {
         "profCode": "27",
         "firstName": "Ѓорѓи",
         "lastName": "Маџаров",
         "email": "gjorgji.madjarov@finki.ukim.mk",
         "numberOfCourses": "NULL"
        },
        {
         "profCode": "28",
         "firstName": "Смилка",
         "lastName": "Јанеска-Саркањац",
         "email": "smilka.janeska.sarkanjac@finki.ukim.mk",
         "numberOfCourses": "NULL"
        },
        {
         "profCode": "29",
         "firstName": "Вангел",
         "lastName": "Ајановски",
         "email": "vangel.ajanovski@finki.ukim.mk",
         "numberOfCourses": "NULL"
        },
        {
         "profCode": "30",
         "firstName": "Весна",
         "lastName": "Димитриевска Ристовска",
         "email": "vesna.dimitrievska.ristovska@finki.ukim.mk",
         "numberOfCourses": "NULL"
        },
        {
         "profCode": "31",
         "firstName": "Миле",
         "lastName": "Јованов",
         "email": "mile.jovanov@finki.ukim.mk",
         "numberOfCourses": "NULL"
        },
        {
         "profCode": "32",
         "firstName": "Билјана",
         "lastName": "Стојкоска",
         "email": "biljana.stojkoska@finki.ukim.mk",
         "numberOfCourses": "NULL"
        },
        {
         "profCode": "33",
         "firstName": "Кире",
         "lastName": "Триводалиев",
         "email": "kire.trivodaliev@finki.ukim.mk",
         "numberOfCourses": "NULL"
        },
        {
         "profCode": "34",
         "firstName": "Сашо",
         "lastName": "Граматиков",
         "email": "sasho.gramatikov@finki.ukim.mk",
         "numberOfCourses": "NULL"
        },
        {
         "profCode": "35",
         "firstName": "Мирослав",
         "lastName": "Мирчев",
         "email": "miroslav.mirchev@finki.ukim.mk",
         "numberOfCourses": "NULL"
        },
        {
         "profCode": "36",
         "firstName": "Георгина",
         "lastName": "Мирчева",
         "email": "georgina.mircheva@finki.ukim.mk",
         "numberOfCourses": "NULL"
        },
        {
         "profCode": "37",
         "firstName": "Магдалена",
         "lastName": "Костоска",
         "email": "magdalena.kostoska@finki.ukim.mk",
         "numberOfCourses": "NULL"
        },
        {
         "profCode": "38",
         "firstName": "Александра",
         "lastName": "Поповска Митровиќ",
         "email": "aleksandra.popovska.mitrovikj@finki.ukim.mk",
         "numberOfCourses": "NULL"
        },
        {
         "profCode": "39",
         "firstName": "Наташа",
         "lastName": "Илиевска",
         "email": "natasha.ilievska@finki.ukim.mk",
         "numberOfCourses": "NULL"
        },
        {
         "profCode": "40",
         "firstName": "Билјана",
         "lastName": "Тојтовска",
         "email": "biljana.tojtovska@finki.ukim.mk",
         "numberOfCourses": "NULL"
        },
        {
         "profCode": "41",
         "firstName": "Милош",
         "lastName": "Јовановиќ",
         "email": "milos.jovanovik@finki.ukim.mk",
         "numberOfCourses": "NULL"
        },
        {
         "profCode": "42",
         "firstName": "Андреја",
         "lastName": "Наумоски",
         "email": "andreja.naumoski@finki.ukim.mk",
         "numberOfCourses": "NULL"
        },
        {
         "profCode": "43",
         "firstName": "Панче",
         "lastName": "Рибарски",
         "email": "pance.ribarski@finki.ukim.mk",
         "numberOfCourses": "NULL"
        },
        {
         "profCode": "44",
         "firstName": "Христина",
         "lastName": "Михајлоска",
         "email": "hristina.mihajloska@finki.ukim.mk",
         "numberOfCourses": "NULL"
        },
        {
         "profCode": "45",
         "firstName": "Иван",
         "lastName": "Китановски",
         "email": "ivan.kitanovski@finki.ukim.mk",
         "numberOfCourses": "NULL"
        },
        {
         "profCode": "46",
         "firstName": "Ефтим",
         "lastName": "Здравевски",
         "email": "eftim.zdravevski@finki.ukim.mk",
         "numberOfCourses": "NULL"
        },
        {
         "profCode": "47",
         "firstName": "Петре",
         "lastName": "Ламески",
         "email": "petre.lameski@finki.ukim.mk",
         "numberOfCourses": "NULL"
        },
        {
         "profCode": "48",
         "firstName": "Катарина",
         "lastName": "Тројачанец Динева",
         "email": "katarina.trojacanec@finki.ukim.mk",
         "numberOfCourses": "NULL"
        },
        {
         "profCode": "49",
         "firstName": "Владимир",
         "lastName": "Здравески",
         "email": "vladimir.zdraveski@finki.ukim.mk",
         "numberOfCourses": "NULL"
        },
        {
         "profCode": "50",
         "firstName": "Бојана",
         "lastName": "Котеска",
         "email": "bojana.koteska@finki.ukim.mk",
         "numberOfCourses": "NULL"
        },
        {
         "profCode": "51",
         "firstName": "Моника",
         "lastName": "Симјаноска",
         "email": "monika.simjanoska@finki.ukim.mk",
         "numberOfCourses": "NULL"
        },
        {
         "profCode": "52",
         "firstName": "Методија",
         "lastName": "Јанчески",
         "email": "metodija.jancheski@finki.ukim.mk",
         "numberOfCourses": "NULL"
        },
        {
         "profCode": "53",
         "firstName": "Ристе",
         "lastName": "Стојанов",
         "email": "riste.stojanov@finki.ukim.mk",
         "numberOfCourses": "NULL"
        },
        {
         "profCode": "54",
         "firstName": "Александра",
         "lastName": "Дединец",
         "email": "aleksandra.dedinec@finki.ukim.mk",
         "numberOfCourses": "NULL"
        },
        {
         "profCode": "55",
         "firstName": "Емил",
         "lastName": "Станков",
         "email": "emil.stankov@finki.ukim.mk",
         "numberOfCourses": "NULL"
        },
        {
         "profCode": "56",
         "firstName": "Борис",
         "lastName": "Станоев",
         "email": "boris.stanoev@finki.ukim.mk",
         "numberOfCourses": "NULL"
        },
        {
         "profCode": "57",
         "firstName": "Бобан",
         "lastName": "Јоксимоски",
         "email": "boban.joksimoski@finki.ukim.mk",
         "numberOfCourses": "NULL"
        },
        {
         "profCode": "58",
         "firstName": "Илинка",
         "lastName": "Иваноска",
         "email": "ilinka.ivanoska@finki.ukim.mk",
         "numberOfCourses": "NULL"
        },
        {
         "profCode": "59",
         "firstName": "Бојан",
         "lastName": "Илијоски",
         "email": "bojan.ilijoski@finki.ukim.mk",
         "numberOfCourses": "NULL"
        },
        {
         "profCode": "60",
         "firstName": "Костадин",
         "lastName": "Мишев",
         "email": "kostadin.mishev@finki.ukim.mk",
         "numberOfCourses": "NULL"
        },
        {
         "profCode": "61",
         "firstName": "Александар",
         "lastName": "Тенев",
         "email": "aleksandar.tenev@finki.ukim.mk",
         "numberOfCourses": "NULL"
        },
        {
         "profCode": "62",
         "firstName": "Александар",
         "lastName": "Стојменски",
         "email": "aleksandar.stojmenski@finki.ukim.mk",
         "numberOfCourses": "NULL"
        },
        {
         "profCode": "63",
         "firstName": "Ненад",
         "lastName": "Анчев",
         "email": "nenad.anchev@finki.ukim.mk",
         "numberOfCourses": "NULL"
        },
        {
         "profCode": "64",
         "firstName": "Војдан",
         "lastName": "Ќорвезироски",
         "email": "vojdan.kjorveziroski@finki.ukim.mk",
         "numberOfCourses": "NULL"
        },
        {
         "profCode": "65",
         "firstName": "Мартина",
         "lastName": "Тошевска",
         "email": "martina.toshevska@finki.ukim.mk",
         "numberOfCourses": "NULL"
        },
        {
         "profCode": "66",
         "firstName": "Влатко",
         "lastName": "Спасев",
         "email": "vlatko.spasev@finki.ukim.mk",
         "numberOfCourses": "NULL"
        },
        {
         "profCode": "67",
         "firstName": "Петар",
         "lastName": "Секулоски",
         "email": "petar.sekuloski@finki.ukim.mk",
         "numberOfCourses": "NULL"
        },
        {
         "profCode": "68",
         "firstName": "Стефан",
         "lastName": "Андонов",
         "email": "stefan.andonov@finki.ukim.mk",
         "numberOfCourses": "NULL"
        },
        {
         "profCode": "69",
         "firstName": "Кирил",
         "lastName": "Ќироски",
         "email": "kiril.kjiroski@finki.ukim.mk",
         "numberOfCourses": "NULL"
        },
        {
         "profCode": "70",
         "firstName": "Ана",
         "lastName": "Тодоровска",
         "email": "ana.todorovska@finki.ukim.mk",
         "numberOfCourses": "NULL"
        },
        {
         "profCode": "71",
         "firstName": "Јована",
         "lastName": "Добрева",
         "email": "jovana.dobreva@finki.ukim.mk",
         "numberOfCourses": "NULL"
        },
        {
         "profCode": "72",
         "firstName": "Јана",
         "lastName": "Кузманова",
         "email": "jana.kuzmanova@finki.ukim.mk",
         "numberOfCourses": "NULL"
        },
        {
         "profCode": "73",
         "firstName": "Димитар",
         "lastName": "Китановски",
         "email": "dimitar.kitanovski@finki.ukim.mk",
         "numberOfCourses": "NULL"
        },
        {
         "profCode": "74",
         "firstName": "Томе",
         "lastName": "Ефтимов",
         "email": "tome.eftimov@finki.ukim.mk",
         "numberOfCourses": "NULL"
        },
        {
         "profCode": "75",
         "firstName": "Андреј",
         "lastName": "Ристески",
         "email": "andrej.risteski@finki.ukim.mk",
         "numberOfCourses": "NULL"
        },
        {
         "profCode": "76",
         "firstName": "Славе",
         "lastName": "Темков",
         "email": "slave.temkov@finki.ukim.mk",
         "numberOfCourses": "NULL"
        },
        {
         "profCode": "77",
         "firstName": "Милена",
         "lastName": "Трајаноска",
         "email": "milena.trajanoska@finki.ukim.mk",
         "numberOfCourses": "NULL"
        },
        {
         "profCode": "78",
         "firstName": "Живко",
         "lastName": "Атанаскоски",
         "email": "zhivko.atanaskoski@finki.ukim.mk",
         "numberOfCourses": "NULL"
        },
        {
         "profCode": "79",
         "firstName": "Димитар",
         "lastName": "Милески",
         "email": "dimitar.mileski@finki.ukim.mk",
         "numberOfCourses": "NULL"
        },
        {
         "profCode": "80",
         "firstName": "Зорица",
         "lastName": "Карапанчева",
         "email": "zorica.karapancheva@finki.ukim.mk",
         "numberOfCourses": "NULL"
        },
        {
         "profCode": "81",
         "firstName": "Марија",
         "lastName": "Танеска",
         "email": "marija.taneska@finki.ukim.mk",
         "numberOfCourses": "NULL"
        },
        {
         "profCode": "82",
         "firstName": "Мила",
         "lastName": "Додевска",
         "email": "mila.dodevska@finki.ukim.mk",
         "numberOfCourses": "NULL"
        },
        {
         "profCode": "83",
         "firstName": "Ана",
         "lastName": "Атанасова",
         "email": "ana.atanasova@finki.ukim.mk",
         "numberOfCourses": "NULL"
        },
        {
         "profCode": "84",
         "firstName": "Александар",
         "lastName": "Петрушев",
         "email": "aleksandar.petrushev@finki.ukim.mk",
         "numberOfCourses": "NULL"
        },
        {
         "profCode": "85",
         "firstName": "Мартин",
         "lastName": "Динев",
         "email": "martin.dinev@finki.ukim.mk",
         "numberOfCourses": "NULL"
        },
        {
         "profCode": "86",
         "firstName": "Владислав",
         "lastName": "Бидиков",
         "email": "vladislav.bidikov@finki.ukim.mk",
         "numberOfCourses": "NULL"
        }
       ]
      },
      "text/html": "<table><tr><th>profCode</th><th>firstName</th><th>lastName</th><th>email</th><th>numberOfCourses</th></tr><tr><td>1</td><td>Марјан</td><td>Гушев</td><td>marjan.gushev@finki.ukim.mk</td><td>NULL</td></tr><tr><td>2</td><td>Катерина</td><td>Здравкова</td><td>katerina.zdravkova@finki.ukim.mk</td><td>NULL</td></tr><tr><td>3</td><td>Сузана</td><td>Лошковска</td><td>suzana.loshkovska@finki.ukim.mk</td><td>NULL</td></tr><tr><td>4</td><td>Коста</td><td>Митрески</td><td>kosta.mitreski@finki.ukim.mk</td><td>NULL</td></tr><tr><td>5</td><td>Верица</td><td>Бакева</td><td>verica.bakeva@finki.ukim.mk</td><td>NULL</td></tr><tr><td>6</td><td>Владимир</td><td>Трајковиќ</td><td>vladimir.trajkovik@finki.ukim.mk</td><td>NULL</td></tr><tr><td>7</td><td>Ана</td><td>Мадевска Богданова</td><td>ana.madevska@finki.ukim.mk</td><td>NULL</td></tr><tr><td>8</td><td>Дејан</td><td>Ѓорѓевиќ</td><td>dejan.gjorgjevikj@finki.ukim.mk</td><td>NULL</td></tr><tr><td>9</td><td>Димитар</td><td>Трајанов</td><td>dimitar.trajanov@finki.ukim.mk</td><td>NULL</td></tr><tr><td>10</td><td>Андреа</td><td>Кулаков</td><td>andrea.kulakov@finki.ukim.mk</td><td>NULL</td></tr><tr><td>11</td><td>Љупчо</td><td>Антовски</td><td>ljupcho.antovski@finki.ukim.mk</td><td>NULL</td></tr><tr><td>12</td><td>Марија</td><td>Михова</td><td>marija.mihova@finki.ukim.mk</td><td>NULL</td></tr><tr><td>13</td><td>Слободан</td><td>Калајџиски</td><td>slobodan.kalajdziski@finki.ukim.mk</td><td>NULL</td></tr><tr><td>14</td><td>Невена</td><td>Ацковска</td><td>nevena.ackovska@finki.ukim.mk</td><td>NULL</td></tr><tr><td>15</td><td>Горан</td><td>Велинов</td><td>goran.velinov@finki.ukim.mk</td><td>NULL</td></tr><tr><td>16</td><td>Анастас</td><td>Мишев</td><td>anastas.mishev@finki.ukim.mk</td><td>NULL</td></tr><tr><td>17</td><td>Соња</td><td>Филипоска</td><td>sonja.filiposka@finki.ukim.mk</td><td>NULL</td></tr><tr><td>18</td><td>Иван</td><td>Чорбев</td><td>ivan.chorbev@finki.ukim.mk</td><td>NULL</td></tr><tr><td>19</td><td>Ласко</td><td>Баснарков</td><td>lasko.basnarkov@finki.ukim.mk</td><td>NULL</td></tr><tr><td>20</td><td>Боро</td><td>Јакимовски</td><td>boro.jakimovski@finki.ukim.mk</td><td>NULL</td></tr><tr><td>21</td><td>Весна</td><td>Димитрова</td><td>vesna.dimitrova@finki.ukim.mk</td><td>NULL</td></tr><tr><td>22</td><td>Гоце</td><td>Арменски</td><td>goce.armenski@finki.ukim.mk</td><td>NULL</td></tr><tr><td>23</td><td>Соња</td><td>Гиевска</td><td>sonja.gievska@finki.ukim.mk</td><td>NULL</td></tr><tr><td>24</td><td>Дејан</td><td>Спасов</td><td>dejan.spasov@finki.ukim.mk</td><td>NULL</td></tr><tr><td>25</td><td>Ивица</td><td>Димитровски</td><td>ivica.dimitrovski@finki.ukim.mk</td><td>NULL</td></tr><tr><td>26</td><td>Игор</td><td>Мишковски</td><td>igor.mishkovski@finki.ukim.mk</td><td>NULL</td></tr><tr><td>27</td><td>Ѓорѓи</td><td>Маџаров</td><td>gjorgji.madjarov@finki.ukim.mk</td><td>NULL</td></tr><tr><td>28</td><td>Смилка</td><td>Јанеска-Саркањац</td><td>smilka.janeska.sarkanjac@finki.ukim.mk</td><td>NULL</td></tr><tr><td>29</td><td>Вангел</td><td>Ајановски</td><td>vangel.ajanovski@finki.ukim.mk</td><td>NULL</td></tr><tr><td>30</td><td>Весна</td><td>Димитриевска Ристовска</td><td>vesna.dimitrievska.ristovska@finki.ukim.mk</td><td>NULL</td></tr><tr><td>31</td><td>Миле</td><td>Јованов</td><td>mile.jovanov@finki.ukim.mk</td><td>NULL</td></tr><tr><td>32</td><td>Билјана</td><td>Стојкоска</td><td>biljana.stojkoska@finki.ukim.mk</td><td>NULL</td></tr><tr><td>33</td><td>Кире</td><td>Триводалиев</td><td>kire.trivodaliev@finki.ukim.mk</td><td>NULL</td></tr><tr><td>34</td><td>Сашо</td><td>Граматиков</td><td>sasho.gramatikov@finki.ukim.mk</td><td>NULL</td></tr><tr><td>35</td><td>Мирослав</td><td>Мирчев</td><td>miroslav.mirchev@finki.ukim.mk</td><td>NULL</td></tr><tr><td>36</td><td>Георгина</td><td>Мирчева</td><td>georgina.mircheva@finki.ukim.mk</td><td>NULL</td></tr><tr><td>37</td><td>Магдалена</td><td>Костоска</td><td>magdalena.kostoska@finki.ukim.mk</td><td>NULL</td></tr><tr><td>38</td><td>Александра</td><td>Поповска Митровиќ</td><td>aleksandra.popovska.mitrovikj@finki.ukim.mk</td><td>NULL</td></tr><tr><td>39</td><td>Наташа</td><td>Илиевска</td><td>natasha.ilievska@finki.ukim.mk</td><td>NULL</td></tr><tr><td>40</td><td>Билјана</td><td>Тојтовска</td><td>biljana.tojtovska@finki.ukim.mk</td><td>NULL</td></tr><tr><td>41</td><td>Милош</td><td>Јовановиќ</td><td>milos.jovanovik@finki.ukim.mk</td><td>NULL</td></tr><tr><td>42</td><td>Андреја</td><td>Наумоски</td><td>andreja.naumoski@finki.ukim.mk</td><td>NULL</td></tr><tr><td>43</td><td>Панче</td><td>Рибарски</td><td>pance.ribarski@finki.ukim.mk</td><td>NULL</td></tr><tr><td>44</td><td>Христина</td><td>Михајлоска</td><td>hristina.mihajloska@finki.ukim.mk</td><td>NULL</td></tr><tr><td>45</td><td>Иван</td><td>Китановски</td><td>ivan.kitanovski@finki.ukim.mk</td><td>NULL</td></tr><tr><td>46</td><td>Ефтим</td><td>Здравевски</td><td>eftim.zdravevski@finki.ukim.mk</td><td>NULL</td></tr><tr><td>47</td><td>Петре</td><td>Ламески</td><td>petre.lameski@finki.ukim.mk</td><td>NULL</td></tr><tr><td>48</td><td>Катарина</td><td>Тројачанец Динева</td><td>katarina.trojacanec@finki.ukim.mk</td><td>NULL</td></tr><tr><td>49</td><td>Владимир</td><td>Здравески</td><td>vladimir.zdraveski@finki.ukim.mk</td><td>NULL</td></tr><tr><td>50</td><td>Бојана</td><td>Котеска</td><td>bojana.koteska@finki.ukim.mk</td><td>NULL</td></tr><tr><td>51</td><td>Моника</td><td>Симјаноска</td><td>monika.simjanoska@finki.ukim.mk</td><td>NULL</td></tr><tr><td>52</td><td>Методија</td><td>Јанчески</td><td>metodija.jancheski@finki.ukim.mk</td><td>NULL</td></tr><tr><td>53</td><td>Ристе</td><td>Стојанов</td><td>riste.stojanov@finki.ukim.mk</td><td>NULL</td></tr><tr><td>54</td><td>Александра</td><td>Дединец</td><td>aleksandra.dedinec@finki.ukim.mk</td><td>NULL</td></tr><tr><td>55</td><td>Емил</td><td>Станков</td><td>emil.stankov@finki.ukim.mk</td><td>NULL</td></tr><tr><td>56</td><td>Борис</td><td>Станоев</td><td>boris.stanoev@finki.ukim.mk</td><td>NULL</td></tr><tr><td>57</td><td>Бобан</td><td>Јоксимоски</td><td>boban.joksimoski@finki.ukim.mk</td><td>NULL</td></tr><tr><td>58</td><td>Илинка</td><td>Иваноска</td><td>ilinka.ivanoska@finki.ukim.mk</td><td>NULL</td></tr><tr><td>59</td><td>Бојан</td><td>Илијоски</td><td>bojan.ilijoski@finki.ukim.mk</td><td>NULL</td></tr><tr><td>60</td><td>Костадин</td><td>Мишев</td><td>kostadin.mishev@finki.ukim.mk</td><td>NULL</td></tr><tr><td>61</td><td>Александар</td><td>Тенев</td><td>aleksandar.tenev@finki.ukim.mk</td><td>NULL</td></tr><tr><td>62</td><td>Александар</td><td>Стојменски</td><td>aleksandar.stojmenski@finki.ukim.mk</td><td>NULL</td></tr><tr><td>63</td><td>Ненад</td><td>Анчев</td><td>nenad.anchev@finki.ukim.mk</td><td>NULL</td></tr><tr><td>64</td><td>Војдан</td><td>Ќорвезироски</td><td>vojdan.kjorveziroski@finki.ukim.mk</td><td>NULL</td></tr><tr><td>65</td><td>Мартина</td><td>Тошевска</td><td>martina.toshevska@finki.ukim.mk</td><td>NULL</td></tr><tr><td>66</td><td>Влатко</td><td>Спасев</td><td>vlatko.spasev@finki.ukim.mk</td><td>NULL</td></tr><tr><td>67</td><td>Петар</td><td>Секулоски</td><td>petar.sekuloski@finki.ukim.mk</td><td>NULL</td></tr><tr><td>68</td><td>Стефан</td><td>Андонов</td><td>stefan.andonov@finki.ukim.mk</td><td>NULL</td></tr><tr><td>69</td><td>Кирил</td><td>Ќироски</td><td>kiril.kjiroski@finki.ukim.mk</td><td>NULL</td></tr><tr><td>70</td><td>Ана</td><td>Тодоровска</td><td>ana.todorovska@finki.ukim.mk</td><td>NULL</td></tr><tr><td>71</td><td>Јована</td><td>Добрева</td><td>jovana.dobreva@finki.ukim.mk</td><td>NULL</td></tr><tr><td>72</td><td>Јана</td><td>Кузманова</td><td>jana.kuzmanova@finki.ukim.mk</td><td>NULL</td></tr><tr><td>73</td><td>Димитар</td><td>Китановски</td><td>dimitar.kitanovski@finki.ukim.mk</td><td>NULL</td></tr><tr><td>74</td><td>Томе</td><td>Ефтимов</td><td>tome.eftimov@finki.ukim.mk</td><td>NULL</td></tr><tr><td>75</td><td>Андреј</td><td>Ристески</td><td>andrej.risteski@finki.ukim.mk</td><td>NULL</td></tr><tr><td>76</td><td>Славе</td><td>Темков</td><td>slave.temkov@finki.ukim.mk</td><td>NULL</td></tr><tr><td>77</td><td>Милена</td><td>Трајаноска</td><td>milena.trajanoska@finki.ukim.mk</td><td>NULL</td></tr><tr><td>78</td><td>Живко</td><td>Атанаскоски</td><td>zhivko.atanaskoski@finki.ukim.mk</td><td>NULL</td></tr><tr><td>79</td><td>Димитар</td><td>Милески</td><td>dimitar.mileski@finki.ukim.mk</td><td>NULL</td></tr><tr><td>80</td><td>Зорица</td><td>Карапанчева</td><td>zorica.karapancheva@finki.ukim.mk</td><td>NULL</td></tr><tr><td>81</td><td>Марија</td><td>Танеска</td><td>marija.taneska@finki.ukim.mk</td><td>NULL</td></tr><tr><td>82</td><td>Мила</td><td>Додевска</td><td>mila.dodevska@finki.ukim.mk</td><td>NULL</td></tr><tr><td>83</td><td>Ана</td><td>Атанасова</td><td>ana.atanasova@finki.ukim.mk</td><td>NULL</td></tr><tr><td>84</td><td>Александар</td><td>Петрушев</td><td>aleksandar.petrushev@finki.ukim.mk</td><td>NULL</td></tr><tr><td>85</td><td>Мартин</td><td>Динев</td><td>martin.dinev@finki.ukim.mk</td><td>NULL</td></tr><tr><td>86</td><td>Владислав</td><td>Бидиков</td><td>vladislav.bidikov@finki.ukim.mk</td><td>NULL</td></tr></table>"
     },
     "metadata": {}
    }
   ],
   "execution_count": 81
  },
  {
   "cell_type": "code",
   "source": [
    "SELECT * FROM Studies"
   ],
   "metadata": {
    "language": "sql",
    "azdata_cell_guid": "c0bec069-9f68-4aa0-a375-0355eebe8cc9"
   },
   "outputs": [
    {
     "output_type": "display_data",
     "data": {
      "text/html": "(13 rows affected)"
     },
     "metadata": {}
    },
    {
     "output_type": "display_data",
     "data": {
      "text/html": "Total execution time: 00:00:00.026"
     },
     "metadata": {}
    },
    {
     "output_type": "execute_result",
     "execution_count": 82,
     "data": {
      "application/vnd.dataresource+json": {
       "schema": {
        "fields": [
         {
          "name": "studiesCode"
         },
         {
          "name": "name"
         },
         {
          "name": "yearsToComplete"
         }
        ]
       },
       "data": [
        {
         "studiesCode": "0",
         "name": "Интернет, мрежи и безбедност",
         "yearsToComplete": "3"
        },
        {
         "studiesCode": "1",
         "name": "Интернет, мрежи и безбедност",
         "yearsToComplete": "4"
        },
        {
         "studiesCode": "2",
         "name": "Компјутерска едукација",
         "yearsToComplete": "4"
        },
        {
         "studiesCode": "3",
         "name": "Компјутерски науки",
         "yearsToComplete": "3"
        },
        {
         "studiesCode": "4",
         "name": "Компјутерски науки",
         "yearsToComplete": "4"
        },
        {
         "studiesCode": "5",
         "name": "Компјутерско инженерство",
         "yearsToComplete": "3"
        },
        {
         "studiesCode": "6",
         "name": "Компјутерско инженерство",
         "yearsToComplete": "4"
        },
        {
         "studiesCode": "7",
         "name": "Примена на информациски технологии",
         "yearsToComplete": "3"
        },
        {
         "studiesCode": "8",
         "name": "Примена на информациски технологии",
         "yearsToComplete": "4"
        },
        {
         "studiesCode": "9",
         "name": "Софтверско инженерство и информациски технологии",
         "yearsToComplete": "3"
        },
        {
         "studiesCode": "10",
         "name": "Софтверско инженерство и информациски технологии",
         "yearsToComplete": "4"
        },
        {
         "studiesCode": "11",
         "name": "Software engineering and information systems",
         "yearsToComplete": "3"
        },
        {
         "studiesCode": "12",
         "name": "Software engineering and information systems",
         "yearsToComplete": "4"
        }
       ]
      },
      "text/html": "<table><tr><th>studiesCode</th><th>name</th><th>yearsToComplete</th></tr><tr><td>0</td><td>Интернет, мрежи и безбедност</td><td>3</td></tr><tr><td>1</td><td>Интернет, мрежи и безбедност</td><td>4</td></tr><tr><td>2</td><td>Компјутерска едукација</td><td>4</td></tr><tr><td>3</td><td>Компјутерски науки</td><td>3</td></tr><tr><td>4</td><td>Компјутерски науки</td><td>4</td></tr><tr><td>5</td><td>Компјутерско инженерство</td><td>3</td></tr><tr><td>6</td><td>Компјутерско инженерство</td><td>4</td></tr><tr><td>7</td><td>Примена на информациски технологии</td><td>3</td></tr><tr><td>8</td><td>Примена на информациски технологии</td><td>4</td></tr><tr><td>9</td><td>Софтверско инженерство и информациски технологии</td><td>3</td></tr><tr><td>10</td><td>Софтверско инженерство и информациски технологии</td><td>4</td></tr><tr><td>11</td><td>Software engineering and information systems</td><td>3</td></tr><tr><td>12</td><td>Software engineering and information systems</td><td>4</td></tr></table>"
     },
     "metadata": {}
    }
   ],
   "execution_count": 82
  },
  {
   "cell_type": "code",
   "source": [
    "SELECT * FROM MandatoryCourseStudies"
   ],
   "metadata": {
    "language": "sql",
    "azdata_cell_guid": "897cfc19-a432-45d1-a196-598034aed090"
   },
   "outputs": [
    {
     "output_type": "display_data",
     "data": {
      "text/html": "(282 rows affected)"
     },
     "metadata": {}
    },
    {
     "output_type": "display_data",
     "data": {
      "text/html": "Total execution time: 00:00:00.068"
     },
     "metadata": {}
    },
    {
     "output_type": "execute_result",
     "execution_count": 83,
     "data": {
      "application/vnd.dataresource+json": {
       "schema": {
        "fields": [
         {
          "name": "studiesCode"
         },
         {
          "name": "coursesCode"
         },
         {
          "name": "semester"
         }
        ]
       },
       "data": [
        {
         "studiesCode": "0",
         "coursesCode": "0",
         "semester": "2"
        },
        {
         "studiesCode": "1",
         "coursesCode": "0",
         "semester": "2"
        },
        {
         "studiesCode": "2",
         "coursesCode": "0",
         "semester": "2"
        },
        {
         "studiesCode": "3",
         "coursesCode": "0",
         "semester": "2"
        },
        {
         "studiesCode": "4",
         "coursesCode": "0",
         "semester": "2"
        },
        {
         "studiesCode": "5",
         "coursesCode": "0",
         "semester": "2"
        },
        {
         "studiesCode": "6",
         "coursesCode": "0",
         "semester": "2"
        },
        {
         "studiesCode": "7",
         "coursesCode": "0",
         "semester": "2"
        },
        {
         "studiesCode": "8",
         "coursesCode": "0",
         "semester": "2"
        },
        {
         "studiesCode": "9",
         "coursesCode": "0",
         "semester": "2"
        },
        {
         "studiesCode": "10",
         "coursesCode": "0",
         "semester": "2"
        },
        {
         "studiesCode": "11",
         "coursesCode": "0",
         "semester": "2"
        },
        {
         "studiesCode": "12",
         "coursesCode": "0",
         "semester": "2"
        },
        {
         "studiesCode": "0",
         "coursesCode": "1",
         "semester": "6"
        },
        {
         "studiesCode": "1",
         "coursesCode": "1",
         "semester": "8"
        },
        {
         "studiesCode": "2",
         "coursesCode": "1",
         "semester": "8"
        },
        {
         "studiesCode": "3",
         "coursesCode": "1",
         "semester": "6"
        },
        {
         "studiesCode": "4",
         "coursesCode": "1",
         "semester": "8"
        },
        {
         "studiesCode": "5",
         "coursesCode": "1",
         "semester": "6"
        },
        {
         "studiesCode": "6",
         "coursesCode": "1",
         "semester": "8"
        },
        {
         "studiesCode": "7",
         "coursesCode": "1",
         "semester": "6"
        },
        {
         "studiesCode": "8",
         "coursesCode": "1",
         "semester": "8"
        },
        {
         "studiesCode": "9",
         "coursesCode": "1",
         "semester": "6"
        },
        {
         "studiesCode": "10",
         "coursesCode": "1",
         "semester": "8"
        },
        {
         "studiesCode": "11",
         "coursesCode": "1",
         "semester": "6"
        },
        {
         "studiesCode": "12",
         "coursesCode": "1",
         "semester": "8"
        },
        {
         "studiesCode": "2",
         "coursesCode": "2",
         "semester": "7"
        },
        {
         "studiesCode": "3",
         "coursesCode": "F18L1S003",
         "semester": "2"
        },
        {
         "studiesCode": "4",
         "coursesCode": "F18L1S003",
         "semester": "2"
        },
        {
         "studiesCode": "7",
         "coursesCode": "F18L1S003",
         "semester": "2"
        },
        {
         "studiesCode": "8",
         "coursesCode": "F18L1S003",
         "semester": "2"
        },
        {
         "studiesCode": "9",
         "coursesCode": "F18L1S003",
         "semester": "2"
        },
        {
         "studiesCode": "10",
         "coursesCode": "F18L1S003",
         "semester": "2"
        },
        {
         "studiesCode": "11",
         "coursesCode": "F18L1S003",
         "semester": "2"
        },
        {
         "studiesCode": "12",
         "coursesCode": "F18L1S003",
         "semester": "2"
        },
        {
         "studiesCode": "0",
         "coursesCode": "F18L1S013",
         "semester": "1"
        },
        {
         "studiesCode": "1",
         "coursesCode": "F18L1S013",
         "semester": "1"
        },
        {
         "studiesCode": "2",
         "coursesCode": "F18L1S013",
         "semester": "2"
        },
        {
         "studiesCode": "9",
         "coursesCode": "F18L1S013",
         "semester": "1"
        },
        {
         "studiesCode": "10",
         "coursesCode": "F18L1S013",
         "semester": "1"
        },
        {
         "studiesCode": "11",
         "coursesCode": "F18L1S013",
         "semester": "1"
        },
        {
         "studiesCode": "12",
         "coursesCode": "F18L1S013",
         "semester": "1"
        },
        {
         "studiesCode": "9",
         "coursesCode": "F18L1S015",
         "semester": "2"
        },
        {
         "studiesCode": "10",
         "coursesCode": "F18L1S015",
         "semester": "2"
        },
        {
         "studiesCode": "11",
         "coursesCode": "F18L1S015",
         "semester": "2"
        },
        {
         "studiesCode": "12",
         "coursesCode": "F18L1S015",
         "semester": "2"
        },
        {
         "studiesCode": "0",
         "coursesCode": "F18L1S016",
         "semester": "2"
        },
        {
         "studiesCode": "1",
         "coursesCode": "F18L1S016",
         "semester": "2"
        },
        {
         "studiesCode": "2",
         "coursesCode": "F18L1S016",
         "semester": "2"
        },
        {
         "studiesCode": "3",
         "coursesCode": "F18L1S016",
         "semester": "2"
        },
        {
         "studiesCode": "4",
         "coursesCode": "F18L1S016",
         "semester": "2"
        },
        {
         "studiesCode": "5",
         "coursesCode": "F18L1S016",
         "semester": "2"
        },
        {
         "studiesCode": "6",
         "coursesCode": "F18L1S016",
         "semester": "2"
        },
        {
         "studiesCode": "7",
         "coursesCode": "F18L1S016",
         "semester": "2"
        },
        {
         "studiesCode": "8",
         "coursesCode": "F18L1S016",
         "semester": "2"
        },
        {
         "studiesCode": "9",
         "coursesCode": "F18L1S016",
         "semester": "2"
        },
        {
         "studiesCode": "10",
         "coursesCode": "F18L1S016",
         "semester": "2"
        },
        {
         "studiesCode": "11",
         "coursesCode": "F18L1S016",
         "semester": "2"
        },
        {
         "studiesCode": "12",
         "coursesCode": "F18L1S016",
         "semester": "2"
        },
        {
         "studiesCode": "7",
         "coursesCode": "F18L1S023",
         "semester": "2"
        },
        {
         "studiesCode": "8",
         "coursesCode": "F18L1S023",
         "semester": "2"
        },
        {
         "studiesCode": "7",
         "coursesCode": "F18L1S026",
         "semester": "2"
        },
        {
         "studiesCode": "8",
         "coursesCode": "F18L1S026",
         "semester": "2"
        },
        {
         "studiesCode": "3",
         "coursesCode": "F18L1S032",
         "semester": "2"
        },
        {
         "studiesCode": "4",
         "coursesCode": "F18L1S032",
         "semester": "2"
        },
        {
         "studiesCode": "3",
         "coursesCode": "F18L1S034",
         "semester": "2"
        },
        {
         "studiesCode": "4",
         "coursesCode": "F18L1S034",
         "semester": "2"
        },
        {
         "studiesCode": "5",
         "coursesCode": "F18L1S034",
         "semester": "2"
        },
        {
         "studiesCode": "6",
         "coursesCode": "F18L1S034",
         "semester": "2"
        },
        {
         "studiesCode": "0",
         "coursesCode": "F18L1S045",
         "semester": "2"
        },
        {
         "studiesCode": "1",
         "coursesCode": "F18L1S045",
         "semester": "2"
        },
        {
         "studiesCode": "2",
         "coursesCode": "F18L1S045",
         "semester": "2"
        },
        {
         "studiesCode": "5",
         "coursesCode": "F18L1S045",
         "semester": "2"
        },
        {
         "studiesCode": "6",
         "coursesCode": "F18L1S045",
         "semester": "2"
        },
        {
         "studiesCode": "2",
         "coursesCode": "F18L1S052",
         "semester": "2"
        },
        {
         "studiesCode": "0",
         "coursesCode": "F18L1S066",
         "semester": "2"
        },
        {
         "studiesCode": "1",
         "coursesCode": "F18L1S066",
         "semester": "2"
        },
        {
         "studiesCode": "0",
         "coursesCode": "F18L1W005",
         "semester": "1"
        },
        {
         "studiesCode": "1",
         "coursesCode": "F18L1W005",
         "semester": "1"
        },
        {
         "studiesCode": "7",
         "coursesCode": "F18L1W005",
         "semester": "1"
        },
        {
         "studiesCode": "8",
         "coursesCode": "F18L1W005",
         "semester": "1"
        },
        {
         "studiesCode": "9",
         "coursesCode": "F18L1W005",
         "semester": "1"
        },
        {
         "studiesCode": "10",
         "coursesCode": "F18L1W005",
         "semester": "1"
        },
        {
         "studiesCode": "11",
         "coursesCode": "F18L1W005",
         "semester": "1"
        },
        {
         "studiesCode": "12",
         "coursesCode": "F18L1W005",
         "semester": "1"
        },
        {
         "studiesCode": "0",
         "coursesCode": "F18L1W007",
         "semester": "1"
        },
        {
         "studiesCode": "1",
         "coursesCode": "F18L1W007",
         "semester": "1"
        },
        {
         "studiesCode": "2",
         "coursesCode": "F18L1W007",
         "semester": "1"
        },
        {
         "studiesCode": "3",
         "coursesCode": "F18L1W007",
         "semester": "1"
        },
        {
         "studiesCode": "4",
         "coursesCode": "F18L1W007",
         "semester": "1"
        },
        {
         "studiesCode": "7",
         "coursesCode": "F18L1W007",
         "semester": "1"
        },
        {
         "studiesCode": "8",
         "coursesCode": "F18L1W007",
         "semester": "1"
        },
        {
         "studiesCode": "9",
         "coursesCode": "F18L1W007",
         "semester": "1"
        },
        {
         "studiesCode": "10",
         "coursesCode": "F18L1W007",
         "semester": "1"
        },
        {
         "studiesCode": "11",
         "coursesCode": "F18L1W007",
         "semester": "1"
        },
        {
         "studiesCode": "12",
         "coursesCode": "F18L1W007",
         "semester": "1"
        },
        {
         "studiesCode": "0",
         "coursesCode": "F18L1W011",
         "semester": "2"
        },
        {
         "studiesCode": "1",
         "coursesCode": "F18L1W011",
         "semester": "2"
        },
        {
         "studiesCode": "2",
         "coursesCode": "F18L1W011",
         "semester": "1"
        },
        {
         "studiesCode": "5",
         "coursesCode": "F18L1W011",
         "semester": "2"
        },
        {
         "studiesCode": "6",
         "coursesCode": "F18L1W011",
         "semester": "2"
        },
        {
         "studiesCode": "7",
         "coursesCode": "F18L1W011",
         "semester": "1"
        },
        {
         "studiesCode": "8",
         "coursesCode": "F18L1W011",
         "semester": "1"
        },
        {
         "studiesCode": "9",
         "coursesCode": "F18L1W011",
         "semester": "2"
        },
        {
         "studiesCode": "10",
         "coursesCode": "F18L1W011",
         "semester": "2"
        },
        {
         "studiesCode": "11",
         "coursesCode": "F18L1W011",
         "semester": "2"
        },
        {
         "studiesCode": "12",
         "coursesCode": "F18L1W011",
         "semester": "2"
        },
        {
         "studiesCode": "0",
         "coursesCode": "F18L1W018",
         "semester": "1"
        },
        {
         "studiesCode": "1",
         "coursesCode": "F18L1W018",
         "semester": "1"
        },
        {
         "studiesCode": "2",
         "coursesCode": "F18L1W018",
         "semester": "1"
        },
        {
         "studiesCode": "3",
         "coursesCode": "F18L1W018",
         "semester": "1"
        },
        {
         "studiesCode": "4",
         "coursesCode": "F18L1W018",
         "semester": "1"
        },
        {
         "studiesCode": "5",
         "coursesCode": "F18L1W018",
         "semester": "1"
        },
        {
         "studiesCode": "6",
         "coursesCode": "F18L1W018",
         "semester": "1"
        },
        {
         "studiesCode": "7",
         "coursesCode": "F18L1W018",
         "semester": "1"
        },
        {
         "studiesCode": "8",
         "coursesCode": "F18L1W018",
         "semester": "1"
        },
        {
         "studiesCode": "9",
         "coursesCode": "F18L1W018",
         "semester": "1"
        },
        {
         "studiesCode": "10",
         "coursesCode": "F18L1W018",
         "semester": "1"
        },
        {
         "studiesCode": "11",
         "coursesCode": "F18L1W018",
         "semester": "1"
        },
        {
         "studiesCode": "12",
         "coursesCode": "F18L1W018",
         "semester": "1"
        },
        {
         "studiesCode": "0",
         "coursesCode": "F18L1W020",
         "semester": "1"
        },
        {
         "studiesCode": "1",
         "coursesCode": "F18L1W020",
         "semester": "1"
        },
        {
         "studiesCode": "2",
         "coursesCode": "F18L1W020",
         "semester": "1"
        },
        {
         "studiesCode": "3",
         "coursesCode": "F18L1W020",
         "semester": "1"
        },
        {
         "studiesCode": "4",
         "coursesCode": "F18L1W020",
         "semester": "1"
        },
        {
         "studiesCode": "5",
         "coursesCode": "F18L1W020",
         "semester": "1"
        },
        {
         "studiesCode": "6",
         "coursesCode": "F18L1W020",
         "semester": "1"
        },
        {
         "studiesCode": "7",
         "coursesCode": "F18L1W020",
         "semester": "1"
        },
        {
         "studiesCode": "8",
         "coursesCode": "F18L1W020",
         "semester": "1"
        },
        {
         "studiesCode": "9",
         "coursesCode": "F18L1W020",
         "semester": "1"
        },
        {
         "studiesCode": "10",
         "coursesCode": "F18L1W020",
         "semester": "1"
        },
        {
         "studiesCode": "11",
         "coursesCode": "F18L1W020",
         "semester": "1"
        },
        {
         "studiesCode": "12",
         "coursesCode": "F18L1W020",
         "semester": "1"
        },
        {
         "studiesCode": "3",
         "coursesCode": "F18L1W031",
         "semester": "1"
        },
        {
         "studiesCode": "4",
         "coursesCode": "F18L1W031",
         "semester": "1"
        },
        {
         "studiesCode": "3",
         "coursesCode": "F18L1W033",
         "semester": "1"
        },
        {
         "studiesCode": "4",
         "coursesCode": "F18L1W033",
         "semester": "1"
        },
        {
         "studiesCode": "5",
         "coursesCode": "F18L1W033",
         "semester": "1"
        },
        {
         "studiesCode": "6",
         "coursesCode": "F18L1W033",
         "semester": "1"
        },
        {
         "studiesCode": "5",
         "coursesCode": "F18L1W041",
         "semester": "1"
        },
        {
         "studiesCode": "6",
         "coursesCode": "F18L1W041",
         "semester": "1"
        },
        {
         "studiesCode": "5",
         "coursesCode": "F18L1W049",
         "semester": "1"
        },
        {
         "studiesCode": "6",
         "coursesCode": "F18L1W049",
         "semester": "1"
        },
        {
         "studiesCode": "2",
         "coursesCode": "F18L1W070",
         "semester": "1"
        },
        {
         "studiesCode": "9",
         "coursesCode": "F18L2S002",
         "semester": "4"
        },
        {
         "studiesCode": "10",
         "coursesCode": "F18L2S002",
         "semester": "4"
        },
        {
         "studiesCode": "11",
         "coursesCode": "F18L2S002",
         "semester": "4"
        },
        {
         "studiesCode": "12",
         "coursesCode": "F18L2S002",
         "semester": "4"
        },
        {
         "studiesCode": "0",
         "coursesCode": "F18L2S017",
         "semester": "4"
        },
        {
         "studiesCode": "1",
         "coursesCode": "F18L2S017",
         "semester": "4"
        },
        {
         "studiesCode": "2",
         "coursesCode": "F18L2S017",
         "semester": "4"
        },
        {
         "studiesCode": "3",
         "coursesCode": "F18L2S017",
         "semester": "4"
        },
        {
         "studiesCode": "4",
         "coursesCode": "F18L2S017",
         "semester": "4"
        },
        {
         "studiesCode": "5",
         "coursesCode": "F18L2S017",
         "semester": "4"
        },
        {
         "studiesCode": "6",
         "coursesCode": "F18L2S017",
         "semester": "4"
        },
        {
         "studiesCode": "7",
         "coursesCode": "F18L2S017",
         "semester": "4"
        },
        {
         "studiesCode": "8",
         "coursesCode": "F18L2S017",
         "semester": "4"
        },
        {
         "studiesCode": "9",
         "coursesCode": "F18L2S017",
         "semester": "4"
        },
        {
         "studiesCode": "10",
         "coursesCode": "F18L2S017",
         "semester": "4"
        },
        {
         "studiesCode": "11",
         "coursesCode": "F18L2S017",
         "semester": "4"
        },
        {
         "studiesCode": "12",
         "coursesCode": "F18L2S017",
         "semester": "4"
        },
        {
         "studiesCode": "3",
         "coursesCode": "F18L2S029",
         "semester": "4"
        },
        {
         "studiesCode": "4",
         "coursesCode": "F18L2S029",
         "semester": "4"
        },
        {
         "studiesCode": "5",
         "coursesCode": "F18L2S029",
         "semester": "4"
        },
        {
         "studiesCode": "6",
         "coursesCode": "F18L2S029",
         "semester": "4"
        },
        {
         "studiesCode": "7",
         "coursesCode": "F18L2S029",
         "semester": "4"
        },
        {
         "studiesCode": "8",
         "coursesCode": "F18L2S029",
         "semester": "4"
        },
        {
         "studiesCode": "3",
         "coursesCode": "F18L2S030",
         "semester": "4"
        },
        {
         "studiesCode": "4",
         "coursesCode": "F18L2S030",
         "semester": "4"
        },
        {
         "studiesCode": "5",
         "coursesCode": "F18L2S042",
         "semester": "4"
        },
        {
         "studiesCode": "6",
         "coursesCode": "F18L2S042",
         "semester": "4"
        },
        {
         "studiesCode": "2",
         "coursesCode": "F18L2S051",
         "semester": "4"
        },
        {
         "studiesCode": "0",
         "coursesCode": "F18L2S061",
         "semester": "4"
        },
        {
         "studiesCode": "1",
         "coursesCode": "F18L2S061",
         "semester": "4"
        },
        {
         "studiesCode": "0",
         "coursesCode": "F18L2W001",
         "semester": "3"
        },
        {
         "studiesCode": "1",
         "coursesCode": "F18L2W001",
         "semester": "3"
        },
        {
         "studiesCode": "2",
         "coursesCode": "F18L2W001",
         "semester": "3"
        },
        {
         "studiesCode": "3",
         "coursesCode": "F18L2W001",
         "semester": "3"
        },
        {
         "studiesCode": "4",
         "coursesCode": "F18L2W001",
         "semester": "3"
        },
        {
         "studiesCode": "5",
         "coursesCode": "F18L2W001",
         "semester": "3"
        },
        {
         "studiesCode": "6",
         "coursesCode": "F18L2W001",
         "semester": "3"
        },
        {
         "studiesCode": "7",
         "coursesCode": "F18L2W001",
         "semester": "3"
        },
        {
         "studiesCode": "8",
         "coursesCode": "F18L2W001",
         "semester": "3"
        },
        {
         "studiesCode": "9",
         "coursesCode": "F18L2W001",
         "semester": "3"
        },
        {
         "studiesCode": "10",
         "coursesCode": "F18L2W001",
         "semester": "3"
        },
        {
         "studiesCode": "11",
         "coursesCode": "F18L2W001",
         "semester": "3"
        },
        {
         "studiesCode": "12",
         "coursesCode": "F18L2W001",
         "semester": "3"
        },
        {
         "studiesCode": "3",
         "coursesCode": "F18L2W006",
         "semester": "3"
        },
        {
         "studiesCode": "4",
         "coursesCode": "F18L2W006",
         "semester": "3"
        },
        {
         "studiesCode": "5",
         "coursesCode": "F18L2W006",
         "semester": "3"
        },
        {
         "studiesCode": "6",
         "coursesCode": "F18L2W006",
         "semester": "3"
        },
        {
         "studiesCode": "9",
         "coursesCode": "F18L2W006",
         "semester": "3"
        },
        {
         "studiesCode": "10",
         "coursesCode": "F18L2W006",
         "semester": "3"
        },
        {
         "studiesCode": "11",
         "coursesCode": "F18L2W006",
         "semester": "3"
        },
        {
         "studiesCode": "12",
         "coursesCode": "F18L2W006",
         "semester": "3"
        },
        {
         "studiesCode": "2",
         "coursesCode": "F18L2W014",
         "semester": "3"
        },
        {
         "studiesCode": "3",
         "coursesCode": "F18L2W014",
         "semester": "3"
        },
        {
         "studiesCode": "4",
         "coursesCode": "F18L2W014",
         "semester": "3"
        },
        {
         "studiesCode": "7",
         "coursesCode": "F18L2W014",
         "semester": "3"
        },
        {
         "studiesCode": "8",
         "coursesCode": "F18L2W014",
         "semester": "3"
        },
        {
         "studiesCode": "9",
         "coursesCode": "F18L2W014",
         "semester": "3"
        },
        {
         "studiesCode": "10",
         "coursesCode": "F18L2W014",
         "semester": "3"
        },
        {
         "studiesCode": "11",
         "coursesCode": "F18L2W014",
         "semester": "3"
        },
        {
         "studiesCode": "12",
         "coursesCode": "F18L2W014",
         "semester": "3"
        },
        {
         "studiesCode": "0",
         "coursesCode": "F18L2W046",
         "semester": "3"
        },
        {
         "studiesCode": "1",
         "coursesCode": "F18L2W046",
         "semester": "3"
        },
        {
         "studiesCode": "5",
         "coursesCode": "F18L2W046",
         "semester": "3"
        },
        {
         "studiesCode": "6",
         "coursesCode": "F18L2W046",
         "semester": "3"
        },
        {
         "studiesCode": "0",
         "coursesCode": "F18L2W067",
         "semester": "3"
        },
        {
         "studiesCode": "1",
         "coursesCode": "F18L2W067",
         "semester": "3"
        },
        {
         "studiesCode": "4",
         "coursesCode": "F18L3S010",
         "semester": "6"
        },
        {
         "studiesCode": "7",
         "coursesCode": "F18L3S010",
         "semester": "6"
        },
        {
         "studiesCode": "8",
         "coursesCode": "F18L3S010",
         "semester": "6"
        },
        {
         "studiesCode": "10",
         "coursesCode": "F18L3S010",
         "semester": "6"
        },
        {
         "studiesCode": "12",
         "coursesCode": "F18L3S010",
         "semester": "6"
        },
        {
         "studiesCode": "10",
         "coursesCode": "F18L3S012",
         "semester": "6"
        },
        {
         "studiesCode": "12",
         "coursesCode": "F18L3S012",
         "semester": "6"
        },
        {
         "studiesCode": "9",
         "coursesCode": "F18L3S019",
         "semester": "6"
        },
        {
         "studiesCode": "10",
         "coursesCode": "F18L3S019",
         "semester": "6"
        },
        {
         "studiesCode": "11",
         "coursesCode": "F18L3S019",
         "semester": "6"
        },
        {
         "studiesCode": "12",
         "coursesCode": "F18L3S019",
         "semester": "6"
        },
        {
         "studiesCode": "6",
         "coursesCode": "F18L3S022",
         "semester": "8"
        },
        {
         "studiesCode": "8",
         "coursesCode": "F18L3S022",
         "semester": "8"
        },
        {
         "studiesCode": "10",
         "coursesCode": "F18L3S022",
         "semester": "8"
        },
        {
         "studiesCode": "12",
         "coursesCode": "F18L3S022",
         "semester": "8"
        },
        {
         "studiesCode": "8",
         "coursesCode": "F18L3S025",
         "semester": "6"
        },
        {
         "studiesCode": "8",
         "coursesCode": "F18L3S028",
         "semester": "8"
        },
        {
         "studiesCode": "3",
         "coursesCode": "F18L3S036",
         "semester": "6"
        },
        {
         "studiesCode": "4",
         "coursesCode": "F18L3S036",
         "semester": "6"
        },
        {
         "studiesCode": "4",
         "coursesCode": "F18L3S039",
         "semester": "6"
        },
        {
         "studiesCode": "5",
         "coursesCode": "F18L3S040",
         "semester": "6"
        },
        {
         "studiesCode": "6",
         "coursesCode": "F18L3S040",
         "semester": "6"
        },
        {
         "studiesCode": "6",
         "coursesCode": "F18L3S047",
         "semester": "6"
        },
        {
         "studiesCode": "2",
         "coursesCode": "F18L3S054",
         "semester": "8"
        },
        {
         "studiesCode": "2",
         "coursesCode": "F18L3S056",
         "semester": "6"
        },
        {
         "studiesCode": "2",
         "coursesCode": "F18L3S057",
         "semester": "6"
        },
        {
         "studiesCode": "1",
         "coursesCode": "F18L3S059",
         "semester": "6"
        },
        {
         "studiesCode": "1",
         "coursesCode": "F18L3S062",
         "semester": "6"
        },
        {
         "studiesCode": "1",
         "coursesCode": "F18L3S063",
         "semester": "8"
        },
        {
         "studiesCode": "2",
         "coursesCode": "F18L3S069",
         "semester": "8"
        },
        {
         "studiesCode": "2",
         "coursesCode": "F18L3S071",
         "semester": "6"
        },
        {
         "studiesCode": "0",
         "coursesCode": "F18L3W004",
         "semester": "5"
        },
        {
         "studiesCode": "1",
         "coursesCode": "F18L3W004",
         "semester": "5"
        },
        {
         "studiesCode": "2",
         "coursesCode": "F18L3W004",
         "semester": "5"
        },
        {
         "studiesCode": "3",
         "coursesCode": "F18L3W004",
         "semester": "5"
        },
        {
         "studiesCode": "4",
         "coursesCode": "F18L3W004",
         "semester": "5"
        },
        {
         "studiesCode": "5",
         "coursesCode": "F18L3W004",
         "semester": "5"
        },
        {
         "studiesCode": "6",
         "coursesCode": "F18L3W004",
         "semester": "5"
        },
        {
         "studiesCode": "7",
         "coursesCode": "F18L3W004",
         "semester": "5"
        },
        {
         "studiesCode": "8",
         "coursesCode": "F18L3W004",
         "semester": "5"
        },
        {
         "studiesCode": "9",
         "coursesCode": "F18L3W004",
         "semester": "5"
        },
        {
         "studiesCode": "10",
         "coursesCode": "F18L3W004",
         "semester": "5"
        },
        {
         "studiesCode": "11",
         "coursesCode": "F18L3W004",
         "semester": "5"
        },
        {
         "studiesCode": "12",
         "coursesCode": "F18L3W004",
         "semester": "5"
        },
        {
         "studiesCode": "8",
         "coursesCode": "F18L3W008",
         "semester": "5"
        },
        {
         "studiesCode": "10",
         "coursesCode": "F18L3W008",
         "semester": "5"
        },
        {
         "studiesCode": "12",
         "coursesCode": "F18L3W008",
         "semester": "5"
        },
        {
         "studiesCode": "9",
         "coursesCode": "F18L3W009",
         "semester": "5"
        },
        {
         "studiesCode": "10",
         "coursesCode": "F18L3W009",
         "semester": "5"
        },
        {
         "studiesCode": "11",
         "coursesCode": "F18L3W009",
         "semester": "5"
        },
        {
         "studiesCode": "12",
         "coursesCode": "F18L3W009",
         "semester": "5"
        },
        {
         "studiesCode": "8",
         "coursesCode": "F18L3W021",
         "semester": "7"
        },
        {
         "studiesCode": "10",
         "coursesCode": "F18L3W021",
         "semester": "7"
        },
        {
         "studiesCode": "12",
         "coursesCode": "F18L3W021",
         "semester": "7"
        },
        {
         "studiesCode": "7",
         "coursesCode": "F18L3W024",
         "semester": "5"
        },
        {
         "studiesCode": "8",
         "coursesCode": "F18L3W024",
         "semester": "5"
        },
        {
         "studiesCode": "8",
         "coursesCode": "F18L3W027",
         "semester": "7"
        },
        {
         "studiesCode": "4",
         "coursesCode": "F18L3W035",
         "semester": "5"
        },
        {
         "studiesCode": "4",
         "coursesCode": "F18L3W037",
         "semester": "5"
        },
        {
         "studiesCode": "4",
         "coursesCode": "F18L3W038",
         "semester": "7"
        },
        {
         "studiesCode": "6",
         "coursesCode": "F18L3W043",
         "semester": "5"
        },
        {
         "studiesCode": "6",
         "coursesCode": "F18L3W044",
         "semester": "5"
        },
        {
         "studiesCode": "6",
         "coursesCode": "F18L3W048",
         "semester": "7"
        },
        {
         "studiesCode": "2",
         "coursesCode": "F18L3W050",
         "semester": "5"
        },
        {
         "studiesCode": "2",
         "coursesCode": "F18L3W053",
         "semester": "5"
        },
        {
         "studiesCode": "2",
         "coursesCode": "F18L3W055",
         "semester": "3"
        },
        {
         "studiesCode": "0",
         "coursesCode": "F18L3W060",
         "semester": "5"
        },
        {
         "studiesCode": "1",
         "coursesCode": "F18L3W060",
         "semester": "5"
        },
        {
         "studiesCode": "1",
         "coursesCode": "F18L3W064",
         "semester": "7"
        },
        {
         "studiesCode": "0",
         "coursesCode": "F18L3W065",
         "semester": "5"
        },
        {
         "studiesCode": "1",
         "coursesCode": "F18L3W065",
         "semester": "5"
        },
        {
         "studiesCode": "1",
         "coursesCode": "F18L3W068",
         "semester": "7"
        }
       ]
      },
      "text/html": "<table><tr><th>studiesCode</th><th>coursesCode</th><th>semester</th></tr><tr><td>0</td><td>0</td><td>2</td></tr><tr><td>1</td><td>0</td><td>2</td></tr><tr><td>2</td><td>0</td><td>2</td></tr><tr><td>3</td><td>0</td><td>2</td></tr><tr><td>4</td><td>0</td><td>2</td></tr><tr><td>5</td><td>0</td><td>2</td></tr><tr><td>6</td><td>0</td><td>2</td></tr><tr><td>7</td><td>0</td><td>2</td></tr><tr><td>8</td><td>0</td><td>2</td></tr><tr><td>9</td><td>0</td><td>2</td></tr><tr><td>10</td><td>0</td><td>2</td></tr><tr><td>11</td><td>0</td><td>2</td></tr><tr><td>12</td><td>0</td><td>2</td></tr><tr><td>0</td><td>1</td><td>6</td></tr><tr><td>1</td><td>1</td><td>8</td></tr><tr><td>2</td><td>1</td><td>8</td></tr><tr><td>3</td><td>1</td><td>6</td></tr><tr><td>4</td><td>1</td><td>8</td></tr><tr><td>5</td><td>1</td><td>6</td></tr><tr><td>6</td><td>1</td><td>8</td></tr><tr><td>7</td><td>1</td><td>6</td></tr><tr><td>8</td><td>1</td><td>8</td></tr><tr><td>9</td><td>1</td><td>6</td></tr><tr><td>10</td><td>1</td><td>8</td></tr><tr><td>11</td><td>1</td><td>6</td></tr><tr><td>12</td><td>1</td><td>8</td></tr><tr><td>2</td><td>2</td><td>7</td></tr><tr><td>3</td><td>F18L1S003</td><td>2</td></tr><tr><td>4</td><td>F18L1S003</td><td>2</td></tr><tr><td>7</td><td>F18L1S003</td><td>2</td></tr><tr><td>8</td><td>F18L1S003</td><td>2</td></tr><tr><td>9</td><td>F18L1S003</td><td>2</td></tr><tr><td>10</td><td>F18L1S003</td><td>2</td></tr><tr><td>11</td><td>F18L1S003</td><td>2</td></tr><tr><td>12</td><td>F18L1S003</td><td>2</td></tr><tr><td>0</td><td>F18L1S013</td><td>1</td></tr><tr><td>1</td><td>F18L1S013</td><td>1</td></tr><tr><td>2</td><td>F18L1S013</td><td>2</td></tr><tr><td>9</td><td>F18L1S013</td><td>1</td></tr><tr><td>10</td><td>F18L1S013</td><td>1</td></tr><tr><td>11</td><td>F18L1S013</td><td>1</td></tr><tr><td>12</td><td>F18L1S013</td><td>1</td></tr><tr><td>9</td><td>F18L1S015</td><td>2</td></tr><tr><td>10</td><td>F18L1S015</td><td>2</td></tr><tr><td>11</td><td>F18L1S015</td><td>2</td></tr><tr><td>12</td><td>F18L1S015</td><td>2</td></tr><tr><td>0</td><td>F18L1S016</td><td>2</td></tr><tr><td>1</td><td>F18L1S016</td><td>2</td></tr><tr><td>2</td><td>F18L1S016</td><td>2</td></tr><tr><td>3</td><td>F18L1S016</td><td>2</td></tr><tr><td>4</td><td>F18L1S016</td><td>2</td></tr><tr><td>5</td><td>F18L1S016</td><td>2</td></tr><tr><td>6</td><td>F18L1S016</td><td>2</td></tr><tr><td>7</td><td>F18L1S016</td><td>2</td></tr><tr><td>8</td><td>F18L1S016</td><td>2</td></tr><tr><td>9</td><td>F18L1S016</td><td>2</td></tr><tr><td>10</td><td>F18L1S016</td><td>2</td></tr><tr><td>11</td><td>F18L1S016</td><td>2</td></tr><tr><td>12</td><td>F18L1S016</td><td>2</td></tr><tr><td>7</td><td>F18L1S023</td><td>2</td></tr><tr><td>8</td><td>F18L1S023</td><td>2</td></tr><tr><td>7</td><td>F18L1S026</td><td>2</td></tr><tr><td>8</td><td>F18L1S026</td><td>2</td></tr><tr><td>3</td><td>F18L1S032</td><td>2</td></tr><tr><td>4</td><td>F18L1S032</td><td>2</td></tr><tr><td>3</td><td>F18L1S034</td><td>2</td></tr><tr><td>4</td><td>F18L1S034</td><td>2</td></tr><tr><td>5</td><td>F18L1S034</td><td>2</td></tr><tr><td>6</td><td>F18L1S034</td><td>2</td></tr><tr><td>0</td><td>F18L1S045</td><td>2</td></tr><tr><td>1</td><td>F18L1S045</td><td>2</td></tr><tr><td>2</td><td>F18L1S045</td><td>2</td></tr><tr><td>5</td><td>F18L1S045</td><td>2</td></tr><tr><td>6</td><td>F18L1S045</td><td>2</td></tr><tr><td>2</td><td>F18L1S052</td><td>2</td></tr><tr><td>0</td><td>F18L1S066</td><td>2</td></tr><tr><td>1</td><td>F18L1S066</td><td>2</td></tr><tr><td>0</td><td>F18L1W005</td><td>1</td></tr><tr><td>1</td><td>F18L1W005</td><td>1</td></tr><tr><td>7</td><td>F18L1W005</td><td>1</td></tr><tr><td>8</td><td>F18L1W005</td><td>1</td></tr><tr><td>9</td><td>F18L1W005</td><td>1</td></tr><tr><td>10</td><td>F18L1W005</td><td>1</td></tr><tr><td>11</td><td>F18L1W005</td><td>1</td></tr><tr><td>12</td><td>F18L1W005</td><td>1</td></tr><tr><td>0</td><td>F18L1W007</td><td>1</td></tr><tr><td>1</td><td>F18L1W007</td><td>1</td></tr><tr><td>2</td><td>F18L1W007</td><td>1</td></tr><tr><td>3</td><td>F18L1W007</td><td>1</td></tr><tr><td>4</td><td>F18L1W007</td><td>1</td></tr><tr><td>7</td><td>F18L1W007</td><td>1</td></tr><tr><td>8</td><td>F18L1W007</td><td>1</td></tr><tr><td>9</td><td>F18L1W007</td><td>1</td></tr><tr><td>10</td><td>F18L1W007</td><td>1</td></tr><tr><td>11</td><td>F18L1W007</td><td>1</td></tr><tr><td>12</td><td>F18L1W007</td><td>1</td></tr><tr><td>0</td><td>F18L1W011</td><td>2</td></tr><tr><td>1</td><td>F18L1W011</td><td>2</td></tr><tr><td>2</td><td>F18L1W011</td><td>1</td></tr><tr><td>5</td><td>F18L1W011</td><td>2</td></tr><tr><td>6</td><td>F18L1W011</td><td>2</td></tr><tr><td>7</td><td>F18L1W011</td><td>1</td></tr><tr><td>8</td><td>F18L1W011</td><td>1</td></tr><tr><td>9</td><td>F18L1W011</td><td>2</td></tr><tr><td>10</td><td>F18L1W011</td><td>2</td></tr><tr><td>11</td><td>F18L1W011</td><td>2</td></tr><tr><td>12</td><td>F18L1W011</td><td>2</td></tr><tr><td>0</td><td>F18L1W018</td><td>1</td></tr><tr><td>1</td><td>F18L1W018</td><td>1</td></tr><tr><td>2</td><td>F18L1W018</td><td>1</td></tr><tr><td>3</td><td>F18L1W018</td><td>1</td></tr><tr><td>4</td><td>F18L1W018</td><td>1</td></tr><tr><td>5</td><td>F18L1W018</td><td>1</td></tr><tr><td>6</td><td>F18L1W018</td><td>1</td></tr><tr><td>7</td><td>F18L1W018</td><td>1</td></tr><tr><td>8</td><td>F18L1W018</td><td>1</td></tr><tr><td>9</td><td>F18L1W018</td><td>1</td></tr><tr><td>10</td><td>F18L1W018</td><td>1</td></tr><tr><td>11</td><td>F18L1W018</td><td>1</td></tr><tr><td>12</td><td>F18L1W018</td><td>1</td></tr><tr><td>0</td><td>F18L1W020</td><td>1</td></tr><tr><td>1</td><td>F18L1W020</td><td>1</td></tr><tr><td>2</td><td>F18L1W020</td><td>1</td></tr><tr><td>3</td><td>F18L1W020</td><td>1</td></tr><tr><td>4</td><td>F18L1W020</td><td>1</td></tr><tr><td>5</td><td>F18L1W020</td><td>1</td></tr><tr><td>6</td><td>F18L1W020</td><td>1</td></tr><tr><td>7</td><td>F18L1W020</td><td>1</td></tr><tr><td>8</td><td>F18L1W020</td><td>1</td></tr><tr><td>9</td><td>F18L1W020</td><td>1</td></tr><tr><td>10</td><td>F18L1W020</td><td>1</td></tr><tr><td>11</td><td>F18L1W020</td><td>1</td></tr><tr><td>12</td><td>F18L1W020</td><td>1</td></tr><tr><td>3</td><td>F18L1W031</td><td>1</td></tr><tr><td>4</td><td>F18L1W031</td><td>1</td></tr><tr><td>3</td><td>F18L1W033</td><td>1</td></tr><tr><td>4</td><td>F18L1W033</td><td>1</td></tr><tr><td>5</td><td>F18L1W033</td><td>1</td></tr><tr><td>6</td><td>F18L1W033</td><td>1</td></tr><tr><td>5</td><td>F18L1W041</td><td>1</td></tr><tr><td>6</td><td>F18L1W041</td><td>1</td></tr><tr><td>5</td><td>F18L1W049</td><td>1</td></tr><tr><td>6</td><td>F18L1W049</td><td>1</td></tr><tr><td>2</td><td>F18L1W070</td><td>1</td></tr><tr><td>9</td><td>F18L2S002</td><td>4</td></tr><tr><td>10</td><td>F18L2S002</td><td>4</td></tr><tr><td>11</td><td>F18L2S002</td><td>4</td></tr><tr><td>12</td><td>F18L2S002</td><td>4</td></tr><tr><td>0</td><td>F18L2S017</td><td>4</td></tr><tr><td>1</td><td>F18L2S017</td><td>4</td></tr><tr><td>2</td><td>F18L2S017</td><td>4</td></tr><tr><td>3</td><td>F18L2S017</td><td>4</td></tr><tr><td>4</td><td>F18L2S017</td><td>4</td></tr><tr><td>5</td><td>F18L2S017</td><td>4</td></tr><tr><td>6</td><td>F18L2S017</td><td>4</td></tr><tr><td>7</td><td>F18L2S017</td><td>4</td></tr><tr><td>8</td><td>F18L2S017</td><td>4</td></tr><tr><td>9</td><td>F18L2S017</td><td>4</td></tr><tr><td>10</td><td>F18L2S017</td><td>4</td></tr><tr><td>11</td><td>F18L2S017</td><td>4</td></tr><tr><td>12</td><td>F18L2S017</td><td>4</td></tr><tr><td>3</td><td>F18L2S029</td><td>4</td></tr><tr><td>4</td><td>F18L2S029</td><td>4</td></tr><tr><td>5</td><td>F18L2S029</td><td>4</td></tr><tr><td>6</td><td>F18L2S029</td><td>4</td></tr><tr><td>7</td><td>F18L2S029</td><td>4</td></tr><tr><td>8</td><td>F18L2S029</td><td>4</td></tr><tr><td>3</td><td>F18L2S030</td><td>4</td></tr><tr><td>4</td><td>F18L2S030</td><td>4</td></tr><tr><td>5</td><td>F18L2S042</td><td>4</td></tr><tr><td>6</td><td>F18L2S042</td><td>4</td></tr><tr><td>2</td><td>F18L2S051</td><td>4</td></tr><tr><td>0</td><td>F18L2S061</td><td>4</td></tr><tr><td>1</td><td>F18L2S061</td><td>4</td></tr><tr><td>0</td><td>F18L2W001</td><td>3</td></tr><tr><td>1</td><td>F18L2W001</td><td>3</td></tr><tr><td>2</td><td>F18L2W001</td><td>3</td></tr><tr><td>3</td><td>F18L2W001</td><td>3</td></tr><tr><td>4</td><td>F18L2W001</td><td>3</td></tr><tr><td>5</td><td>F18L2W001</td><td>3</td></tr><tr><td>6</td><td>F18L2W001</td><td>3</td></tr><tr><td>7</td><td>F18L2W001</td><td>3</td></tr><tr><td>8</td><td>F18L2W001</td><td>3</td></tr><tr><td>9</td><td>F18L2W001</td><td>3</td></tr><tr><td>10</td><td>F18L2W001</td><td>3</td></tr><tr><td>11</td><td>F18L2W001</td><td>3</td></tr><tr><td>12</td><td>F18L2W001</td><td>3</td></tr><tr><td>3</td><td>F18L2W006</td><td>3</td></tr><tr><td>4</td><td>F18L2W006</td><td>3</td></tr><tr><td>5</td><td>F18L2W006</td><td>3</td></tr><tr><td>6</td><td>F18L2W006</td><td>3</td></tr><tr><td>9</td><td>F18L2W006</td><td>3</td></tr><tr><td>10</td><td>F18L2W006</td><td>3</td></tr><tr><td>11</td><td>F18L2W006</td><td>3</td></tr><tr><td>12</td><td>F18L2W006</td><td>3</td></tr><tr><td>2</td><td>F18L2W014</td><td>3</td></tr><tr><td>3</td><td>F18L2W014</td><td>3</td></tr><tr><td>4</td><td>F18L2W014</td><td>3</td></tr><tr><td>7</td><td>F18L2W014</td><td>3</td></tr><tr><td>8</td><td>F18L2W014</td><td>3</td></tr><tr><td>9</td><td>F18L2W014</td><td>3</td></tr><tr><td>10</td><td>F18L2W014</td><td>3</td></tr><tr><td>11</td><td>F18L2W014</td><td>3</td></tr><tr><td>12</td><td>F18L2W014</td><td>3</td></tr><tr><td>0</td><td>F18L2W046</td><td>3</td></tr><tr><td>1</td><td>F18L2W046</td><td>3</td></tr><tr><td>5</td><td>F18L2W046</td><td>3</td></tr><tr><td>6</td><td>F18L2W046</td><td>3</td></tr><tr><td>0</td><td>F18L2W067</td><td>3</td></tr><tr><td>1</td><td>F18L2W067</td><td>3</td></tr><tr><td>4</td><td>F18L3S010</td><td>6</td></tr><tr><td>7</td><td>F18L3S010</td><td>6</td></tr><tr><td>8</td><td>F18L3S010</td><td>6</td></tr><tr><td>10</td><td>F18L3S010</td><td>6</td></tr><tr><td>12</td><td>F18L3S010</td><td>6</td></tr><tr><td>10</td><td>F18L3S012</td><td>6</td></tr><tr><td>12</td><td>F18L3S012</td><td>6</td></tr><tr><td>9</td><td>F18L3S019</td><td>6</td></tr><tr><td>10</td><td>F18L3S019</td><td>6</td></tr><tr><td>11</td><td>F18L3S019</td><td>6</td></tr><tr><td>12</td><td>F18L3S019</td><td>6</td></tr><tr><td>6</td><td>F18L3S022</td><td>8</td></tr><tr><td>8</td><td>F18L3S022</td><td>8</td></tr><tr><td>10</td><td>F18L3S022</td><td>8</td></tr><tr><td>12</td><td>F18L3S022</td><td>8</td></tr><tr><td>8</td><td>F18L3S025</td><td>6</td></tr><tr><td>8</td><td>F18L3S028</td><td>8</td></tr><tr><td>3</td><td>F18L3S036</td><td>6</td></tr><tr><td>4</td><td>F18L3S036</td><td>6</td></tr><tr><td>4</td><td>F18L3S039</td><td>6</td></tr><tr><td>5</td><td>F18L3S040</td><td>6</td></tr><tr><td>6</td><td>F18L3S040</td><td>6</td></tr><tr><td>6</td><td>F18L3S047</td><td>6</td></tr><tr><td>2</td><td>F18L3S054</td><td>8</td></tr><tr><td>2</td><td>F18L3S056</td><td>6</td></tr><tr><td>2</td><td>F18L3S057</td><td>6</td></tr><tr><td>1</td><td>F18L3S059</td><td>6</td></tr><tr><td>1</td><td>F18L3S062</td><td>6</td></tr><tr><td>1</td><td>F18L3S063</td><td>8</td></tr><tr><td>2</td><td>F18L3S069</td><td>8</td></tr><tr><td>2</td><td>F18L3S071</td><td>6</td></tr><tr><td>0</td><td>F18L3W004</td><td>5</td></tr><tr><td>1</td><td>F18L3W004</td><td>5</td></tr><tr><td>2</td><td>F18L3W004</td><td>5</td></tr><tr><td>3</td><td>F18L3W004</td><td>5</td></tr><tr><td>4</td><td>F18L3W004</td><td>5</td></tr><tr><td>5</td><td>F18L3W004</td><td>5</td></tr><tr><td>6</td><td>F18L3W004</td><td>5</td></tr><tr><td>7</td><td>F18L3W004</td><td>5</td></tr><tr><td>8</td><td>F18L3W004</td><td>5</td></tr><tr><td>9</td><td>F18L3W004</td><td>5</td></tr><tr><td>10</td><td>F18L3W004</td><td>5</td></tr><tr><td>11</td><td>F18L3W004</td><td>5</td></tr><tr><td>12</td><td>F18L3W004</td><td>5</td></tr><tr><td>8</td><td>F18L3W008</td><td>5</td></tr><tr><td>10</td><td>F18L3W008</td><td>5</td></tr><tr><td>12</td><td>F18L3W008</td><td>5</td></tr><tr><td>9</td><td>F18L3W009</td><td>5</td></tr><tr><td>10</td><td>F18L3W009</td><td>5</td></tr><tr><td>11</td><td>F18L3W009</td><td>5</td></tr><tr><td>12</td><td>F18L3W009</td><td>5</td></tr><tr><td>8</td><td>F18L3W021</td><td>7</td></tr><tr><td>10</td><td>F18L3W021</td><td>7</td></tr><tr><td>12</td><td>F18L3W021</td><td>7</td></tr><tr><td>7</td><td>F18L3W024</td><td>5</td></tr><tr><td>8</td><td>F18L3W024</td><td>5</td></tr><tr><td>8</td><td>F18L3W027</td><td>7</td></tr><tr><td>4</td><td>F18L3W035</td><td>5</td></tr><tr><td>4</td><td>F18L3W037</td><td>5</td></tr><tr><td>4</td><td>F18L3W038</td><td>7</td></tr><tr><td>6</td><td>F18L3W043</td><td>5</td></tr><tr><td>6</td><td>F18L3W044</td><td>5</td></tr><tr><td>6</td><td>F18L3W048</td><td>7</td></tr><tr><td>2</td><td>F18L3W050</td><td>5</td></tr><tr><td>2</td><td>F18L3W053</td><td>5</td></tr><tr><td>2</td><td>F18L3W055</td><td>3</td></tr><tr><td>0</td><td>F18L3W060</td><td>5</td></tr><tr><td>1</td><td>F18L3W060</td><td>5</td></tr><tr><td>1</td><td>F18L3W064</td><td>7</td></tr><tr><td>0</td><td>F18L3W065</td><td>5</td></tr><tr><td>1</td><td>F18L3W065</td><td>5</td></tr><tr><td>1</td><td>F18L3W068</td><td>7</td></tr></table>"
     },
     "metadata": {}
    }
   ],
   "execution_count": 83
  },
  {
   "cell_type": "code",
   "source": [
    "SELECT * FROM CourseProfessors"
   ],
   "metadata": {
    "language": "sql",
    "azdata_cell_guid": "10205b18-d581-450d-b800-a0bd9495faea"
   },
   "outputs": [
    {
     "output_type": "display_data",
     "data": {
      "text/html": "(216 rows affected)"
     },
     "metadata": {}
    },
    {
     "output_type": "display_data",
     "data": {
      "text/html": "Total execution time: 00:00:00.067"
     },
     "metadata": {}
    },
    {
     "output_type": "execute_result",
     "execution_count": 84,
     "data": {
      "application/vnd.dataresource+json": {
       "schema": {
        "fields": [
         {
          "name": "coursesCode"
         },
         {
          "name": "profCode"
         }
        ]
       },
       "data": [
        {
         "coursesCode": "F18L1S003",
         "profCode": "1"
        },
        {
         "coursesCode": "F18L1S003",
         "profCode": "11"
        },
        {
         "coursesCode": "F18L1S003",
         "profCode": "24"
        },
        {
         "coursesCode": "F18L1S003",
         "profCode": "26"
        },
        {
         "coursesCode": "F18L1S003",
         "profCode": "32"
        },
        {
         "coursesCode": "F18L1S003",
         "profCode": "34"
        },
        {
         "coursesCode": "F18L1S003",
         "profCode": "35"
        },
        {
         "coursesCode": "F18L1S003",
         "profCode": "37"
        },
        {
         "coursesCode": "F18L1S003",
         "profCode": "49"
        },
        {
         "coursesCode": "F18L1S003",
         "profCode": "54"
        },
        {
         "coursesCode": "F18L1S013",
         "profCode": "5"
        },
        {
         "coursesCode": "F18L1S013",
         "profCode": "21"
        },
        {
         "coursesCode": "F18L1S013",
         "profCode": "30"
        },
        {
         "coursesCode": "F18L1S013",
         "profCode": "38"
        },
        {
         "coursesCode": "F18L1S013",
         "profCode": "39"
        },
        {
         "coursesCode": "F18L1S013",
         "profCode": "40"
        },
        {
         "coursesCode": "F18L1S015",
         "profCode": "13"
        },
        {
         "coursesCode": "F18L1S015",
         "profCode": "32"
        },
        {
         "coursesCode": "F18L1S015",
         "profCode": "33"
        },
        {
         "coursesCode": "F18L1S016",
         "profCode": "7"
        },
        {
         "coursesCode": "F18L1S016",
         "profCode": "8"
        },
        {
         "coursesCode": "F18L1S016",
         "profCode": "14"
        },
        {
         "coursesCode": "F18L1S016",
         "profCode": "18"
        },
        {
         "coursesCode": "F18L1S016",
         "profCode": "25"
        },
        {
         "coursesCode": "F18L1S016",
         "profCode": "27"
        },
        {
         "coursesCode": "F18L1S016",
         "profCode": "44"
        },
        {
         "coursesCode": "F18L1S023",
         "profCode": "5"
        },
        {
         "coursesCode": "F18L1S023",
         "profCode": "12"
        },
        {
         "coursesCode": "F18L1S023",
         "profCode": "38"
        },
        {
         "coursesCode": "F18L1S023",
         "profCode": "39"
        },
        {
         "coursesCode": "F18L1S023",
         "profCode": "40"
        },
        {
         "coursesCode": "F18L1S026",
         "profCode": "28"
        },
        {
         "coursesCode": "F18L1S026",
         "profCode": "32"
        },
        {
         "coursesCode": "F18L1S026",
         "profCode": "36"
        },
        {
         "coursesCode": "F18L1S026",
         "profCode": "42"
        },
        {
         "coursesCode": "F18L1S032",
         "profCode": "12"
        },
        {
         "coursesCode": "F18L1S032",
         "profCode": "24"
        },
        {
         "coursesCode": "F18L1S032",
         "profCode": "31"
        },
        {
         "coursesCode": "F18L1S032",
         "profCode": "39"
        },
        {
         "coursesCode": "F18L1S032",
         "profCode": "40"
        },
        {
         "coursesCode": "F18L1S034",
         "profCode": "5"
        },
        {
         "coursesCode": "F18L1S034",
         "profCode": "30"
        },
        {
         "coursesCode": "F18L1S034",
         "profCode": "38"
        },
        {
         "coursesCode": "F18L1S034",
         "profCode": "40"
        },
        {
         "coursesCode": "F18L1S045",
         "profCode": "17"
        },
        {
         "coursesCode": "F18L1S052",
         "profCode": "31"
        },
        {
         "coursesCode": "F18L1S066",
         "profCode": "16"
        },
        {
         "coursesCode": "F18L1S066",
         "profCode": "17"
        },
        {
         "coursesCode": "F18L1S066",
         "profCode": "23"
        },
        {
         "coursesCode": "F18L1S116",
         "profCode": "4"
        },
        {
         "coursesCode": "F18L1S116",
         "profCode": "42"
        },
        {
         "coursesCode": "F18L1S120",
         "profCode": "6"
        },
        {
         "coursesCode": "F18L1S120",
         "profCode": "17"
        },
        {
         "coursesCode": "F18L1S146",
         "profCode": "13"
        },
        {
         "coursesCode": "F18L1S146",
         "profCode": "18"
        },
        {
         "coursesCode": "F18L1S146",
         "profCode": "22"
        },
        {
         "coursesCode": "F18L1S146",
         "profCode": "45"
        },
        {
         "coursesCode": "F18L1W005",
         "profCode": "28"
        },
        {
         "coursesCode": "F18L1W005",
         "profCode": "36"
        },
        {
         "coursesCode": "F18L1W007",
         "profCode": "2"
        },
        {
         "coursesCode": "F18L1W007",
         "profCode": "3"
        },
        {
         "coursesCode": "F18L1W007",
         "profCode": "4"
        },
        {
         "coursesCode": "F18L1W007",
         "profCode": "30"
        },
        {
         "coursesCode": "F18L1W007",
         "profCode": "32"
        },
        {
         "coursesCode": "F18L1W007",
         "profCode": "43"
        },
        {
         "coursesCode": "F18L1W007",
         "profCode": "45"
        },
        {
         "coursesCode": "F18L1W011",
         "profCode": "12"
        },
        {
         "coursesCode": "F18L1W011",
         "profCode": "24"
        },
        {
         "coursesCode": "F18L1W011",
         "profCode": "30"
        },
        {
         "coursesCode": "F18L1W011",
         "profCode": "31"
        },
        {
         "coursesCode": "F18L1W011",
         "profCode": "38"
        },
        {
         "coursesCode": "F18L1W011",
         "profCode": "39"
        },
        {
         "coursesCode": "F18L1W011",
         "profCode": "40"
        },
        {
         "coursesCode": "F18L1W018",
         "profCode": "19"
        },
        {
         "coursesCode": "F18L1W018",
         "profCode": "30"
        },
        {
         "coursesCode": "F18L1W018",
         "profCode": "32"
        },
        {
         "coursesCode": "F18L1W018",
         "profCode": "33"
        },
        {
         "coursesCode": "F18L1W018",
         "profCode": "36"
        },
        {
         "coursesCode": "F18L1W018",
         "profCode": "37"
        },
        {
         "coursesCode": "F18L1W018",
         "profCode": "42"
        },
        {
         "coursesCode": "F18L1W018",
         "profCode": "43"
        },
        {
         "coursesCode": "F18L1W020",
         "profCode": "7"
        },
        {
         "coursesCode": "F18L1W020",
         "profCode": "8"
        },
        {
         "coursesCode": "F18L1W020",
         "profCode": "14"
        },
        {
         "coursesCode": "F18L1W020",
         "profCode": "18"
        },
        {
         "coursesCode": "F18L1W020",
         "profCode": "25"
        },
        {
         "coursesCode": "F18L1W020",
         "profCode": "27"
        },
        {
         "coursesCode": "F18L1W020",
         "profCode": "31"
        },
        {
         "coursesCode": "F18L1W020",
         "profCode": "44"
        },
        {
         "coursesCode": "F18L1W031",
         "profCode": "24"
        },
        {
         "coursesCode": "F18L1W031",
         "profCode": "39"
        },
        {
         "coursesCode": "F18L1W033",
         "profCode": "30"
        },
        {
         "coursesCode": "F18L1W041",
         "profCode": "21"
        },
        {
         "coursesCode": "F18L1W041",
         "profCode": "34"
        },
        {
         "coursesCode": "F18L1W049",
         "profCode": "19"
        },
        {
         "coursesCode": "F18L2S002",
         "profCode": "11"
        },
        {
         "coursesCode": "F18L2S002",
         "profCode": "17"
        },
        {
         "coursesCode": "F18L2S002",
         "profCode": "36"
        },
        {
         "coursesCode": "F18L2S017",
         "profCode": "9"
        },
        {
         "coursesCode": "F18L2S017",
         "profCode": "14"
        },
        {
         "coursesCode": "F18L2S017",
         "profCode": "20"
        },
        {
         "coursesCode": "F18L2S017",
         "profCode": "21"
        },
        {
         "coursesCode": "F18L2S017",
         "profCode": "26"
        },
        {
         "coursesCode": "F18L2S017",
         "profCode": "34"
        },
        {
         "coursesCode": "F18L2S017",
         "profCode": "41"
        },
        {
         "coursesCode": "F18L2S017",
         "profCode": "44"
        },
        {
         "coursesCode": "F18L2S029",
         "profCode": "2"
        },
        {
         "coursesCode": "F18L2S029",
         "profCode": "8"
        },
        {
         "coursesCode": "F18L2S029",
         "profCode": "25"
        },
        {
         "coursesCode": "F18L2S029",
         "profCode": "27"
        },
        {
         "coursesCode": "F18L2S030",
         "profCode": "2"
        },
        {
         "coursesCode": "F18L2S030",
         "profCode": "10"
        },
        {
         "coursesCode": "F18L2S030",
         "profCode": "23"
        },
        {
         "coursesCode": "F18L2S030",
         "profCode": "33"
        },
        {
         "coursesCode": "F18L2S030",
         "profCode": "47"
        },
        {
         "coursesCode": "F18L2S042",
         "profCode": "4"
        },
        {
         "coursesCode": "F18L2S051",
         "profCode": "22"
        },
        {
         "coursesCode": "F18L2S051",
         "profCode": "31"
        },
        {
         "coursesCode": "F18L2S061",
         "profCode": "16"
        },
        {
         "coursesCode": "F18L2S061",
         "profCode": "17"
        },
        {
         "coursesCode": "F18L2W001",
         "profCode": "6"
        },
        {
         "coursesCode": "F18L2W001",
         "profCode": "7"
        },
        {
         "coursesCode": "F18L2W001",
         "profCode": "13"
        },
        {
         "coursesCode": "F18L2W001",
         "profCode": "16"
        },
        {
         "coursesCode": "F18L2W001",
         "profCode": "32"
        },
        {
         "coursesCode": "F18L2W001",
         "profCode": "37"
        },
        {
         "coursesCode": "F18L2W001",
         "profCode": "44"
        },
        {
         "coursesCode": "F18L2W006",
         "profCode": "5"
        },
        {
         "coursesCode": "F18L2W006",
         "profCode": "12"
        },
        {
         "coursesCode": "F18L2W006",
         "profCode": "38"
        },
        {
         "coursesCode": "F18L2W006",
         "profCode": "39"
        },
        {
         "coursesCode": "F18L2W006",
         "profCode": "40"
        },
        {
         "coursesCode": "F18L2W046",
         "profCode": "1"
        },
        {
         "coursesCode": "F18L2W046",
         "profCode": "17"
        },
        {
         "coursesCode": "F18L2W046",
         "profCode": "24"
        },
        {
         "coursesCode": "F18L2W067",
         "profCode": "5"
        },
        {
         "coursesCode": "F18L2W067",
         "profCode": "38"
        },
        {
         "coursesCode": "F18L2W067",
         "profCode": "39"
        },
        {
         "coursesCode": "F18L3S010",
         "profCode": "3"
        },
        {
         "coursesCode": "F18L3S010",
         "profCode": "14"
        },
        {
         "coursesCode": "F18L3S010",
         "profCode": "23"
        },
        {
         "coursesCode": "F18L3S010",
         "profCode": "45"
        },
        {
         "coursesCode": "F18L3S012",
         "profCode": "18"
        },
        {
         "coursesCode": "F18L3S019",
         "profCode": "16"
        },
        {
         "coursesCode": "F18L3S019",
         "profCode": "44"
        },
        {
         "coursesCode": "F18L3S022",
         "profCode": "9"
        },
        {
         "coursesCode": "F18L3S022",
         "profCode": "11"
        },
        {
         "coursesCode": "F18L3S022",
         "profCode": "41"
        },
        {
         "coursesCode": "F18L3S022",
         "profCode": "43"
        },
        {
         "coursesCode": "F18L3S022",
         "profCode": "49"
        },
        {
         "coursesCode": "F18L3S025",
         "profCode": "9"
        },
        {
         "coursesCode": "F18L3S025",
         "profCode": "11"
        },
        {
         "coursesCode": "F18L3S025",
         "profCode": "22"
        },
        {
         "coursesCode": "F18L3S025",
         "profCode": "34"
        },
        {
         "coursesCode": "F18L3S028",
         "profCode": "6"
        },
        {
         "coursesCode": "F18L3S036",
         "profCode": "35"
        },
        {
         "coursesCode": "F18L3S036",
         "profCode": "54"
        },
        {
         "coursesCode": "F18L3S039",
         "profCode": "12"
        },
        {
         "coursesCode": "F18L3S040",
         "profCode": "14"
        },
        {
         "coursesCode": "F18L3S040",
         "profCode": "49"
        },
        {
         "coursesCode": "F18L3S047",
         "profCode": "19"
        },
        {
         "coursesCode": "F18L3S047",
         "profCode": "47"
        },
        {
         "coursesCode": "F18L3S054",
         "profCode": "7"
        },
        {
         "coursesCode": "F18L3S056",
         "profCode": "7"
        },
        {
         "coursesCode": "F18L3S059",
         "profCode": "54"
        },
        {
         "coursesCode": "F18L3S062",
         "profCode": "20"
        },
        {
         "coursesCode": "F18L3S063",
         "profCode": "24"
        },
        {
         "coursesCode": "F18L3S063",
         "profCode": "26"
        },
        {
         "coursesCode": "F18L3S063",
         "profCode": "35"
        },
        {
         "coursesCode": "F18L3S063",
         "profCode": "54"
        },
        {
         "coursesCode": "F18L3W004",
         "profCode": "13"
        },
        {
         "coursesCode": "F18L3W004",
         "profCode": "15"
        },
        {
         "coursesCode": "F18L3W004",
         "profCode": "23"
        },
        {
         "coursesCode": "F18L3W004",
         "profCode": "29"
        },
        {
         "coursesCode": "F18L3W004",
         "profCode": "33"
        },
        {
         "coursesCode": "F18L3W004",
         "profCode": "36"
        },
        {
         "coursesCode": "F18L3W004",
         "profCode": "46"
        },
        {
         "coursesCode": "F18L3W009",
         "profCode": "8"
        },
        {
         "coursesCode": "F18L3W009",
         "profCode": "11"
        },
        {
         "coursesCode": "F18L3W009",
         "profCode": "27"
        },
        {
         "coursesCode": "F18L3W024",
         "profCode": "9"
        },
        {
         "coursesCode": "F18L3W024",
         "profCode": "34"
        },
        {
         "coursesCode": "F18L3W024",
         "profCode": "41"
        },
        {
         "coursesCode": "F18L3W027",
         "profCode": "4"
        },
        {
         "coursesCode": "F18L3W027",
         "profCode": "11"
        },
        {
         "coursesCode": "F18L3W027",
         "profCode": "15"
        },
        {
         "coursesCode": "F18L3W027",
         "profCode": "28"
        },
        {
         "coursesCode": "F18L3W027",
         "profCode": "41"
        },
        {
         "coursesCode": "F18L3W035",
         "profCode": "5"
        },
        {
         "coursesCode": "F18L3W035",
         "profCode": "12"
        },
        {
         "coursesCode": "F18L3W035",
         "profCode": "30"
        },
        {
         "coursesCode": "F18L3W035",
         "profCode": "38"
        },
        {
         "coursesCode": "F18L3W035",
         "profCode": "39"
        },
        {
         "coursesCode": "F18L3W037",
         "profCode": "1"
        },
        {
         "coursesCode": "F18L3W037",
         "profCode": "37"
        },
        {
         "coursesCode": "F18L3W037",
         "profCode": "46"
        },
        {
         "coursesCode": "F18L3W037",
         "profCode": "49"
        },
        {
         "coursesCode": "F18L3W038",
         "profCode": "31"
        },
        {
         "coursesCode": "F18L3W038",
         "profCode": "33"
        },
        {
         "coursesCode": "F18L3W038",
         "profCode": "45"
        },
        {
         "coursesCode": "F18L3W043",
         "profCode": "21"
        },
        {
         "coursesCode": "F18L3W044",
         "profCode": "19"
        },
        {
         "coursesCode": "F18L3W048",
         "profCode": "26"
        },
        {
         "coursesCode": "F18L3W048",
         "profCode": "35"
        },
        {
         "coursesCode": "F18L3W048",
         "profCode": "49"
        },
        {
         "coursesCode": "F18L3W050",
         "profCode": "22"
        },
        {
         "coursesCode": "F18L3W053",
         "profCode": "2"
        },
        {
         "coursesCode": "F18L3W055",
         "profCode": "31"
        },
        {
         "coursesCode": "F18L3W060",
         "profCode": "20"
        },
        {
         "coursesCode": "F18L3W060",
         "profCode": "43"
        },
        {
         "coursesCode": "F18L3W064",
         "profCode": "6"
        },
        {
         "coursesCode": "F18L3W064",
         "profCode": "20"
        },
        {
         "coursesCode": "F18L3W064",
         "profCode": "47"
        },
        {
         "coursesCode": "F18L3W065",
         "profCode": "16"
        },
        {
         "coursesCode": "F18L3W065",
         "profCode": "17"
        },
        {
         "coursesCode": "F18L3W068",
         "profCode": "1"
        }
       ]
      },
      "text/html": "<table><tr><th>coursesCode</th><th>profCode</th></tr><tr><td>F18L1S003</td><td>1</td></tr><tr><td>F18L1S003</td><td>11</td></tr><tr><td>F18L1S003</td><td>24</td></tr><tr><td>F18L1S003</td><td>26</td></tr><tr><td>F18L1S003</td><td>32</td></tr><tr><td>F18L1S003</td><td>34</td></tr><tr><td>F18L1S003</td><td>35</td></tr><tr><td>F18L1S003</td><td>37</td></tr><tr><td>F18L1S003</td><td>49</td></tr><tr><td>F18L1S003</td><td>54</td></tr><tr><td>F18L1S013</td><td>5</td></tr><tr><td>F18L1S013</td><td>21</td></tr><tr><td>F18L1S013</td><td>30</td></tr><tr><td>F18L1S013</td><td>38</td></tr><tr><td>F18L1S013</td><td>39</td></tr><tr><td>F18L1S013</td><td>40</td></tr><tr><td>F18L1S015</td><td>13</td></tr><tr><td>F18L1S015</td><td>32</td></tr><tr><td>F18L1S015</td><td>33</td></tr><tr><td>F18L1S016</td><td>7</td></tr><tr><td>F18L1S016</td><td>8</td></tr><tr><td>F18L1S016</td><td>14</td></tr><tr><td>F18L1S016</td><td>18</td></tr><tr><td>F18L1S016</td><td>25</td></tr><tr><td>F18L1S016</td><td>27</td></tr><tr><td>F18L1S016</td><td>44</td></tr><tr><td>F18L1S023</td><td>5</td></tr><tr><td>F18L1S023</td><td>12</td></tr><tr><td>F18L1S023</td><td>38</td></tr><tr><td>F18L1S023</td><td>39</td></tr><tr><td>F18L1S023</td><td>40</td></tr><tr><td>F18L1S026</td><td>28</td></tr><tr><td>F18L1S026</td><td>32</td></tr><tr><td>F18L1S026</td><td>36</td></tr><tr><td>F18L1S026</td><td>42</td></tr><tr><td>F18L1S032</td><td>12</td></tr><tr><td>F18L1S032</td><td>24</td></tr><tr><td>F18L1S032</td><td>31</td></tr><tr><td>F18L1S032</td><td>39</td></tr><tr><td>F18L1S032</td><td>40</td></tr><tr><td>F18L1S034</td><td>5</td></tr><tr><td>F18L1S034</td><td>30</td></tr><tr><td>F18L1S034</td><td>38</td></tr><tr><td>F18L1S034</td><td>40</td></tr><tr><td>F18L1S045</td><td>17</td></tr><tr><td>F18L1S052</td><td>31</td></tr><tr><td>F18L1S066</td><td>16</td></tr><tr><td>F18L1S066</td><td>17</td></tr><tr><td>F18L1S066</td><td>23</td></tr><tr><td>F18L1S116</td><td>4</td></tr><tr><td>F18L1S116</td><td>42</td></tr><tr><td>F18L1S120</td><td>6</td></tr><tr><td>F18L1S120</td><td>17</td></tr><tr><td>F18L1S146</td><td>13</td></tr><tr><td>F18L1S146</td><td>18</td></tr><tr><td>F18L1S146</td><td>22</td></tr><tr><td>F18L1S146</td><td>45</td></tr><tr><td>F18L1W005</td><td>28</td></tr><tr><td>F18L1W005</td><td>36</td></tr><tr><td>F18L1W007</td><td>2</td></tr><tr><td>F18L1W007</td><td>3</td></tr><tr><td>F18L1W007</td><td>4</td></tr><tr><td>F18L1W007</td><td>30</td></tr><tr><td>F18L1W007</td><td>32</td></tr><tr><td>F18L1W007</td><td>43</td></tr><tr><td>F18L1W007</td><td>45</td></tr><tr><td>F18L1W011</td><td>12</td></tr><tr><td>F18L1W011</td><td>24</td></tr><tr><td>F18L1W011</td><td>30</td></tr><tr><td>F18L1W011</td><td>31</td></tr><tr><td>F18L1W011</td><td>38</td></tr><tr><td>F18L1W011</td><td>39</td></tr><tr><td>F18L1W011</td><td>40</td></tr><tr><td>F18L1W018</td><td>19</td></tr><tr><td>F18L1W018</td><td>30</td></tr><tr><td>F18L1W018</td><td>32</td></tr><tr><td>F18L1W018</td><td>33</td></tr><tr><td>F18L1W018</td><td>36</td></tr><tr><td>F18L1W018</td><td>37</td></tr><tr><td>F18L1W018</td><td>42</td></tr><tr><td>F18L1W018</td><td>43</td></tr><tr><td>F18L1W020</td><td>7</td></tr><tr><td>F18L1W020</td><td>8</td></tr><tr><td>F18L1W020</td><td>14</td></tr><tr><td>F18L1W020</td><td>18</td></tr><tr><td>F18L1W020</td><td>25</td></tr><tr><td>F18L1W020</td><td>27</td></tr><tr><td>F18L1W020</td><td>31</td></tr><tr><td>F18L1W020</td><td>44</td></tr><tr><td>F18L1W031</td><td>24</td></tr><tr><td>F18L1W031</td><td>39</td></tr><tr><td>F18L1W033</td><td>30</td></tr><tr><td>F18L1W041</td><td>21</td></tr><tr><td>F18L1W041</td><td>34</td></tr><tr><td>F18L1W049</td><td>19</td></tr><tr><td>F18L2S002</td><td>11</td></tr><tr><td>F18L2S002</td><td>17</td></tr><tr><td>F18L2S002</td><td>36</td></tr><tr><td>F18L2S017</td><td>9</td></tr><tr><td>F18L2S017</td><td>14</td></tr><tr><td>F18L2S017</td><td>20</td></tr><tr><td>F18L2S017</td><td>21</td></tr><tr><td>F18L2S017</td><td>26</td></tr><tr><td>F18L2S017</td><td>34</td></tr><tr><td>F18L2S017</td><td>41</td></tr><tr><td>F18L2S017</td><td>44</td></tr><tr><td>F18L2S029</td><td>2</td></tr><tr><td>F18L2S029</td><td>8</td></tr><tr><td>F18L2S029</td><td>25</td></tr><tr><td>F18L2S029</td><td>27</td></tr><tr><td>F18L2S030</td><td>2</td></tr><tr><td>F18L2S030</td><td>10</td></tr><tr><td>F18L2S030</td><td>23</td></tr><tr><td>F18L2S030</td><td>33</td></tr><tr><td>F18L2S030</td><td>47</td></tr><tr><td>F18L2S042</td><td>4</td></tr><tr><td>F18L2S051</td><td>22</td></tr><tr><td>F18L2S051</td><td>31</td></tr><tr><td>F18L2S061</td><td>16</td></tr><tr><td>F18L2S061</td><td>17</td></tr><tr><td>F18L2W001</td><td>6</td></tr><tr><td>F18L2W001</td><td>7</td></tr><tr><td>F18L2W001</td><td>13</td></tr><tr><td>F18L2W001</td><td>16</td></tr><tr><td>F18L2W001</td><td>32</td></tr><tr><td>F18L2W001</td><td>37</td></tr><tr><td>F18L2W001</td><td>44</td></tr><tr><td>F18L2W006</td><td>5</td></tr><tr><td>F18L2W006</td><td>12</td></tr><tr><td>F18L2W006</td><td>38</td></tr><tr><td>F18L2W006</td><td>39</td></tr><tr><td>F18L2W006</td><td>40</td></tr><tr><td>F18L2W046</td><td>1</td></tr><tr><td>F18L2W046</td><td>17</td></tr><tr><td>F18L2W046</td><td>24</td></tr><tr><td>F18L2W067</td><td>5</td></tr><tr><td>F18L2W067</td><td>38</td></tr><tr><td>F18L2W067</td><td>39</td></tr><tr><td>F18L3S010</td><td>3</td></tr><tr><td>F18L3S010</td><td>14</td></tr><tr><td>F18L3S010</td><td>23</td></tr><tr><td>F18L3S010</td><td>45</td></tr><tr><td>F18L3S012</td><td>18</td></tr><tr><td>F18L3S019</td><td>16</td></tr><tr><td>F18L3S019</td><td>44</td></tr><tr><td>F18L3S022</td><td>9</td></tr><tr><td>F18L3S022</td><td>11</td></tr><tr><td>F18L3S022</td><td>41</td></tr><tr><td>F18L3S022</td><td>43</td></tr><tr><td>F18L3S022</td><td>49</td></tr><tr><td>F18L3S025</td><td>9</td></tr><tr><td>F18L3S025</td><td>11</td></tr><tr><td>F18L3S025</td><td>22</td></tr><tr><td>F18L3S025</td><td>34</td></tr><tr><td>F18L3S028</td><td>6</td></tr><tr><td>F18L3S036</td><td>35</td></tr><tr><td>F18L3S036</td><td>54</td></tr><tr><td>F18L3S039</td><td>12</td></tr><tr><td>F18L3S040</td><td>14</td></tr><tr><td>F18L3S040</td><td>49</td></tr><tr><td>F18L3S047</td><td>19</td></tr><tr><td>F18L3S047</td><td>47</td></tr><tr><td>F18L3S054</td><td>7</td></tr><tr><td>F18L3S056</td><td>7</td></tr><tr><td>F18L3S059</td><td>54</td></tr><tr><td>F18L3S062</td><td>20</td></tr><tr><td>F18L3S063</td><td>24</td></tr><tr><td>F18L3S063</td><td>26</td></tr><tr><td>F18L3S063</td><td>35</td></tr><tr><td>F18L3S063</td><td>54</td></tr><tr><td>F18L3W004</td><td>13</td></tr><tr><td>F18L3W004</td><td>15</td></tr><tr><td>F18L3W004</td><td>23</td></tr><tr><td>F18L3W004</td><td>29</td></tr><tr><td>F18L3W004</td><td>33</td></tr><tr><td>F18L3W004</td><td>36</td></tr><tr><td>F18L3W004</td><td>46</td></tr><tr><td>F18L3W009</td><td>8</td></tr><tr><td>F18L3W009</td><td>11</td></tr><tr><td>F18L3W009</td><td>27</td></tr><tr><td>F18L3W024</td><td>9</td></tr><tr><td>F18L3W024</td><td>34</td></tr><tr><td>F18L3W024</td><td>41</td></tr><tr><td>F18L3W027</td><td>4</td></tr><tr><td>F18L3W027</td><td>11</td></tr><tr><td>F18L3W027</td><td>15</td></tr><tr><td>F18L3W027</td><td>28</td></tr><tr><td>F18L3W027</td><td>41</td></tr><tr><td>F18L3W035</td><td>5</td></tr><tr><td>F18L3W035</td><td>12</td></tr><tr><td>F18L3W035</td><td>30</td></tr><tr><td>F18L3W035</td><td>38</td></tr><tr><td>F18L3W035</td><td>39</td></tr><tr><td>F18L3W037</td><td>1</td></tr><tr><td>F18L3W037</td><td>37</td></tr><tr><td>F18L3W037</td><td>46</td></tr><tr><td>F18L3W037</td><td>49</td></tr><tr><td>F18L3W038</td><td>31</td></tr><tr><td>F18L3W038</td><td>33</td></tr><tr><td>F18L3W038</td><td>45</td></tr><tr><td>F18L3W043</td><td>21</td></tr><tr><td>F18L3W044</td><td>19</td></tr><tr><td>F18L3W048</td><td>26</td></tr><tr><td>F18L3W048</td><td>35</td></tr><tr><td>F18L3W048</td><td>49</td></tr><tr><td>F18L3W050</td><td>22</td></tr><tr><td>F18L3W053</td><td>2</td></tr><tr><td>F18L3W055</td><td>31</td></tr><tr><td>F18L3W060</td><td>20</td></tr><tr><td>F18L3W060</td><td>43</td></tr><tr><td>F18L3W064</td><td>6</td></tr><tr><td>F18L3W064</td><td>20</td></tr><tr><td>F18L3W064</td><td>47</td></tr><tr><td>F18L3W065</td><td>16</td></tr><tr><td>F18L3W065</td><td>17</td></tr><tr><td>F18L3W068</td><td>1</td></tr></table>"
     },
     "metadata": {}
    }
   ],
   "execution_count": 84
  },
  {
   "cell_type": "markdown",
   "source": [
    "# **4\\. TABLE MANIPULATION**"
   ],
   "metadata": {
    "azdata_cell_guid": "99656cf3-3126-4475-9456-871be0b79a4d"
   },
   "attachments": {}
  },
  {
   "cell_type": "markdown",
   "source": [
    "> ## 4.1. Setting the correct number of mandatory courses eash professor is involved in (based on the information listed in the faculty's webpage)"
   ],
   "metadata": {
    "azdata_cell_guid": "8dc7914f-4c6b-4e68-8935-1825fc771b3b"
   },
   "attachments": {}
  },
  {
   "cell_type": "code",
   "source": [
    "UPDATE Professors\n",
    "SET numberOfCourses = ProfessorCount\n",
    "FROM (\n",
    "    SELECT ProfCode, COUNT(*) AS ProfessorCount\n",
    "    FROM CourseProfessors\n",
    "    GROUP BY ProfCode\n",
    ") AS Counts\n",
    "WHERE Professors.profCode = Counts.ProfCode;\n",
    "\n",
    "UPDATE Professors\n",
    "SET numberOfCourses = 0\n",
    "WHERE Professors.numberOfCourses IS NULL\n",
    "\n",
    "SELECT * FROM Professors"
   ],
   "metadata": {
    "azdata_cell_guid": "0c29f012-d83b-4332-847f-272ae6982368",
    "language": "sql",
    "tags": []
   },
   "outputs": [
    {
     "output_type": "display_data",
     "data": {
      "text/html": "(49 rows affected)"
     },
     "metadata": {}
    },
    {
     "output_type": "display_data",
     "data": {
      "text/html": "(0 rows affected)"
     },
     "metadata": {}
    },
    {
     "output_type": "display_data",
     "data": {
      "text/html": "(86 rows affected)"
     },
     "metadata": {}
    },
    {
     "output_type": "display_data",
     "data": {
      "text/html": "Total execution time: 00:00:00.083"
     },
     "metadata": {}
    },
    {
     "output_type": "execute_result",
     "execution_count": 91,
     "data": {
      "application/vnd.dataresource+json": {
       "schema": {
        "fields": [
         {
          "name": "profCode"
         },
         {
          "name": "firstName"
         },
         {
          "name": "lastName"
         },
         {
          "name": "email"
         },
         {
          "name": "numberOfCourses"
         }
        ]
       },
       "data": [
        {
         "profCode": "1",
         "firstName": "Марјан",
         "lastName": "Гушев",
         "email": "marjan.gushev@finki.ukim.mk",
         "numberOfCourses": "4"
        },
        {
         "profCode": "2",
         "firstName": "Катерина",
         "lastName": "Здравкова",
         "email": "katerina.zdravkova@finki.ukim.mk",
         "numberOfCourses": "4"
        },
        {
         "profCode": "3",
         "firstName": "Сузана",
         "lastName": "Лошковска",
         "email": "suzana.loshkovska@finki.ukim.mk",
         "numberOfCourses": "2"
        },
        {
         "profCode": "4",
         "firstName": "Коста",
         "lastName": "Митрески",
         "email": "kosta.mitreski@finki.ukim.mk",
         "numberOfCourses": "4"
        },
        {
         "profCode": "5",
         "firstName": "Верица",
         "lastName": "Бакева",
         "email": "verica.bakeva@finki.ukim.mk",
         "numberOfCourses": "6"
        },
        {
         "profCode": "6",
         "firstName": "Владимир",
         "lastName": "Трајковиќ",
         "email": "vladimir.trajkovik@finki.ukim.mk",
         "numberOfCourses": "4"
        },
        {
         "profCode": "7",
         "firstName": "Ана",
         "lastName": "Мадевска Богданова",
         "email": "ana.madevska@finki.ukim.mk",
         "numberOfCourses": "5"
        },
        {
         "profCode": "8",
         "firstName": "Дејан",
         "lastName": "Ѓорѓевиќ",
         "email": "dejan.gjorgjevikj@finki.ukim.mk",
         "numberOfCourses": "4"
        },
        {
         "profCode": "9",
         "firstName": "Димитар",
         "lastName": "Трајанов",
         "email": "dimitar.trajanov@finki.ukim.mk",
         "numberOfCourses": "4"
        },
        {
         "profCode": "10",
         "firstName": "Андреа",
         "lastName": "Кулаков",
         "email": "andrea.kulakov@finki.ukim.mk",
         "numberOfCourses": "1"
        },
        {
         "profCode": "11",
         "firstName": "Љупчо",
         "lastName": "Антовски",
         "email": "ljupcho.antovski@finki.ukim.mk",
         "numberOfCourses": "6"
        },
        {
         "profCode": "12",
         "firstName": "Марија",
         "lastName": "Михова",
         "email": "marija.mihova@finki.ukim.mk",
         "numberOfCourses": "6"
        },
        {
         "profCode": "13",
         "firstName": "Слободан",
         "lastName": "Калајџиски",
         "email": "slobodan.kalajdziski@finki.ukim.mk",
         "numberOfCourses": "4"
        },
        {
         "profCode": "14",
         "firstName": "Невена",
         "lastName": "Ацковска",
         "email": "nevena.ackovska@finki.ukim.mk",
         "numberOfCourses": "5"
        },
        {
         "profCode": "15",
         "firstName": "Горан",
         "lastName": "Велинов",
         "email": "goran.velinov@finki.ukim.mk",
         "numberOfCourses": "2"
        },
        {
         "profCode": "16",
         "firstName": "Анастас",
         "lastName": "Мишев",
         "email": "anastas.mishev@finki.ukim.mk",
         "numberOfCourses": "5"
        },
        {
         "profCode": "17",
         "firstName": "Соња",
         "lastName": "Филипоска",
         "email": "sonja.filiposka@finki.ukim.mk",
         "numberOfCourses": "7"
        },
        {
         "profCode": "18",
         "firstName": "Иван",
         "lastName": "Чорбев",
         "email": "ivan.chorbev@finki.ukim.mk",
         "numberOfCourses": "4"
        },
        {
         "profCode": "19",
         "firstName": "Ласко",
         "lastName": "Баснарков",
         "email": "lasko.basnarkov@finki.ukim.mk",
         "numberOfCourses": "4"
        },
        {
         "profCode": "20",
         "firstName": "Боро",
         "lastName": "Јакимовски",
         "email": "boro.jakimovski@finki.ukim.mk",
         "numberOfCourses": "4"
        },
        {
         "profCode": "21",
         "firstName": "Весна",
         "lastName": "Димитрова",
         "email": "vesna.dimitrova@finki.ukim.mk",
         "numberOfCourses": "4"
        },
        {
         "profCode": "22",
         "firstName": "Гоце",
         "lastName": "Арменски",
         "email": "goce.armenski@finki.ukim.mk",
         "numberOfCourses": "4"
        },
        {
         "profCode": "23",
         "firstName": "Соња",
         "lastName": "Гиевска",
         "email": "sonja.gievska@finki.ukim.mk",
         "numberOfCourses": "4"
        },
        {
         "profCode": "24",
         "firstName": "Дејан",
         "lastName": "Спасов",
         "email": "dejan.spasov@finki.ukim.mk",
         "numberOfCourses": "6"
        },
        {
         "profCode": "25",
         "firstName": "Ивица",
         "lastName": "Димитровски",
         "email": "ivica.dimitrovski@finki.ukim.mk",
         "numberOfCourses": "3"
        },
        {
         "profCode": "26",
         "firstName": "Игор",
         "lastName": "Мишковски",
         "email": "igor.mishkovski@finki.ukim.mk",
         "numberOfCourses": "4"
        },
        {
         "profCode": "27",
         "firstName": "Ѓорѓи",
         "lastName": "Маџаров",
         "email": "gjorgji.madjarov@finki.ukim.mk",
         "numberOfCourses": "4"
        },
        {
         "profCode": "28",
         "firstName": "Смилка",
         "lastName": "Јанеска-Саркањац",
         "email": "smilka.janeska.sarkanjac@finki.ukim.mk",
         "numberOfCourses": "3"
        },
        {
         "profCode": "29",
         "firstName": "Вангел",
         "lastName": "Ајановски",
         "email": "vangel.ajanovski@finki.ukim.mk",
         "numberOfCourses": "1"
        },
        {
         "profCode": "30",
         "firstName": "Весна",
         "lastName": "Димитриевска Ристовска",
         "email": "vesna.dimitrievska.ristovska@finki.ukim.mk",
         "numberOfCourses": "7"
        },
        {
         "profCode": "31",
         "firstName": "Миле",
         "lastName": "Јованов",
         "email": "mile.jovanov@finki.ukim.mk",
         "numberOfCourses": "7"
        },
        {
         "profCode": "32",
         "firstName": "Билјана",
         "lastName": "Стојкоска",
         "email": "biljana.stojkoska@finki.ukim.mk",
         "numberOfCourses": "6"
        },
        {
         "profCode": "33",
         "firstName": "Кире",
         "lastName": "Триводалиев",
         "email": "kire.trivodaliev@finki.ukim.mk",
         "numberOfCourses": "5"
        },
        {
         "profCode": "34",
         "firstName": "Сашо",
         "lastName": "Граматиков",
         "email": "sasho.gramatikov@finki.ukim.mk",
         "numberOfCourses": "5"
        },
        {
         "profCode": "35",
         "firstName": "Мирослав",
         "lastName": "Мирчев",
         "email": "miroslav.mirchev@finki.ukim.mk",
         "numberOfCourses": "4"
        },
        {
         "profCode": "36",
         "firstName": "Георгина",
         "lastName": "Мирчева",
         "email": "georgina.mircheva@finki.ukim.mk",
         "numberOfCourses": "5"
        },
        {
         "profCode": "37",
         "firstName": "Магдалена",
         "lastName": "Костоска",
         "email": "magdalena.kostoska@finki.ukim.mk",
         "numberOfCourses": "4"
        },
        {
         "profCode": "38",
         "firstName": "Александра",
         "lastName": "Поповска Митровиќ",
         "email": "aleksandra.popovska.mitrovikj@finki.ukim.mk",
         "numberOfCourses": "7"
        },
        {
         "profCode": "39",
         "firstName": "Наташа",
         "lastName": "Илиевска",
         "email": "natasha.ilievska@finki.ukim.mk",
         "numberOfCourses": "8"
        },
        {
         "profCode": "40",
         "firstName": "Билјана",
         "lastName": "Тојтовска",
         "email": "biljana.tojtovska@finki.ukim.mk",
         "numberOfCourses": "6"
        },
        {
         "profCode": "41",
         "firstName": "Милош",
         "lastName": "Јовановиќ",
         "email": "milos.jovanovik@finki.ukim.mk",
         "numberOfCourses": "4"
        },
        {
         "profCode": "42",
         "firstName": "Андреја",
         "lastName": "Наумоски",
         "email": "andreja.naumoski@finki.ukim.mk",
         "numberOfCourses": "3"
        },
        {
         "profCode": "43",
         "firstName": "Панче",
         "lastName": "Рибарски",
         "email": "pance.ribarski@finki.ukim.mk",
         "numberOfCourses": "4"
        },
        {
         "profCode": "44",
         "firstName": "Христина",
         "lastName": "Михајлоска",
         "email": "hristina.mihajloska@finki.ukim.mk",
         "numberOfCourses": "5"
        },
        {
         "profCode": "45",
         "firstName": "Иван",
         "lastName": "Китановски",
         "email": "ivan.kitanovski@finki.ukim.mk",
         "numberOfCourses": "4"
        },
        {
         "profCode": "46",
         "firstName": "Ефтим",
         "lastName": "Здравевски",
         "email": "eftim.zdravevski@finki.ukim.mk",
         "numberOfCourses": "2"
        },
        {
         "profCode": "47",
         "firstName": "Петре",
         "lastName": "Ламески",
         "email": "petre.lameski@finki.ukim.mk",
         "numberOfCourses": "3"
        },
        {
         "profCode": "48",
         "firstName": "Катарина",
         "lastName": "Тројачанец Динева",
         "email": "katarina.trojacanec@finki.ukim.mk",
         "numberOfCourses": "0"
        },
        {
         "profCode": "49",
         "firstName": "Владимир",
         "lastName": "Здравески",
         "email": "vladimir.zdraveski@finki.ukim.mk",
         "numberOfCourses": "5"
        },
        {
         "profCode": "50",
         "firstName": "Бојана",
         "lastName": "Котеска",
         "email": "bojana.koteska@finki.ukim.mk",
         "numberOfCourses": "0"
        },
        {
         "profCode": "51",
         "firstName": "Моника",
         "lastName": "Симјаноска",
         "email": "monika.simjanoska@finki.ukim.mk",
         "numberOfCourses": "0"
        },
        {
         "profCode": "52",
         "firstName": "Методија",
         "lastName": "Јанчески",
         "email": "metodija.jancheski@finki.ukim.mk",
         "numberOfCourses": "0"
        },
        {
         "profCode": "53",
         "firstName": "Ристе",
         "lastName": "Стојанов",
         "email": "riste.stojanov@finki.ukim.mk",
         "numberOfCourses": "0"
        },
        {
         "profCode": "54",
         "firstName": "Александра",
         "lastName": "Дединец",
         "email": "aleksandra.dedinec@finki.ukim.mk",
         "numberOfCourses": "4"
        },
        {
         "profCode": "55",
         "firstName": "Емил",
         "lastName": "Станков",
         "email": "emil.stankov@finki.ukim.mk",
         "numberOfCourses": "0"
        },
        {
         "profCode": "56",
         "firstName": "Борис",
         "lastName": "Станоев",
         "email": "boris.stanoev@finki.ukim.mk",
         "numberOfCourses": "0"
        },
        {
         "profCode": "57",
         "firstName": "Бобан",
         "lastName": "Јоксимоски",
         "email": "boban.joksimoski@finki.ukim.mk",
         "numberOfCourses": "0"
        },
        {
         "profCode": "58",
         "firstName": "Илинка",
         "lastName": "Иваноска",
         "email": "ilinka.ivanoska@finki.ukim.mk",
         "numberOfCourses": "0"
        },
        {
         "profCode": "59",
         "firstName": "Бојан",
         "lastName": "Илијоски",
         "email": "bojan.ilijoski@finki.ukim.mk",
         "numberOfCourses": "0"
        },
        {
         "profCode": "60",
         "firstName": "Костадин",
         "lastName": "Мишев",
         "email": "kostadin.mishev@finki.ukim.mk",
         "numberOfCourses": "0"
        },
        {
         "profCode": "61",
         "firstName": "Александар",
         "lastName": "Тенев",
         "email": "aleksandar.tenev@finki.ukim.mk",
         "numberOfCourses": "0"
        },
        {
         "profCode": "62",
         "firstName": "Александар",
         "lastName": "Стојменски",
         "email": "aleksandar.stojmenski@finki.ukim.mk",
         "numberOfCourses": "0"
        },
        {
         "profCode": "63",
         "firstName": "Ненад",
         "lastName": "Анчев",
         "email": "nenad.anchev@finki.ukim.mk",
         "numberOfCourses": "0"
        },
        {
         "profCode": "64",
         "firstName": "Војдан",
         "lastName": "Ќорвезироски",
         "email": "vojdan.kjorveziroski@finki.ukim.mk",
         "numberOfCourses": "0"
        },
        {
         "profCode": "65",
         "firstName": "Мартина",
         "lastName": "Тошевска",
         "email": "martina.toshevska@finki.ukim.mk",
         "numberOfCourses": "0"
        },
        {
         "profCode": "66",
         "firstName": "Влатко",
         "lastName": "Спасев",
         "email": "vlatko.spasev@finki.ukim.mk",
         "numberOfCourses": "0"
        },
        {
         "profCode": "67",
         "firstName": "Петар",
         "lastName": "Секулоски",
         "email": "petar.sekuloski@finki.ukim.mk",
         "numberOfCourses": "0"
        },
        {
         "profCode": "68",
         "firstName": "Стефан",
         "lastName": "Андонов",
         "email": "stefan.andonov@finki.ukim.mk",
         "numberOfCourses": "0"
        },
        {
         "profCode": "69",
         "firstName": "Кирил",
         "lastName": "Ќироски",
         "email": "kiril.kjiroski@finki.ukim.mk",
         "numberOfCourses": "0"
        },
        {
         "profCode": "70",
         "firstName": "Ана",
         "lastName": "Тодоровска",
         "email": "ana.todorovska@finki.ukim.mk",
         "numberOfCourses": "0"
        },
        {
         "profCode": "71",
         "firstName": "Јована",
         "lastName": "Добрева",
         "email": "jovana.dobreva@finki.ukim.mk",
         "numberOfCourses": "0"
        },
        {
         "profCode": "72",
         "firstName": "Јана",
         "lastName": "Кузманова",
         "email": "jana.kuzmanova@finki.ukim.mk",
         "numberOfCourses": "0"
        },
        {
         "profCode": "73",
         "firstName": "Димитар",
         "lastName": "Китановски",
         "email": "dimitar.kitanovski@finki.ukim.mk",
         "numberOfCourses": "0"
        },
        {
         "profCode": "74",
         "firstName": "Томе",
         "lastName": "Ефтимов",
         "email": "tome.eftimov@finki.ukim.mk",
         "numberOfCourses": "0"
        },
        {
         "profCode": "75",
         "firstName": "Андреј",
         "lastName": "Ристески",
         "email": "andrej.risteski@finki.ukim.mk",
         "numberOfCourses": "0"
        },
        {
         "profCode": "76",
         "firstName": "Славе",
         "lastName": "Темков",
         "email": "slave.temkov@finki.ukim.mk",
         "numberOfCourses": "0"
        },
        {
         "profCode": "77",
         "firstName": "Милена",
         "lastName": "Трајаноска",
         "email": "milena.trajanoska@finki.ukim.mk",
         "numberOfCourses": "0"
        },
        {
         "profCode": "78",
         "firstName": "Живко",
         "lastName": "Атанаскоски",
         "email": "zhivko.atanaskoski@finki.ukim.mk",
         "numberOfCourses": "0"
        },
        {
         "profCode": "79",
         "firstName": "Димитар",
         "lastName": "Милески",
         "email": "dimitar.mileski@finki.ukim.mk",
         "numberOfCourses": "0"
        },
        {
         "profCode": "80",
         "firstName": "Зорица",
         "lastName": "Карапанчева",
         "email": "zorica.karapancheva@finki.ukim.mk",
         "numberOfCourses": "0"
        },
        {
         "profCode": "81",
         "firstName": "Марија",
         "lastName": "Танеска",
         "email": "marija.taneska@finki.ukim.mk",
         "numberOfCourses": "0"
        },
        {
         "profCode": "82",
         "firstName": "Мила",
         "lastName": "Додевска",
         "email": "mila.dodevska@finki.ukim.mk",
         "numberOfCourses": "0"
        },
        {
         "profCode": "83",
         "firstName": "Ана",
         "lastName": "Атанасова",
         "email": "ana.atanasova@finki.ukim.mk",
         "numberOfCourses": "0"
        },
        {
         "profCode": "84",
         "firstName": "Александар",
         "lastName": "Петрушев",
         "email": "aleksandar.petrushev@finki.ukim.mk",
         "numberOfCourses": "0"
        },
        {
         "profCode": "85",
         "firstName": "Мартин",
         "lastName": "Динев",
         "email": "martin.dinev@finki.ukim.mk",
         "numberOfCourses": "0"
        },
        {
         "profCode": "86",
         "firstName": "Владислав",
         "lastName": "Бидиков",
         "email": "vladislav.bidikov@finki.ukim.mk",
         "numberOfCourses": "0"
        }
       ]
      },
      "text/html": "<table><tr><th>profCode</th><th>firstName</th><th>lastName</th><th>email</th><th>numberOfCourses</th></tr><tr><td>1</td><td>Марјан</td><td>Гушев</td><td>marjan.gushev@finki.ukim.mk</td><td>4</td></tr><tr><td>2</td><td>Катерина</td><td>Здравкова</td><td>katerina.zdravkova@finki.ukim.mk</td><td>4</td></tr><tr><td>3</td><td>Сузана</td><td>Лошковска</td><td>suzana.loshkovska@finki.ukim.mk</td><td>2</td></tr><tr><td>4</td><td>Коста</td><td>Митрески</td><td>kosta.mitreski@finki.ukim.mk</td><td>4</td></tr><tr><td>5</td><td>Верица</td><td>Бакева</td><td>verica.bakeva@finki.ukim.mk</td><td>6</td></tr><tr><td>6</td><td>Владимир</td><td>Трајковиќ</td><td>vladimir.trajkovik@finki.ukim.mk</td><td>4</td></tr><tr><td>7</td><td>Ана</td><td>Мадевска Богданова</td><td>ana.madevska@finki.ukim.mk</td><td>5</td></tr><tr><td>8</td><td>Дејан</td><td>Ѓорѓевиќ</td><td>dejan.gjorgjevikj@finki.ukim.mk</td><td>4</td></tr><tr><td>9</td><td>Димитар</td><td>Трајанов</td><td>dimitar.trajanov@finki.ukim.mk</td><td>4</td></tr><tr><td>10</td><td>Андреа</td><td>Кулаков</td><td>andrea.kulakov@finki.ukim.mk</td><td>1</td></tr><tr><td>11</td><td>Љупчо</td><td>Антовски</td><td>ljupcho.antovski@finki.ukim.mk</td><td>6</td></tr><tr><td>12</td><td>Марија</td><td>Михова</td><td>marija.mihova@finki.ukim.mk</td><td>6</td></tr><tr><td>13</td><td>Слободан</td><td>Калајџиски</td><td>slobodan.kalajdziski@finki.ukim.mk</td><td>4</td></tr><tr><td>14</td><td>Невена</td><td>Ацковска</td><td>nevena.ackovska@finki.ukim.mk</td><td>5</td></tr><tr><td>15</td><td>Горан</td><td>Велинов</td><td>goran.velinov@finki.ukim.mk</td><td>2</td></tr><tr><td>16</td><td>Анастас</td><td>Мишев</td><td>anastas.mishev@finki.ukim.mk</td><td>5</td></tr><tr><td>17</td><td>Соња</td><td>Филипоска</td><td>sonja.filiposka@finki.ukim.mk</td><td>7</td></tr><tr><td>18</td><td>Иван</td><td>Чорбев</td><td>ivan.chorbev@finki.ukim.mk</td><td>4</td></tr><tr><td>19</td><td>Ласко</td><td>Баснарков</td><td>lasko.basnarkov@finki.ukim.mk</td><td>4</td></tr><tr><td>20</td><td>Боро</td><td>Јакимовски</td><td>boro.jakimovski@finki.ukim.mk</td><td>4</td></tr><tr><td>21</td><td>Весна</td><td>Димитрова</td><td>vesna.dimitrova@finki.ukim.mk</td><td>4</td></tr><tr><td>22</td><td>Гоце</td><td>Арменски</td><td>goce.armenski@finki.ukim.mk</td><td>4</td></tr><tr><td>23</td><td>Соња</td><td>Гиевска</td><td>sonja.gievska@finki.ukim.mk</td><td>4</td></tr><tr><td>24</td><td>Дејан</td><td>Спасов</td><td>dejan.spasov@finki.ukim.mk</td><td>6</td></tr><tr><td>25</td><td>Ивица</td><td>Димитровски</td><td>ivica.dimitrovski@finki.ukim.mk</td><td>3</td></tr><tr><td>26</td><td>Игор</td><td>Мишковски</td><td>igor.mishkovski@finki.ukim.mk</td><td>4</td></tr><tr><td>27</td><td>Ѓорѓи</td><td>Маџаров</td><td>gjorgji.madjarov@finki.ukim.mk</td><td>4</td></tr><tr><td>28</td><td>Смилка</td><td>Јанеска-Саркањац</td><td>smilka.janeska.sarkanjac@finki.ukim.mk</td><td>3</td></tr><tr><td>29</td><td>Вангел</td><td>Ајановски</td><td>vangel.ajanovski@finki.ukim.mk</td><td>1</td></tr><tr><td>30</td><td>Весна</td><td>Димитриевска Ристовска</td><td>vesna.dimitrievska.ristovska@finki.ukim.mk</td><td>7</td></tr><tr><td>31</td><td>Миле</td><td>Јованов</td><td>mile.jovanov@finki.ukim.mk</td><td>7</td></tr><tr><td>32</td><td>Билјана</td><td>Стојкоска</td><td>biljana.stojkoska@finki.ukim.mk</td><td>6</td></tr><tr><td>33</td><td>Кире</td><td>Триводалиев</td><td>kire.trivodaliev@finki.ukim.mk</td><td>5</td></tr><tr><td>34</td><td>Сашо</td><td>Граматиков</td><td>sasho.gramatikov@finki.ukim.mk</td><td>5</td></tr><tr><td>35</td><td>Мирослав</td><td>Мирчев</td><td>miroslav.mirchev@finki.ukim.mk</td><td>4</td></tr><tr><td>36</td><td>Георгина</td><td>Мирчева</td><td>georgina.mircheva@finki.ukim.mk</td><td>5</td></tr><tr><td>37</td><td>Магдалена</td><td>Костоска</td><td>magdalena.kostoska@finki.ukim.mk</td><td>4</td></tr><tr><td>38</td><td>Александра</td><td>Поповска Митровиќ</td><td>aleksandra.popovska.mitrovikj@finki.ukim.mk</td><td>7</td></tr><tr><td>39</td><td>Наташа</td><td>Илиевска</td><td>natasha.ilievska@finki.ukim.mk</td><td>8</td></tr><tr><td>40</td><td>Билјана</td><td>Тојтовска</td><td>biljana.tojtovska@finki.ukim.mk</td><td>6</td></tr><tr><td>41</td><td>Милош</td><td>Јовановиќ</td><td>milos.jovanovik@finki.ukim.mk</td><td>4</td></tr><tr><td>42</td><td>Андреја</td><td>Наумоски</td><td>andreja.naumoski@finki.ukim.mk</td><td>3</td></tr><tr><td>43</td><td>Панче</td><td>Рибарски</td><td>pance.ribarski@finki.ukim.mk</td><td>4</td></tr><tr><td>44</td><td>Христина</td><td>Михајлоска</td><td>hristina.mihajloska@finki.ukim.mk</td><td>5</td></tr><tr><td>45</td><td>Иван</td><td>Китановски</td><td>ivan.kitanovski@finki.ukim.mk</td><td>4</td></tr><tr><td>46</td><td>Ефтим</td><td>Здравевски</td><td>eftim.zdravevski@finki.ukim.mk</td><td>2</td></tr><tr><td>47</td><td>Петре</td><td>Ламески</td><td>petre.lameski@finki.ukim.mk</td><td>3</td></tr><tr><td>48</td><td>Катарина</td><td>Тројачанец Динева</td><td>katarina.trojacanec@finki.ukim.mk</td><td>0</td></tr><tr><td>49</td><td>Владимир</td><td>Здравески</td><td>vladimir.zdraveski@finki.ukim.mk</td><td>5</td></tr><tr><td>50</td><td>Бојана</td><td>Котеска</td><td>bojana.koteska@finki.ukim.mk</td><td>0</td></tr><tr><td>51</td><td>Моника</td><td>Симјаноска</td><td>monika.simjanoska@finki.ukim.mk</td><td>0</td></tr><tr><td>52</td><td>Методија</td><td>Јанчески</td><td>metodija.jancheski@finki.ukim.mk</td><td>0</td></tr><tr><td>53</td><td>Ристе</td><td>Стојанов</td><td>riste.stojanov@finki.ukim.mk</td><td>0</td></tr><tr><td>54</td><td>Александра</td><td>Дединец</td><td>aleksandra.dedinec@finki.ukim.mk</td><td>4</td></tr><tr><td>55</td><td>Емил</td><td>Станков</td><td>emil.stankov@finki.ukim.mk</td><td>0</td></tr><tr><td>56</td><td>Борис</td><td>Станоев</td><td>boris.stanoev@finki.ukim.mk</td><td>0</td></tr><tr><td>57</td><td>Бобан</td><td>Јоксимоски</td><td>boban.joksimoski@finki.ukim.mk</td><td>0</td></tr><tr><td>58</td><td>Илинка</td><td>Иваноска</td><td>ilinka.ivanoska@finki.ukim.mk</td><td>0</td></tr><tr><td>59</td><td>Бојан</td><td>Илијоски</td><td>bojan.ilijoski@finki.ukim.mk</td><td>0</td></tr><tr><td>60</td><td>Костадин</td><td>Мишев</td><td>kostadin.mishev@finki.ukim.mk</td><td>0</td></tr><tr><td>61</td><td>Александар</td><td>Тенев</td><td>aleksandar.tenev@finki.ukim.mk</td><td>0</td></tr><tr><td>62</td><td>Александар</td><td>Стојменски</td><td>aleksandar.stojmenski@finki.ukim.mk</td><td>0</td></tr><tr><td>63</td><td>Ненад</td><td>Анчев</td><td>nenad.anchev@finki.ukim.mk</td><td>0</td></tr><tr><td>64</td><td>Војдан</td><td>Ќорвезироски</td><td>vojdan.kjorveziroski@finki.ukim.mk</td><td>0</td></tr><tr><td>65</td><td>Мартина</td><td>Тошевска</td><td>martina.toshevska@finki.ukim.mk</td><td>0</td></tr><tr><td>66</td><td>Влатко</td><td>Спасев</td><td>vlatko.spasev@finki.ukim.mk</td><td>0</td></tr><tr><td>67</td><td>Петар</td><td>Секулоски</td><td>petar.sekuloski@finki.ukim.mk</td><td>0</td></tr><tr><td>68</td><td>Стефан</td><td>Андонов</td><td>stefan.andonov@finki.ukim.mk</td><td>0</td></tr><tr><td>69</td><td>Кирил</td><td>Ќироски</td><td>kiril.kjiroski@finki.ukim.mk</td><td>0</td></tr><tr><td>70</td><td>Ана</td><td>Тодоровска</td><td>ana.todorovska@finki.ukim.mk</td><td>0</td></tr><tr><td>71</td><td>Јована</td><td>Добрева</td><td>jovana.dobreva@finki.ukim.mk</td><td>0</td></tr><tr><td>72</td><td>Јана</td><td>Кузманова</td><td>jana.kuzmanova@finki.ukim.mk</td><td>0</td></tr><tr><td>73</td><td>Димитар</td><td>Китановски</td><td>dimitar.kitanovski@finki.ukim.mk</td><td>0</td></tr><tr><td>74</td><td>Томе</td><td>Ефтимов</td><td>tome.eftimov@finki.ukim.mk</td><td>0</td></tr><tr><td>75</td><td>Андреј</td><td>Ристески</td><td>andrej.risteski@finki.ukim.mk</td><td>0</td></tr><tr><td>76</td><td>Славе</td><td>Темков</td><td>slave.temkov@finki.ukim.mk</td><td>0</td></tr><tr><td>77</td><td>Милена</td><td>Трајаноска</td><td>milena.trajanoska@finki.ukim.mk</td><td>0</td></tr><tr><td>78</td><td>Живко</td><td>Атанаскоски</td><td>zhivko.atanaskoski@finki.ukim.mk</td><td>0</td></tr><tr><td>79</td><td>Димитар</td><td>Милески</td><td>dimitar.mileski@finki.ukim.mk</td><td>0</td></tr><tr><td>80</td><td>Зорица</td><td>Карапанчева</td><td>zorica.karapancheva@finki.ukim.mk</td><td>0</td></tr><tr><td>81</td><td>Марија</td><td>Танеска</td><td>marija.taneska@finki.ukim.mk</td><td>0</td></tr><tr><td>82</td><td>Мила</td><td>Додевска</td><td>mila.dodevska@finki.ukim.mk</td><td>0</td></tr><tr><td>83</td><td>Ана</td><td>Атанасова</td><td>ana.atanasova@finki.ukim.mk</td><td>0</td></tr><tr><td>84</td><td>Александар</td><td>Петрушев</td><td>aleksandar.petrushev@finki.ukim.mk</td><td>0</td></tr><tr><td>85</td><td>Мартин</td><td>Динев</td><td>martin.dinev@finki.ukim.mk</td><td>0</td></tr><tr><td>86</td><td>Владислав</td><td>Бидиков</td><td>vladislav.bidikov@finki.ukim.mk</td><td>0</td></tr></table>"
     },
     "metadata": {}
    }
   ],
   "execution_count": 91
  },
  {
   "cell_type": "markdown",
   "source": [
    "> ## 4.2. Adding new tables with different statistics calculated based on the other tables' values"
   ],
   "metadata": {
    "language": "sql",
    "azdata_cell_guid": "255db026-ccb9-44e4-8d09-f6d379713cef"
   },
   "attachments": {}
  },
  {
   "cell_type": "code",
   "source": [
    "DROP TABLE ProfessorsStatistics, CourseStatistics, StudiesStatistics\n",
    "\n",
    "CREATE TABLE ProfessorsStatistics (\n",
    "    calculationSequenceCode INT PRIMARY KEY,\n",
    "    totalNumberOfProfessors INT,\n",
    "    avgNumOfMandatoryCoursesPerProfessor FLOAT,\n",
    ");\n",
    "\n",
    "CREATE TABLE CourseStatistics (\n",
    "    calculationSequenceCode INT PRIMARY KEY,\n",
    "    totalNumberOfCourses INT,\n",
    "    mandatoryCoursesCount INT,\n",
    "    electiveCoursesCount INT,\n",
    ")\n",
    "\n",
    "CREATE TABLE StudiesStatistics (\n",
    "    calculationSequenceCode INT PRIMARY KEY,\n",
    "    totalNumberOfStudies INT,\n",
    "    avgNumMandatoryCoursesPerSemester FLOAT,\n",
    "    totalNumberOfThreeYearStudies INT,\n",
    "    totalNumberOfFourYearStudies INT\n",
    ")"
   ],
   "metadata": {
    "azdata_cell_guid": "34a0b357-057e-48f3-9787-786e3af6a18e",
    "language": "sql"
   },
   "outputs": [
    {
     "output_type": "display_data",
     "data": {
      "text/html": "Commands completed successfully."
     },
     "metadata": {}
    },
    {
     "output_type": "display_data",
     "data": {
      "text/html": "Total execution time: 00:00:00.072"
     },
     "metadata": {}
    }
   ],
   "execution_count": 125
  },
  {
   "cell_type": "code",
   "source": [
    "DECLARE @Count INT;\n",
    "DECLARE @profCount INT;\n",
    "DECLARE @avgMandatoryCourses INT;\n",
    "DECLARE @max INT;\n",
    "\n",
    "SELECT @Count = COUNT(*)\n",
    "FROM ProfessorsStatistics;\n",
    "\n",
    "SELECT @max = MAX(calculationSequenceCode) \n",
    "FROM ProfessorsStatistics;\n",
    "\n",
    "SELECT @profCount = totalNumberOfProfessors,\n",
    "       @avgMandatoryCourses = avgNumOfMandatoryCoursesPerProfessor\n",
    "FROM ProfessorsStatistics\n",
    "WHERE calculationSequenceCode = @max;\n",
    "\n",
    "IF (@Count = 0)\n",
    "BEGIN\n",
    "    INSERT INTO ProfessorsStatistics (calculationSequenceCode) VALUES (0);\n",
    "END\n",
    "ELSE IF (@Count != 0 AND @profCount IS NOT NULL AND @avgMandatoryCourses IS NOT NULL)\n",
    "BEGIN\n",
    "    INSERT INTO ProfessorsStatistics (calculationSequenceCode) VALUES (@max + 1);\n",
    "END;"
   ],
   "metadata": {
    "language": "sql",
    "azdata_cell_guid": "e7c89868-bfb1-422c-9ed6-2cc68f34c75b"
   },
   "outputs": [
    {
     "output_type": "display_data",
     "data": {
      "text/html": "(1 row affected)"
     },
     "metadata": {}
    },
    {
     "output_type": "display_data",
     "data": {
      "text/html": "Total execution time: 00:00:00.010"
     },
     "metadata": {}
    }
   ],
   "execution_count": 126
  },
  {
   "cell_type": "code",
   "source": [
    "DECLARE @max INT;\n",
    "\n",
    "SELECT @max = MAX(calculationSequenceCode) \n",
    "FROM ProfessorsStatistics;\n",
    "\n",
    "UPDATE ProfessorsStatistics \n",
    "SET avgNumOfMandatoryCoursesPerProfessor = (SELECT AVG(numberOfCourses) FROM Professors),\n",
    "    totalNumberOfProfessors = (SELECT COUNT(profCode) FROM Professors)\n",
    "WHERE calculationSequenceCode = @max;\n",
    "\n",
    "SELECT * FROM ProfessorsStatistics;"
   ],
   "metadata": {
    "language": "sql",
    "azdata_cell_guid": "93ac7395-8a4e-41da-9a51-bb9eff6b9e83"
   },
   "outputs": [
    {
     "output_type": "display_data",
     "data": {
      "text/html": "(1 row affected)"
     },
     "metadata": {}
    },
    {
     "output_type": "display_data",
     "data": {
      "text/html": "(1 row affected)"
     },
     "metadata": {}
    },
    {
     "output_type": "display_data",
     "data": {
      "text/html": "Total execution time: 00:00:00.072"
     },
     "metadata": {}
    },
    {
     "output_type": "execute_result",
     "execution_count": 127,
     "data": {
      "application/vnd.dataresource+json": {
       "schema": {
        "fields": [
         {
          "name": "calculationSequenceCode"
         },
         {
          "name": "totalNumberOfProfessors"
         },
         {
          "name": "avgNumOfMandatoryCoursesPerProfessor"
         }
        ]
       },
       "data": [
        {
         "calculationSequenceCode": "0",
         "totalNumberOfProfessors": "86",
         "avgNumOfMandatoryCoursesPerProfessor": "2"
        }
       ]
      },
      "text/html": "<table><tr><th>calculationSequenceCode</th><th>totalNumberOfProfessors</th><th>avgNumOfMandatoryCoursesPerProfessor</th></tr><tr><td>0</td><td>86</td><td>2</td></tr></table>"
     },
     "metadata": {}
    }
   ],
   "execution_count": 127
  },
  {
   "cell_type": "code",
   "source": [
    "DECLARE @count INT;\n",
    "DECLARE @lastCalculationSeqCode INT;\n",
    "DECLARE @totalNumberOfCourses INT;\n",
    "DECLARE @mandatoryCoursesCount INT;\n",
    "DECLARE @electiveCoursesCount INT;\n",
    "\n",
    "SELECT @Count = COUNT(*)\n",
    "FROM CourseStatistics;\n",
    "\n",
    "SELECT @lastCalculationSeqCode = MAX(calculationSequenceCode) \n",
    "FROM CourseStatistics;\n",
    "\n",
    "SELECT @totalNumberOfCourses = totalNumberOfCourses,\n",
    "       @mandatoryCoursesCount = mandatoryCoursesCount,\n",
    "       @electiveCoursesCount = electiveCoursesCount\n",
    "FROM CourseStatistics\n",
    "WHERE calculationSequenceCode = @lastCalculationSeqCode;\n",
    "\n",
    "IF (@Count = 0)\n",
    "BEGIN\n",
    "    INSERT INTO CourseStatistics (calculationSequenceCode) VALUES (0);\n",
    "END\n",
    "ELSE IF (@Count != 0 AND @totalNumberOfCourses IS NOT NULL AND @mandatoryCoursesCount IS NOT NULL AND @electiveCoursesCount IS NOT NULL)\n",
    "BEGIN\n",
    "    INSERT INTO CourseStatistics (calculationSequenceCode) VALUES (@lastCalculationSeqCode + 1);\n",
    "END;"
   ],
   "metadata": {
    "language": "sql",
    "azdata_cell_guid": "899febb9-9b73-4ad0-82f2-ec7eb6405823"
   },
   "outputs": [
    {
     "output_type": "display_data",
     "data": {
      "text/html": "Commands completed successfully."
     },
     "metadata": {}
    },
    {
     "output_type": "display_data",
     "data": {
      "text/html": "Total execution time: 00:00:00.048"
     },
     "metadata": {}
    }
   ],
   "execution_count": 129
  },
  {
   "cell_type": "code",
   "source": [
    "DECLARE @lastCalculationSeqCode INT;\n",
    "\n",
    "SELECT @lastCalculationSeqCode = MAX(calculationSequenceCode) \n",
    "FROM CourseStatistics;\n",
    "\n",
    "UPDATE CourseStatistics \n",
    "SET totalNumberOfCourses = (SELECT COUNT(coursesCode) FROM Courses),\n",
    "    mandatoryCoursesCount = (SELECT COUNT(profCode) FROM Professors)\n",
    "WHERE calculationSequenceCode = @max;\n",
    "SELECT * FROM ProfessorsStatistics;"
   ],
   "metadata": {
    "language": "sql",
    "azdata_cell_guid": "5bbeba55-e60c-4733-83ec-4d1c5de8b037"
   },
   "outputs": [],
   "execution_count": null
  }
 ]
}
